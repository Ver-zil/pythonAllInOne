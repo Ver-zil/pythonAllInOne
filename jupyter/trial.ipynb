{
 "cells": [
  {
   "cell_type": "markdown",
   "id": "9c19e14d",
   "metadata": {},
   "source": [
    "# **Trial**"
   ]
  },
  {
   "cell_type": "code",
   "execution_count": 1,
   "id": "bfc615ae",
   "metadata": {
    "ExecuteTime": {
     "end_time": "2024-05-03T06:37:02.399222Z",
     "start_time": "2024-05-03T06:37:01.130549Z"
    }
   },
   "outputs": [],
   "source": [
    "import json\n",
    "import jieba\n",
    "import numpy as np\n",
    "import matplotlib.pyplot as plt\n",
    "import matplotlib\n",
    "\n",
    "from gensim.models.ldamodel import LdaModel\n",
    "from gensim import corpora, models\n",
    "from collections import defaultdict\n",
    "\n",
    "import torch\n",
    "import torch.nn as nn\n",
    "from torch.utils.data import DataLoader, TensorDataset\n",
    "from torch.autograd import Variable\n",
    "from transformers import BertModel, BertTokenizer"
   ]
  },
  {
   "cell_type": "code",
   "execution_count": 2,
   "id": "a34d215f-8c76-4dfd-a077-0b03284c4ee7",
   "metadata": {
    "tags": []
   },
   "outputs": [
    {
     "data": {
      "text/plain": [
       "['22年入市，昨天早上几乎最高位离场，达到预期收益就收手，纪律性是对抗贪婪本性的唯一办法[OK]',\n",
       " '今天已经暴跌了，但是我认为下午会有国家队。。。这才第二天就砸盘这么猛，主力有点不给面子了，盲猜收盘之前会翻红，但是也让散户看明白了，什么政策什么经济复苏，还是那套玩意，就是嘎散户的钱，盲目入坑的绝对冷静了[doge_金箍]反正我是没入，不亏就是赚了',\n",
       " '昨天在店内一边吃鸡翅一边用手机看股票。一个乞丐进来乞讨，我给他一块鸡翅后继续看股票。乞丐啃着鸡翅没走，也在一旁看着，他说：“长期均线金叉，KDJ数值底部反复钝化，MACD底背离，能量潮喇叭口扩大，这股要涨了。”我惊诧地问：“这个你也懂？” 乞丐说：“不懂我能有今天？”',\n",
       " '几天的大阳线把股民们以前的记忆都干没了[doge]，你们根本不知道有多疯狂，我一个从未接触过股票的朋友都开户来问我怎么玩了，你可知道他竟然连板块都不会找股票代码什么是沪深的也不知道就投了几万块进去',\n",
       " '经历2008年股灾的老人回忆到，股市有政策底，还有市场底。政策到位，上涨一轮，引人下场后再跌停，让你来不及逃生。我巨亏40%，狠狠心抛了，逃过了后面的下跌。',\n",
       " '一个特别微观又直观的例子：大家可以看下各银行的大额存单转让区，这里基本都是居民存款，节前转让收益率上升了10-20bp。说明这轮行情真真实实的撬动了银行存款，之前那么多zc没办到的事情这次竟然办到了。',\n",
       " '我始终坚信，一个赌场般的市场，绝对不会让大多数人赚到钱。',\n",
       " '今天已经开始技术性回调了[脱单doge]',\n",
       " '别人都是看涨，导致目前赛道过于拥挤。而老王直接看空，以此来安慰没上车的群体，别出心裁、另辟蹊径。看似在谈经济，实则在玩自媒体。老王高啊[支持]',\n",
       " '无论是涨是跌，最终能赚到并且保住这些钱的人都是极少数人，关键在于能不能清晰地认识到在这些人里面包不包括自己。',\n",
       " '我重申一下：股市是穷人最少的地方，中产最多的地方。\\n在股市放水，造成的结果就是，中产变成富人，穷人还是穷人。\\n【Doge】动动猪脑子想想，穷人能有多少钱玩？万儿八千，好点的十万八万，顶天了。\\n富人可是百万千万。\\n股市翻一倍，富人100万变200万，穷人5万变10万。\\n\\n 贫富差距增加了 = 最终贫富差距 - 初始贫富差距 = 190万 - 95万 = 95万\\n\\n因此。\\n贫富差距增加了95万！！这表明，尽管穷人的财富也增加了，但富人财富的增加比例更大，导致贫富差距扩大，你告诉我这是在放水？',\n",
       " '记住，中国玩股票的人，不到10个点。\\n所以中国股市从来就不能反应中国经济。\\nA股从来就是一个赌字。\\n别指望分析有什么用',\n",
       " '你涨，我也不会买，你跌，我只会笑哈哈',\n",
       " '[喜极而泣]曾经做空能赚钱，我连开户资格都没有',\n",
       " '当我这种完全不关注、圈子和股票完全没交集的人也刷到了股市的视频....[微笑]',\n",
       " '最后几句话精辟，如果拜佛有用，你庙门都进不去。如果种地能致富，那农民将无地可种。如果股票能赚钱，你连证劵账户都开不了。社会的基本规律[doge]',\n",
       " '不懂，不买，祝福。',\n",
       " '别参照519行情，一个最大的区别就是那时就算在高位接盘了后来也是真的能解套，现在要是高位接盘那就套一辈子',\n",
       " '别人恐惧我贪婪，满仓！[doge]',\n",
       " '为什么大多数散户在牛市中你也赚不了钱？因为你是人，你克服不了人性的贪婪和恐惧，你总想着你能逃顶，事实上给你多少次机会，你都逃不了。\\n举个例子：你在3000点买入，接下来大盘连续疯涨到3600点，你浮盈大概20%，这时候来几根大阴线调整，你连忙卖出，让你损失了5%的利润。调整几天后，继续涨到3700点，因为贪婪，你又满仓进来，接下来一路涨到4000点。开始新一轮调整，有了上次的教训，你不再轻易抛出筹码，果然，调整到3800点后继续上涨到4200点，这时候你把手里的仅有的子弹也打了进去，甚至开始借钱融资。接下来大盘上涨到4300点后开始开始调整，你还是维持你上次的判断，只是良性调整，结果开始大幅下杀，你因为一直加仓，有些个股甚至开始亏损，仅仅一天让你的利润没了一半，你心态崩了，你不认输，因为你觉得卖出去了就彻底没希望了，然后第二天开盘继续杀，你觉得已经大跌两天了，等明天反弹了你就逃，结果第三天继续跌，你的利润全没了。\\n\\n所有人都觉得别人贪婪时我恐惧，别人恐惧时我贪婪，事实上别人贪婪时你更贪婪，别人恐惧时不更恐惧。\\n\\n在股市里改变一个人，只需要三根大阴线。']"
      ]
     },
     "execution_count": 2,
     "metadata": {},
     "output_type": "execute_result"
    }
   ],
   "source": [
    "json_path = r'C:\\Users\\11435\\Desktop\\clutter\\research\\data\\stock\\BV1LuxZeVE25.json'\n",
    "\n",
    "with open(json_path, 'r', encoding='utf-8') as file:\n",
    "    # 加载 JSON 数据\n",
    "    data = json.load(file)\n",
    "    \n",
    "doc_data = [info['review'] for info in data]\n",
    "doc_data"
   ]
  },
  {
   "cell_type": "code",
   "execution_count": 3,
   "id": "1cd85988-a1a6-4c28-99ef-df85d9c577b8",
   "metadata": {
    "tags": []
   },
   "outputs": [
    {
     "name": "stderr",
     "output_type": "stream",
     "text": [
      "Building prefix dict from the default dictionary ...\n",
      "Loading model from cache C:\\Users\\11435\\AppData\\Local\\Temp\\jieba.cache\n",
      "Loading model cost 0.504 seconds.\n",
      "Prefix dict has been built successfully.\n"
     ]
    }
   ],
   "source": [
    "# 读取停用词，并去停用词\n",
    "stopwords_path1 = r'C:\\Users\\11435\\Desktop\\clutter\\research\\data\\corpus\\stopwords_scu.txt'\n",
    "with open(stopwords_path1, 'r', encoding='utf-8') as f:\n",
    "    stopwords1 = set([line.strip() for line in f])\n",
    "\n",
    "stopwords_path2 = r'C:\\Users\\11435\\Desktop\\clutter\\research\\data\\corpus\\stopwords_hit.txt'\n",
    "with open(stopwords_path2, 'r', encoding='utf-8') as f:\n",
    "    stopwords2 = set([line.strip() for line in f])\n",
    "\n",
    "stopwords = stopwords1.union(stopwords2)\n",
    "\n",
    "texts = []\n",
    "for doc in doc_data:\n",
    "    words = jieba.cut(doc)\n",
    "    filter_words = [word for word in words if word not in stopwords and word.strip() != '']\n",
    "    texts.append(filter_words)"
   ]
  },
  {
   "cell_type": "code",
   "execution_count": 4,
   "id": "9ae832eb-7c6c-48e3-9edd-803cffd5066b",
   "metadata": {
    "tags": []
   },
   "outputs": [],
   "source": [
    "# 过滤频次\n",
    "FREQ_LIMIT = 1\n",
    "frequency = defaultdict(int)\n",
    "for text in texts:\n",
    "    for token in text:\n",
    "        frequency[token] += 1\n",
    "texts = [[token for token in text if frequency[token] > FREQ_LIMIT]for text in texts]"
   ]
  },
  {
   "cell_type": "code",
   "execution_count": 5,
   "id": "4bad7db8-5739-4005-83a8-7d44ca6dd8fb",
   "metadata": {
    "tags": []
   },
   "outputs": [],
   "source": [
    "# 构建词典和语料库\n",
    "dictionary = corpora.Dictionary(texts)\n",
    "corpus = [dictionary.doc2bow(text) for text in texts]"
   ]
  },
  {
   "cell_type": "code",
   "execution_count": 6,
   "id": "da1790c9-5497-44ef-a437-9d309c2f1bc3",
   "metadata": {
    "tags": []
   },
   "outputs": [
    {
     "name": "stdout",
     "output_type": "stream",
     "text": [
      "Number of Topics: 2, Perplexity: -4.523738746531308\n",
      "Number of Topics: 3, Perplexity: -4.55726279062219\n",
      "Number of Topics: 4, Perplexity: -4.488229854032397\n",
      "Number of Topics: 5, Perplexity: -4.525263579795137\n",
      "Number of Topics: 6, Perplexity: -4.49866301426664\n",
      "Number of Topics: 7, Perplexity: -4.5526154530234635\n",
      "Number of Topics: 8, Perplexity: -4.5836647662799805\n",
      "Number of Topics: 9, Perplexity: -4.666694604791701\n",
      "Number of Topics: 10, Perplexity: -4.661523489980027\n",
      "Number of Topics: 11, Perplexity: -4.604664154583588\n",
      "Number of Topics: 12, Perplexity: -4.731867375550792\n",
      "Number of Topics: 13, Perplexity: -4.762198238633573\n",
      "Number of Topics: 14, Perplexity: -4.770978930406272\n",
      "Number of Topics: 15, Perplexity: -4.691590656293556\n",
      "Number of Topics: 16, Perplexity: -4.841862112982199\n",
      "Number of Topics: 17, Perplexity: -4.863777047488838\n",
      "Number of Topics: 18, Perplexity: -4.809053752804175\n",
      "Number of Topics: 19, Perplexity: -4.811820663278922\n",
      "Number of Topics: 20, Perplexity: -4.795252577401698\n",
      "Best number of topics: 17\n"
     ]
    }
   ],
   "source": [
    "# 训练多个LDA模型，并计算每个模型的困惑度\n",
    "models_perplexity = []\n",
    "num_topics_range = range(2, 21)  # 从2到20个主题\n",
    "\n",
    "for num_topics in num_topics_range:\n",
    "    lda_model = models.LdaModel(corpus, num_topics=num_topics, id2word=dictionary, passes=10)\n",
    "    perplexity = lda_model.log_perplexity(corpus)\n",
    "    models_perplexity.append((num_topics, perplexity))\n",
    "\n",
    "# 打印每个模型的主题数和困惑度\n",
    "for num_topics, perplexity in models_perplexity:\n",
    "    print(f\"Number of Topics: {num_topics}, Perplexity: {perplexity}\")\n",
    "\n",
    "# 选择困惑度最低的模型\n",
    "best_num_topics = min(models_perplexity, key=lambda x: x[1])[0]\n",
    "print(f\"Best number of topics: {best_num_topics}\")"
   ]
  },
  {
   "cell_type": "code",
   "execution_count": 7,
   "id": "7d81c9a3-aa62-4cf0-ba7e-f84e69eae92d",
   "metadata": {
    "tags": []
   },
   "outputs": [
    {
     "data": {
      "text/plain": [
       "[<matplotlib.lines.Line2D at 0x1d8081be910>,\n",
       " <matplotlib.lines.Line2D at 0x1d8081be970>]"
      ]
     },
     "execution_count": 7,
     "metadata": {},
     "output_type": "execute_result"
    },
    {
     "data": {
      "image/png": "[encoded data removed]",
      "text/plain": [
       "<Figure size 640x480 with 1 Axes>"
      ]
     },
     "metadata": {},
     "output_type": "display_data"
    }
   ],
   "source": [
    "plt.plot(models_perplexity)"
   ]
  },
  {
   "cell_type": "code",
   "execution_count": 8,
   "id": "eb663406-0b36-471f-b1fa-f1618d4de334",
   "metadata": {
    "tags": []
   },
   "outputs": [],
   "source": [
    "num_topic = 5\n",
    "lda = models.LdaModel(corpus, num_topics=num_topic, id2word=dictionary, passes=15)"
   ]
  },
  {
   "cell_type": "code",
   "execution_count": 9,
   "id": "72f89bf8-1d84-4f4f-a26c-dc6ad5b8f7f8",
   "metadata": {
    "tags": []
   },
   "outputs": [
    {
     "name": "stdout",
     "output_type": "stream",
     "text": [
      "Coherence Score:  0.5530402815315841\n"
     ]
    }
   ],
   "source": [
    "from gensim.models.coherencemodel import CoherenceModel\n",
    "\n",
    "# 计算主题一致性\n",
    "coherence_model = CoherenceModel(model=lda_model, texts=texts, dictionary=dictionary, coherence='c_v')\n",
    "coherence_score = coherence_model.get_coherence()\n",
    "\n",
    "print('Coherence Score: ', coherence_score)"
   ]
  },
  {
   "cell_type": "code",
   "execution_count": 10,
   "id": "d307cd62-1798-4f22-a593-8ffe4803e0b0",
   "metadata": {
    "tags": []
   },
   "outputs": [
    {
     "data": {
      "text/plain": [
       "-10.886810756384701"
      ]
     },
     "execution_count": 10,
     "metadata": {},
     "output_type": "execute_result"
    }
   ],
   "source": [
    "CoherenceModel(model=lda_model, texts=texts, dictionary=dictionary, coherence='u_mass').get_coherence()"
   ]
  },
  {
   "cell_type": "code",
   "execution_count": 52,
   "id": "3387b1ea",
   "metadata": {
    "ExecuteTime": {
     "end_time": "2024-05-03T06:37:19.467595Z",
     "start_time": "2024-05-03T06:37:19.445593Z"
    }
   },
   "outputs": [],
   "source": [
    "def topic_data_fill(topic_distribution, topic_num):\n",
    "    features = []\n",
    "    if len(topic_distribution) < topic_num:\n",
    "        features = np.zeros(topic_num).tolist()\n",
    "        for topic in topic_distribution:\n",
    "            features[topic[0]] = topic[1]\n",
    "    else:\n",
    "        features = [topic[1] for topic in topic_distribution]\n",
    "    return features\n",
    "\n",
    "# 提取主题向量\n",
    "lda_features = []\n",
    "for document in corpus:\n",
    "    topic_distribution = lda.get_document_topics(document)\n",
    "    lda_features.append(topic_data_fill(topic_distribution, 5))"
   ]
  },
  {
   "cell_type": "code",
   "execution_count": 29,
   "id": "99fb7c13-92c5-4cf0-858d-85f53cd163c6",
   "metadata": {
    "jp-MarkdownHeadingCollapsed": true,
    "tags": []
   },
   "outputs": [
    {
     "name": "stdout",
     "output_type": "stream",
     "text": [
      "(0, '0.072*\"万\" + 0.072*\"穷人\" + 0.060*\"贫富差距\" + 0.048*\"增加\"')\n",
      "(1, '0.048*\"经济\" + 0.048*\"散户\" + 0.048*\"高位\" + 0.048*\"接盘\"')\n",
      "(2, '0.077*\"贪婪\" + 0.058*\"调整\" + 0.058*\"恐惧\" + 0.049*\"点\"')\n",
      "(3, '0.109*\"doge\" + 0.084*\"都\" + 0.046*\"赚钱\" + 0.046*\"涨\"')\n",
      "(4, '0.076*\"都\" + 0.061*\"不\" + 0.061*\"人\" + 0.047*\"没\"')\n"
     ]
    }
   ],
   "source": [
    "topics = lda.print_topics(num_words=4)\n",
    "for topic in topics:\n",
    "    print(topic)"
   ]
  },
  {
   "cell_type": "code",
   "execution_count": 56,
   "id": "bbd83399",
   "metadata": {
    "ExecuteTime": {
     "end_time": "2024-05-03T06:38:02.928187Z",
     "start_time": "2024-05-03T06:38:02.912987Z"
    },
    "tags": []
   },
   "outputs": [],
   "source": [
    "# 检测程序\n",
    "for idx, features in enumerate(lda_features):\n",
    "    if len(features) < 5:\n",
    "        print(idx)"
   ]
  },
  {
   "cell_type": "code",
   "execution_count": 53,
   "id": "2af06009-73e3-4951-a818-db001f673d5a",
   "metadata": {
    "tags": []
   },
   "outputs": [
    {
     "data": {
      "text/plain": [
       "[[0.0666713, 0.066675246, 0.7332992, 0.06668146, 0.06667282],\n",
       " [0.014358741, 0.9422135, 0.014374056, 0.014582295, 0.014471464],\n",
       " [0.9675566, 0.0, 0.0, 0.0, 0.0],\n",
       " [0.01336838, 0.013522732, 0.013396139, 0.0136795435, 0.9460332],\n",
       " [0.022514543, 0.022406977, 0.91019, 0.022232354, 0.022656156],\n",
       " [0.018209958, 0.018394316, 0.018244436, 0.018232977, 0.92691827],\n",
       " [0.03339818, 0.033581927, 0.033783875, 0.03334335, 0.86589265],\n",
       " [0.050142616, 0.050672363, 0.05012305, 0.7990039, 0.050058074],\n",
       " [0.025153475, 0.89887404, 0.025136646, 0.025176534, 0.025659302],\n",
       " [0.0223808, 0.022420384, 0.022389313, 0.022754857, 0.9100546],\n",
       " [0.983284, 0.0, 0.0, 0.0, 0.0],\n",
       " [0.020148303, 0.020268064, 0.020066217, 0.020046353, 0.919471],\n",
       " [0.066968866, 0.066674516, 0.066910475, 0.7319446, 0.06750155],\n",
       " [0.050004303, 0.796373, 0.05020461, 0.05209535, 0.05132273],\n",
       " [0.02521658, 0.025109377, 0.025180638, 0.025073107, 0.8994203],\n",
       " [0.033459716, 0.03369006, 0.03342471, 0.86537135, 0.034054145],\n",
       " [0.068290435, 0.72967273, 0.067099124, 0.066683926, 0.06825383],\n",
       " [0.033335187, 0.86653334, 0.033334855, 0.03333922, 0.033457365],\n",
       " [0.040003087, 0.040258195, 0.6514643, 0.22810602, 0.04016841],\n",
       " [0.0, 0.0, 0.9897927, 0.0, 0.0]]"
      ]
     },
     "execution_count": 53,
     "metadata": {},
     "output_type": "execute_result"
    }
   ],
   "source": [
    "lda_features"
   ]
  },
  {
   "cell_type": "code",
   "execution_count": 12,
   "id": "42ab622c",
   "metadata": {
    "ExecuteTime": {
     "end_time": "2024-05-03T06:40:43.022516Z",
     "start_time": "2024-05-03T06:40:43.009517Z"
    },
    "tags": []
   },
   "outputs": [
    {
     "name": "stderr",
     "output_type": "stream",
     "text": [
      "You are using a model of type distilbert to instantiate a model of type bert. This is not supported for all configurations of models and can yield errors.\n",
      "D:\\tool\\miniconda3\\envs\\allInOne\\lib\\site-packages\\torch\\_utils.py:831: UserWarning: TypedStorage is deprecated. It will be removed in the future and UntypedStorage will be the only storage class. This should only matter to you if you are using storages directly.  To access UntypedStorage directly, use tensor.untyped_storage() instead of tensor.storage()\n",
      "  return self.fget.__get__(instance, owner)()\n",
      "Some weights of BertModel were not initialized from the model checkpoint at D:\\tool\\toolkit\\nlp\\distiluse-base-multilingual-cased-v2-finetuned-stsb_multi_mt-es and are newly initialized: ['embeddings.token_type_embeddings.weight', 'encoder.layer.0.attention.output.LayerNorm.bias', 'encoder.layer.0.attention.output.LayerNorm.weight', 'encoder.layer.0.attention.output.dense.bias', 'encoder.layer.0.attention.output.dense.weight', 'encoder.layer.0.attention.self.key.bias', 'encoder.layer.0.attention.self.key.weight', 'encoder.layer.0.attention.self.query.bias', 'encoder.layer.0.attention.self.query.weight', 'encoder.layer.0.attention.self.value.bias', 'encoder.layer.0.attention.self.value.weight', 'encoder.layer.0.intermediate.dense.bias', 'encoder.layer.0.intermediate.dense.weight', 'encoder.layer.0.output.LayerNorm.bias', 'encoder.layer.0.output.LayerNorm.weight', 'encoder.layer.0.output.dense.bias', 'encoder.layer.0.output.dense.weight', 'encoder.layer.1.attention.output.LayerNorm.bias', 'encoder.layer.1.attention.output.LayerNorm.weight', 'encoder.layer.1.attention.output.dense.bias', 'encoder.layer.1.attention.output.dense.weight', 'encoder.layer.1.attention.self.key.bias', 'encoder.layer.1.attention.self.key.weight', 'encoder.layer.1.attention.self.query.bias', 'encoder.layer.1.attention.self.query.weight', 'encoder.layer.1.attention.self.value.bias', 'encoder.layer.1.attention.self.value.weight', 'encoder.layer.1.intermediate.dense.bias', 'encoder.layer.1.intermediate.dense.weight', 'encoder.layer.1.output.LayerNorm.bias', 'encoder.layer.1.output.LayerNorm.weight', 'encoder.layer.1.output.dense.bias', 'encoder.layer.1.output.dense.weight', 'encoder.layer.10.attention.output.LayerNorm.bias', 'encoder.layer.10.attention.output.LayerNorm.weight', 'encoder.layer.10.attention.output.dense.bias', 'encoder.layer.10.attention.output.dense.weight', 'encoder.layer.10.attention.self.key.bias', 'encoder.layer.10.attention.self.key.weight', 'encoder.layer.10.attention.self.query.bias', 'encoder.layer.10.attention.self.query.weight', 'encoder.layer.10.attention.self.value.bias', 'encoder.layer.10.attention.self.value.weight', 'encoder.layer.10.intermediate.dense.bias', 'encoder.layer.10.intermediate.dense.weight', 'encoder.layer.10.output.LayerNorm.bias', 'encoder.layer.10.output.LayerNorm.weight', 'encoder.layer.10.output.dense.bias', 'encoder.layer.10.output.dense.weight', 'encoder.layer.11.attention.output.LayerNorm.bias', 'encoder.layer.11.attention.output.LayerNorm.weight', 'encoder.layer.11.attention.output.dense.bias', 'encoder.layer.11.attention.output.dense.weight', 'encoder.layer.11.attention.self.key.bias', 'encoder.layer.11.attention.self.key.weight', 'encoder.layer.11.attention.self.query.bias', 'encoder.layer.11.attention.self.query.weight', 'encoder.layer.11.attention.self.value.bias', 'encoder.layer.11.attention.self.value.weight', 'encoder.layer.11.intermediate.dense.bias', 'encoder.layer.11.intermediate.dense.weight', 'encoder.layer.11.output.LayerNorm.bias', 'encoder.layer.11.output.LayerNorm.weight', 'encoder.layer.11.output.dense.bias', 'encoder.layer.11.output.dense.weight', 'encoder.layer.2.attention.output.LayerNorm.bias', 'encoder.layer.2.attention.output.LayerNorm.weight', 'encoder.layer.2.attention.output.dense.bias', 'encoder.layer.2.attention.output.dense.weight', 'encoder.layer.2.attention.self.key.bias', 'encoder.layer.2.attention.self.key.weight', 'encoder.layer.2.attention.self.query.bias', 'encoder.layer.2.attention.self.query.weight', 'encoder.layer.2.attention.self.value.bias', 'encoder.layer.2.attention.self.value.weight', 'encoder.layer.2.intermediate.dense.bias', 'encoder.layer.2.intermediate.dense.weight', 'encoder.layer.2.output.LayerNorm.bias', 'encoder.layer.2.output.LayerNorm.weight', 'encoder.layer.2.output.dense.bias', 'encoder.layer.2.output.dense.weight', 'encoder.layer.3.attention.output.LayerNorm.bias', 'encoder.layer.3.attention.output.LayerNorm.weight', 'encoder.layer.3.attention.output.dense.bias', 'encoder.layer.3.attention.output.dense.weight', 'encoder.layer.3.attention.self.key.bias', 'encoder.layer.3.attention.self.key.weight', 'encoder.layer.3.attention.self.query.bias', 'encoder.layer.3.attention.self.query.weight', 'encoder.layer.3.attention.self.value.bias', 'encoder.layer.3.attention.self.value.weight', 'encoder.layer.3.intermediate.dense.bias', 'encoder.layer.3.intermediate.dense.weight', 'encoder.layer.3.output.LayerNorm.bias', 'encoder.layer.3.output.LayerNorm.weight', 'encoder.layer.3.output.dense.bias', 'encoder.layer.3.output.dense.weight', 'encoder.layer.4.attention.output.LayerNorm.bias', 'encoder.layer.4.attention.output.LayerNorm.weight', 'encoder.layer.4.attention.output.dense.bias', 'encoder.layer.4.attention.output.dense.weight', 'encoder.layer.4.attention.self.key.bias', 'encoder.layer.4.attention.self.key.weight', 'encoder.layer.4.attention.self.query.bias', 'encoder.layer.4.attention.self.query.weight', 'encoder.layer.4.attention.self.value.bias', 'encoder.layer.4.attention.self.value.weight', 'encoder.layer.4.intermediate.dense.bias', 'encoder.layer.4.intermediate.dense.weight', 'encoder.layer.4.output.LayerNorm.bias', 'encoder.layer.4.output.LayerNorm.weight', 'encoder.layer.4.output.dense.bias', 'encoder.layer.4.output.dense.weight', 'encoder.layer.5.attention.output.LayerNorm.bias', 'encoder.layer.5.attention.output.LayerNorm.weight', 'encoder.layer.5.attention.output.dense.bias', 'encoder.layer.5.attention.output.dense.weight', 'encoder.layer.5.attention.self.key.bias', 'encoder.layer.5.attention.self.key.weight', 'encoder.layer.5.attention.self.query.bias', 'encoder.layer.5.attention.self.query.weight', 'encoder.layer.5.attention.self.value.bias', 'encoder.layer.5.attention.self.value.weight', 'encoder.layer.5.intermediate.dense.bias', 'encoder.layer.5.intermediate.dense.weight', 'encoder.layer.5.output.LayerNorm.bias', 'encoder.layer.5.output.LayerNorm.weight', 'encoder.layer.5.output.dense.bias', 'encoder.layer.5.output.dense.weight', 'encoder.layer.6.attention.output.LayerNorm.bias', 'encoder.layer.6.attention.output.LayerNorm.weight', 'encoder.layer.6.attention.output.dense.bias', 'encoder.layer.6.attention.output.dense.weight', 'encoder.layer.6.attention.self.key.bias', 'encoder.layer.6.attention.self.key.weight', 'encoder.layer.6.attention.self.query.bias', 'encoder.layer.6.attention.self.query.weight', 'encoder.layer.6.attention.self.value.bias', 'encoder.layer.6.attention.self.value.weight', 'encoder.layer.6.intermediate.dense.bias', 'encoder.layer.6.intermediate.dense.weight', 'encoder.layer.6.output.LayerNorm.bias', 'encoder.layer.6.output.LayerNorm.weight', 'encoder.layer.6.output.dense.bias', 'encoder.layer.6.output.dense.weight', 'encoder.layer.7.attention.output.LayerNorm.bias', 'encoder.layer.7.attention.output.LayerNorm.weight', 'encoder.layer.7.attention.output.dense.bias', 'encoder.layer.7.attention.output.dense.weight', 'encoder.layer.7.attention.self.key.bias', 'encoder.layer.7.attention.self.key.weight', 'encoder.layer.7.attention.self.query.bias', 'encoder.layer.7.attention.self.query.weight', 'encoder.layer.7.attention.self.value.bias', 'encoder.layer.7.attention.self.value.weight', 'encoder.layer.7.intermediate.dense.bias', 'encoder.layer.7.intermediate.dense.weight', 'encoder.layer.7.output.LayerNorm.bias', 'encoder.layer.7.output.LayerNorm.weight', 'encoder.layer.7.output.dense.bias', 'encoder.layer.7.output.dense.weight', 'encoder.layer.8.attention.output.LayerNorm.bias', 'encoder.layer.8.attention.output.LayerNorm.weight', 'encoder.layer.8.attention.output.dense.bias', 'encoder.layer.8.attention.output.dense.weight', 'encoder.layer.8.attention.self.key.bias', 'encoder.layer.8.attention.self.key.weight', 'encoder.layer.8.attention.self.query.bias', 'encoder.layer.8.attention.self.query.weight', 'encoder.layer.8.attention.self.value.bias', 'encoder.layer.8.attention.self.value.weight', 'encoder.layer.8.intermediate.dense.bias', 'encoder.layer.8.intermediate.dense.weight', 'encoder.layer.8.output.LayerNorm.bias', 'encoder.layer.8.output.LayerNorm.weight', 'encoder.layer.8.output.dense.bias', 'encoder.layer.8.output.dense.weight', 'encoder.layer.9.attention.output.LayerNorm.bias', 'encoder.layer.9.attention.output.LayerNorm.weight', 'encoder.layer.9.attention.output.dense.bias', 'encoder.layer.9.attention.output.dense.weight', 'encoder.layer.9.attention.self.key.bias', 'encoder.layer.9.attention.self.key.weight', 'encoder.layer.9.attention.self.query.bias', 'encoder.layer.9.attention.self.query.weight', 'encoder.layer.9.attention.self.value.bias', 'encoder.layer.9.attention.self.value.weight', 'encoder.layer.9.intermediate.dense.bias', 'encoder.layer.9.intermediate.dense.weight', 'encoder.layer.9.output.LayerNorm.bias', 'encoder.layer.9.output.LayerNorm.weight', 'encoder.layer.9.output.dense.bias', 'encoder.layer.9.output.dense.weight', 'pooler.dense.bias', 'pooler.dense.weight']\n",
      "You should probably TRAIN this model on a down-stream task to be able to use it for predictions and inference.\n",
      "The tokenizer class you load from this checkpoint is not the same type as the class this function is called from. It may result in unexpected tokenization. \n",
      "The tokenizer class you load from this checkpoint is 'DistilBertTokenizer'. \n",
      "The class this function is called from is 'BertTokenizer'.\n"
     ]
    }
   ],
   "source": [
    "# 加载已经训练好的bert模型\n",
    "model_path = r'D:\\tool\\toolkit\\nlp\\distiluse-base-multilingual-cased-v2-finetuned-stsb_multi_mt-es'\n",
    "model = BertModel.from_pretrained(model_path)\n",
    "tokenizer = BertTokenizer.from_pretrained(model_path)"
   ]
  },
  {
   "cell_type": "code",
   "execution_count": 13,
   "id": "07b56c95-9b2a-43bd-8848-18b29e0bb28f",
   "metadata": {
    "jp-MarkdownHeadingCollapsed": true,
    "tags": []
   },
   "outputs": [],
   "source": [
    "bert_features = []\n",
    "for article in doc_data:\n",
    "    # 对文章进行分词和编码\n",
    "    encoded_input = tokenizer(article, return_tensors='pt', padding=True, truncation=True, max_length=512)\n",
    "    # 获取模型的输出\n",
    "    with torch.no_grad():\n",
    "        outputs = model(**encoded_input)\n",
    "    # 获取CLS token的嵌入作为文章的特征向量\n",
    "    bert_features.append(outputs.last_hidden_state[:, 0, :].squeeze().detach().numpy())"
   ]
  },
  {
   "cell_type": "code",
   "execution_count": 54,
   "id": "962648a1",
   "metadata": {
    "ExecuteTime": {
     "end_time": "2024-05-03T06:39:13.503336Z",
     "start_time": "2024-05-03T06:39:13.488177Z"
    },
    "tags": []
   },
   "outputs": [],
   "source": [
    "# lda和bert特征拼接\n",
    "concatenated_features = []\n",
    "for bert_feature, lda_feature in zip(bert_features, lda_features):\n",
    "    # 将BERT特征向量和LDA主题向量拼接\n",
    "    concatenated_feature = np.concatenate((bert_feature, lda_feature))\n",
    "    concatenated_features.append(concatenated_feature)"
   ]
  },
  {
   "cell_type": "code",
   "execution_count": 15,
   "id": "12ad01ab-7567-45c7-b4a7-d2f21b51bafd",
   "metadata": {
    "tags": []
   },
   "outputs": [],
   "source": [
    "# 定义自编码器\n",
    "class AutoEncoder(nn.Module):\n",
    "    def __init__(self, input_dim, hidden_size):\n",
    "        super(AutoEncoder, self).__init__()\n",
    "\n",
    "        self.encoder  = nn.Sequential(\n",
    "            nn.Linear(input_dim, 128),\n",
    "            nn.ReLU(True),\n",
    "            nn.Linear(128, 64),\n",
    "            nn.ReLU(True)\n",
    "        )\n",
    "        self.en_fc = nn.Linear(64, hidden_size)\n",
    "        self.de_fc = nn.Linear(hidden_size, 64)\n",
    "        self.decoder = nn.Sequential(\n",
    "            nn.Linear(64, 128),\n",
    "            nn.ReLU(True),\n",
    "            nn.Linear(128, input_dim)\n",
    "        )\n",
    "\n",
    "    def forward(self, x):\n",
    "        en = self.encoder(x)\n",
    "        code = self.en_fc(en)\n",
    "        de = self.de_fc(code)\n",
    "        decoded = self.decoder(de)\n",
    "        return code, decoded"
   ]
  },
  {
   "cell_type": "code",
   "execution_count": 74,
   "id": "1ef2eb34",
   "metadata": {
    "ExecuteTime": {
     "end_time": "2024-05-03T07:02:58.651656Z",
     "start_time": "2024-05-03T07:02:58.429432Z"
    }
   },
   "outputs": [
    {
     "name": "stdout",
     "output_type": "stream",
     "text": [
      "Epoch [1/5], Batch [1/1], Loss: 0.9966\n",
      "Epoch [2/5], Batch [1/1], Loss: 0.9836\n",
      "Epoch [3/5], Batch [1/1], Loss: 0.9666\n",
      "Epoch [4/5], Batch [1/1], Loss: 0.9431\n",
      "Epoch [5/5], Batch [1/1], Loss: 0.9095\n"
     ]
    }
   ],
   "source": [
    "# 准备数据\n",
    "# 模型默认参数为float32，如果想要用double(float64)来训练的话，model=model.double()\n",
    "tensor_data = torch.tensor(concatenated_features, dtype=torch.float32)\n",
    "dataset = TensorDataset(tensor_data)\n",
    "data_loader = DataLoader(dataset, batch_size=32, shuffle=True)\n",
    "\n",
    "# 开始训练\n",
    "HIDDEN_SIZE = 32\n",
    "input_dim = len(concatenated_features[0])\n",
    "\n",
    "model = AutoEncoder(input_dim, HIDDEN_SIZE)\n",
    "criterion = nn.MSELoss()  # 均方误差损失\n",
    "optimizer = torch.optim.Adam(model.parameters(), lr=0.001)\n",
    "\n",
    "# 训练模型\n",
    "model = model.to(\"cpu\")\n",
    "epochs = 5\n",
    "for epoch in range(epochs):\n",
    "    for batch_idx, (data,) in enumerate(data_loader):\n",
    "        # 正向传播\n",
    "        outputs = model(data)[1]\n",
    "        loss = criterion(outputs, data)\n",
    "        \n",
    "        # 反向传播和优化\n",
    "        optimizer.zero_grad()\n",
    "        loss.backward()\n",
    "        optimizer.step()\n",
    "        \n",
    "        if batch_idx % 100 == 0:\n",
    "            print(f'Epoch [{epoch+1}/{epochs}], Batch [{batch_idx+1}/{len(data_loader)}], Loss: {loss.item():.4f}')"
   ]
  },
  {
   "cell_type": "code",
   "execution_count": 24,
   "id": "ecf3a300-cf9d-4712-a8d5-7a5c68627298",
   "metadata": {},
   "outputs": [
    {
     "data": {
      "text/plain": [
       "773"
      ]
     },
     "execution_count": 24,
     "metadata": {},
     "output_type": "execute_result"
    }
   ],
   "source": [
    "# 提取文本encoder后的结果\n",
    "encoder_features = model(dataset)[0].item()"
   ]
  },
  {
   "cell_type": "code",
   "execution_count": 70,
   "id": "67de8034",
   "metadata": {
    "ExecuteTime": {
     "end_time": "2024-05-03T07:04:32.191987Z",
     "start_time": "2024-05-03T07:04:32.176893Z"
    }
   },
   "outputs": [
    {
     "data": {
      "text/plain": [
       "torch.Size([20, 773])"
      ]
     },
     "execution_count": 70,
     "metadata": {},
     "output_type": "execute_result"
    }
   ],
   "source": [
    "# 对encoder_features进行聚类分析\n",
    "\n",
    "from sklearn.cluster import KMeans\n",
    "\n",
    "# 假设 encoder_features 是一个二维数组，其中每一行是一个文档的特征向量\n",
    "# texts 是原始文本数据列表\n",
    "\n",
    "# 使用 K-means 算法进行聚类，设置聚类数目为 5\n",
    "kmeans = KMeans(n_clusters=5, random_state=42).fit(encoder_features)\n",
    "\n",
    "# 获取每个文档的聚类标签\n",
    "cluster_labels = kmeans.labels_\n",
    "\n",
    "from sklearn.feature_extraction.text import TfidfVectorizer\n",
    "\n",
    "# 假设 vectorizer 是之前用于将文本转换为特征向量的 TF-IDF 向量化器\n",
    "vectorizer = TfidfVectorizer()\n",
    "\n",
    "# 获取特征名称（词汇）\n",
    "feature_names = vectorizer.get_feature_names_out()\n",
    "\n",
    "# 为每个聚类提取主题词\n",
    "def get_cluster_topic(cluster_label):\n",
    "    # 选择当前聚类的所有文档\n",
    "    cluster_docs = [doc for doc_idx, label in enumerate(cluster_labels) if label == cluster_label]\n",
    "    \n",
    "    # 将文档转换为词袋模型\n",
    "    cluster_bow = [vectorizer.transform([doc]) for doc in cluster_docs]\n",
    "    \n",
    "    # 计算每个词在当前聚类中的总TF-IDF值\n",
    "    cluster_word_tfidf_sum = sum(cluster_bow)\n",
    "    \n",
    "    # 获取每个词的总TF-IDF值，并按降序排列\n",
    "    word_tfidf_scores = cluster_word_tfidf_sum.toarray().flatten().tolist()\n",
    "    word_tfidf_scores = sorted(enumerate(word_tfidf_scores), key=lambda x: x[1], reverse=True)\n",
    "    \n",
    "    # 返回TF-IDF值最高的N个词作为主题词\n",
    "    top_n_words = set([feature_names[word_idx] for word_idx, _ in word_tfidf_scores[:10]])\n",
    "    return top_n_words\n",
    "\n",
    "# 为每个聚类提取主题词\n",
    "cluster_topics = {label: get_cluster_topic(label) for label in range(5)}"
   ]
  },
  {
   "cell_type": "code",
   "execution_count": 82,
   "id": "4550dda9-c0c5-4f77-984a-71cd156c4186",
   "metadata": {
    "tags": []
   },
   "outputs": [
    {
     "ename": "ValueError",
     "evalue": "max_df corresponds to < documents than min_df",
     "output_type": "error",
     "traceback": [
      "\u001b[1;31m---------------------------------------------------------------------------\u001b[0m",
      "\u001b[1;31mValueError\u001b[0m                                Traceback (most recent call last)",
      "Cell \u001b[1;32mIn[82], line 9\u001b[0m\n\u001b[0;32m      7\u001b[0m \u001b[38;5;66;03m# 使用TF-IDF向量化文本\u001b[39;00m\n\u001b[0;32m      8\u001b[0m vectorizer \u001b[38;5;241m=\u001b[39m TfidfVectorizer(max_df\u001b[38;5;241m=\u001b[39m\u001b[38;5;241m0.95\u001b[39m, min_df\u001b[38;5;241m=\u001b[39m\u001b[38;5;241m2\u001b[39m, stop_words\u001b[38;5;241m=\u001b[39m\u001b[38;5;124m'\u001b[39m\u001b[38;5;124menglish\u001b[39m\u001b[38;5;124m'\u001b[39m)\n\u001b[1;32m----> 9\u001b[0m X \u001b[38;5;241m=\u001b[39m \u001b[43mvectorizer\u001b[49m\u001b[38;5;241;43m.\u001b[39;49m\u001b[43mfit_transform\u001b[49m\u001b[43m(\u001b[49m\u001b[43mdocuments\u001b[49m\u001b[43m)\u001b[49m\n\u001b[0;32m     11\u001b[0m \u001b[38;5;66;03m# 应用K-means聚类\u001b[39;00m\n\u001b[0;32m     12\u001b[0m kmeans \u001b[38;5;241m=\u001b[39m KMeans(n_clusters\u001b[38;5;241m=\u001b[39m\u001b[38;5;241m5\u001b[39m)\u001b[38;5;241m.\u001b[39mfit(X)\n",
      "File \u001b[1;32mD:\\tool\\miniconda3\\envs\\allInOne\\lib\\site-packages\\sklearn\\feature_extraction\\text.py:2126\u001b[0m, in \u001b[0;36mTfidfVectorizer.fit_transform\u001b[1;34m(self, raw_documents, y)\u001b[0m\n\u001b[0;32m   2119\u001b[0m \u001b[38;5;28mself\u001b[39m\u001b[38;5;241m.\u001b[39m_check_params()\n\u001b[0;32m   2120\u001b[0m \u001b[38;5;28mself\u001b[39m\u001b[38;5;241m.\u001b[39m_tfidf \u001b[38;5;241m=\u001b[39m TfidfTransformer(\n\u001b[0;32m   2121\u001b[0m     norm\u001b[38;5;241m=\u001b[39m\u001b[38;5;28mself\u001b[39m\u001b[38;5;241m.\u001b[39mnorm,\n\u001b[0;32m   2122\u001b[0m     use_idf\u001b[38;5;241m=\u001b[39m\u001b[38;5;28mself\u001b[39m\u001b[38;5;241m.\u001b[39muse_idf,\n\u001b[0;32m   2123\u001b[0m     smooth_idf\u001b[38;5;241m=\u001b[39m\u001b[38;5;28mself\u001b[39m\u001b[38;5;241m.\u001b[39msmooth_idf,\n\u001b[0;32m   2124\u001b[0m     sublinear_tf\u001b[38;5;241m=\u001b[39m\u001b[38;5;28mself\u001b[39m\u001b[38;5;241m.\u001b[39msublinear_tf,\n\u001b[0;32m   2125\u001b[0m )\n\u001b[1;32m-> 2126\u001b[0m X \u001b[38;5;241m=\u001b[39m \u001b[38;5;28;43msuper\u001b[39;49m\u001b[43m(\u001b[49m\u001b[43m)\u001b[49m\u001b[38;5;241;43m.\u001b[39;49m\u001b[43mfit_transform\u001b[49m\u001b[43m(\u001b[49m\u001b[43mraw_documents\u001b[49m\u001b[43m)\u001b[49m\n\u001b[0;32m   2127\u001b[0m \u001b[38;5;28mself\u001b[39m\u001b[38;5;241m.\u001b[39m_tfidf\u001b[38;5;241m.\u001b[39mfit(X)\n\u001b[0;32m   2128\u001b[0m \u001b[38;5;66;03m# X is already a transformed view of raw_documents so\u001b[39;00m\n\u001b[0;32m   2129\u001b[0m \u001b[38;5;66;03m# we set copy to False\u001b[39;00m\n",
      "File \u001b[1;32mD:\\tool\\miniconda3\\envs\\allInOne\\lib\\site-packages\\sklearn\\base.py:1151\u001b[0m, in \u001b[0;36m_fit_context.<locals>.decorator.<locals>.wrapper\u001b[1;34m(estimator, *args, **kwargs)\u001b[0m\n\u001b[0;32m   1144\u001b[0m     estimator\u001b[38;5;241m.\u001b[39m_validate_params()\n\u001b[0;32m   1146\u001b[0m \u001b[38;5;28;01mwith\u001b[39;00m config_context(\n\u001b[0;32m   1147\u001b[0m     skip_parameter_validation\u001b[38;5;241m=\u001b[39m(\n\u001b[0;32m   1148\u001b[0m         prefer_skip_nested_validation \u001b[38;5;129;01mor\u001b[39;00m global_skip_validation\n\u001b[0;32m   1149\u001b[0m     )\n\u001b[0;32m   1150\u001b[0m ):\n\u001b[1;32m-> 1151\u001b[0m     \u001b[38;5;28;01mreturn\u001b[39;00m \u001b[43mfit_method\u001b[49m\u001b[43m(\u001b[49m\u001b[43mestimator\u001b[49m\u001b[43m,\u001b[49m\u001b[43m \u001b[49m\u001b[38;5;241;43m*\u001b[39;49m\u001b[43margs\u001b[49m\u001b[43m,\u001b[49m\u001b[43m \u001b[49m\u001b[38;5;241;43m*\u001b[39;49m\u001b[38;5;241;43m*\u001b[39;49m\u001b[43mkwargs\u001b[49m\u001b[43m)\u001b[49m\n",
      "File \u001b[1;32mD:\\tool\\miniconda3\\envs\\allInOne\\lib\\site-packages\\sklearn\\feature_extraction\\text.py:1393\u001b[0m, in \u001b[0;36mCountVectorizer.fit_transform\u001b[1;34m(self, raw_documents, y)\u001b[0m\n\u001b[0;32m   1391\u001b[0m min_doc_count \u001b[38;5;241m=\u001b[39m min_df \u001b[38;5;28;01mif\u001b[39;00m \u001b[38;5;28misinstance\u001b[39m(min_df, Integral) \u001b[38;5;28;01melse\u001b[39;00m min_df \u001b[38;5;241m*\u001b[39m n_doc\n\u001b[0;32m   1392\u001b[0m \u001b[38;5;28;01mif\u001b[39;00m max_doc_count \u001b[38;5;241m<\u001b[39m min_doc_count:\n\u001b[1;32m-> 1393\u001b[0m     \u001b[38;5;28;01mraise\u001b[39;00m \u001b[38;5;167;01mValueError\u001b[39;00m(\u001b[38;5;124m\"\u001b[39m\u001b[38;5;124mmax_df corresponds to < documents than min_df\u001b[39m\u001b[38;5;124m\"\u001b[39m)\n\u001b[0;32m   1394\u001b[0m \u001b[38;5;28;01mif\u001b[39;00m max_features \u001b[38;5;129;01mis\u001b[39;00m \u001b[38;5;129;01mnot\u001b[39;00m \u001b[38;5;28;01mNone\u001b[39;00m:\n\u001b[0;32m   1395\u001b[0m     X \u001b[38;5;241m=\u001b[39m \u001b[38;5;28mself\u001b[39m\u001b[38;5;241m.\u001b[39m_sort_features(X, vocabulary)\n",
      "\u001b[1;31mValueError\u001b[0m: max_df corresponds to < documents than min_df"
     ]
    }
   ],
   "source": [
    "from sklearn.feature_extraction.text import TfidfVectorizer\n",
    "from sklearn.cluster import KMeans\n",
    "\n",
    "# 假设documents是原始文本数据列表\n",
    "documents = [\"text of document 1\", \"text of document 2\"]\n",
    "\n",
    "# 使用TF-IDF向量化文本\n",
    "vectorizer = TfidfVectorizer(max_df=0.95, min_df=2, stop_words='english')\n",
    "X = vectorizer.fit_transform(documents)\n",
    "\n",
    "# 应用K-means聚类\n",
    "kmeans = KMeans(n_clusters=5).fit(X)\n",
    "\n",
    "# 为每个簇提取主题词\n",
    "def get_cluster_words(cluster_documents):\n",
    "    words = vectorizer.get_feature_names_out()\n",
    "    cluster_words = []\n",
    "    for doc in cluster_documents:\n",
    "        for word in doc.split():\n",
    "            if word in words:\n",
    "                cluster_words.append(word)\n",
    "    # 计算词频并选择最常见的词\n",
    "    freq_dist = nltk.FreqDist(cluster_words)\n",
    "    common_words = freq_dist.most_common(10)\n",
    "    return [word for word, freq in common_words]\n",
    "\n",
    "# 为每个簇提取主题词\n",
    "cluster_topics = {i: get_cluster_words(documents[k]) for i, k in enumerate(kmeans.labels_)}"
   ]
  },
  {
   "cell_type": "code",
   "execution_count": 83,
   "id": "ace5782f-46d1-4332-bb2a-9c74e3eb2fb7",
   "metadata": {
    "tags": []
   },
   "outputs": [
    {
     "name": "stdout",
     "output_type": "stream",
     "text": [
      "[[1.]\n",
      " [1.]\n",
      " [0.]\n",
      " [1.]]\n"
     ]
    }
   ],
   "source": [
    "from sklearn.feature_extraction.text import TfidfVectorizer\n",
    "\n",
    "# 示例文本数据\n",
    "documents = [\n",
    "    'This is the first document.',\n",
    "    'This document is the second document.',\n",
    "    'And this is the third one.',\n",
    "    'Is this the first document?',\n",
    "]\n",
    "\n",
    "# 初始化TF-IDF向量化器\n",
    "vectorizer = TfidfVectorizer(max_df=0.95, min_df=2, stop_words='english')\n",
    "\n",
    "# 将文本数据转换为TF-IDF特征矩阵\n",
    "X = vectorizer.fit_transform(documents)\n",
    "\n",
    "# 获取特征名称（词汇）\n",
    "feature_names = vectorizer.get_feature_names_out()\n",
    "\n",
    "# 查看每个文档的TF-IDF向量\n",
    "print(X.toarray())"
   ]
  },
  {
   "cell_type": "code",
   "execution_count": 86,
   "id": "a7342756-bb04-4b3a-bb61-36f891a2ab7c",
   "metadata": {
    "tags": []
   },
   "outputs": [
    {
     "name": "stdout",
     "output_type": "stream",
     "text": [
      "Feature names: ['document']\n",
      "TF-IDF Matrix:\n",
      " [[1.]\n",
      " [1.]\n",
      " [0.]\n",
      " [1.]]\n"
     ]
    }
   ],
   "source": [
    "# 查看每个文档的TF-IDF向量\n",
    "print(\"Feature names:\", feature_names)\n",
    "print(\"TF-IDF Matrix:\\n\", X.toarray())"
   ]
  },
  {
   "cell_type": "code",
   "execution_count": null,
   "id": "16eb7c25-5b8e-48ba-9f04-071c99946ae3",
   "metadata": {},
   "outputs": [],
   "source": [
    "dir_path = r'C:\\Users\\11435\\Desktop\\clutter\\research\\data\\others\\互动\\互动\\用户与公司问答-2010.xlsx'\n",
    "df = pd.read_excel(dir_path)"
   ]
  },
  {
   "cell_type": "code",
   "execution_count": null,
   "id": "38257f99-9c72-4e5f-acff-dbd7156f7abf",
   "metadata": {},
   "outputs": [],
   "source": [
    "# 加载已经训练好的bert模型\n",
    "model_path = r'D:\\tool\\toolkit\\nlp\\distiluse-base-multilingual-cased-v2-finetuned-stsb_multi_mt-es'\n",
    "model = BertModel.from_pretrained(model_path)\n",
    "tokenizer = BertTokenizer.from_pretrained(model_path)"
   ]
  },
  {
   "cell_type": "code",
   "execution_count": null,
   "id": "2496d91e-931c-4ad1-9419-3ab8158b2c81",
   "metadata": {},
   "outputs": [],
   "source": [
    "bert_features = []\n",
    "for article in doc_data:\n",
    "    # 对文章进行分词和编码\n",
    "    encoded_input = tokenizer(article, return_tensors='pt', padding=True, truncation=True, max_length=512)\n",
    "    # 获取模型的输出\n",
    "    with torch.no_grad():\n",
    "        outputs = model(**encoded_input)\n",
    "    # 获取CLS token的嵌入作为文章的特征向量\n",
    "    bert_features.append(outputs.last_hidden_state[:, 0, :].squeeze().detach().numpy())"
   ]
  }
 ],
 "metadata": {
  "kernelspec": {
   "display_name": "Python 3 (ipykernel)",
   "language": "python",
   "name": "python3"
  },
  "language_info": {
   "codemirror_mode": {
    "name": "ipython",
    "version": 3
   },
   "file_extension": ".py",
   "mimetype": "text/x-python",
   "name": "python",
   "nbconvert_exporter": "python",
   "pygments_lexer": "ipython3",
   "version": "3.8.17"
  },
  "toc": {
   "base_numbering": 1,
   "nav_menu": {},
   "number_sections": true,
   "sideBar": true,
   "skip_h1_title": false,
   "title_cell": "Table of Contents",
   "title_sidebar": "Contents",
   "toc_cell": false,
   "toc_position": {},
   "toc_section_display": true,
   "toc_window_display": false
  }
 },
 "nbformat": 4,
 "nbformat_minor": 5
}
