{
 "cells": [
  {
   "cell_type": "markdown",
   "metadata": {},
   "source": [
    "# 折扣店销售\n",
    "----"
   ]
  },
  {
   "cell_type": "code",
   "execution_count": 1,
   "metadata": {
    "ExecuteTime": {
     "end_time": "2024-04-30T14:29:58.530836Z",
     "start_time": "2024-04-30T14:29:57.391117Z"
    }
   },
   "outputs": [
    {
     "data": {
      "text/html": [
       "<div>\n",
       "<style scoped>\n",
       "    .dataframe tbody tr th:only-of-type {\n",
       "        vertical-align: middle;\n",
       "    }\n",
       "\n",
       "    .dataframe tbody tr th {\n",
       "        vertical-align: top;\n",
       "    }\n",
       "\n",
       "    .dataframe thead th {\n",
       "        text-align: right;\n",
       "    }\n",
       "</style>\n",
       "<table border=\"1\" class=\"dataframe\">\n",
       "  <thead>\n",
       "    <tr style=\"text-align: right;\">\n",
       "      <th></th>\n",
       "      <th>商品编号</th>\n",
       "      <th>商品重量</th>\n",
       "      <th>是否低脂肪</th>\n",
       "      <th>货架上此商品总展示区域占比</th>\n",
       "      <th>商品类型</th>\n",
       "      <th>商品最高售价</th>\n",
       "      <th>折扣店编号</th>\n",
       "      <th>折扣店开办时间</th>\n",
       "      <th>折扣店规模</th>\n",
       "      <th>折扣店所在城市类型</th>\n",
       "      <th>折扣店类型</th>\n",
       "      <th>商品销售量</th>\n",
       "    </tr>\n",
       "  </thead>\n",
       "  <tbody>\n",
       "    <tr>\n",
       "      <th>0</th>\n",
       "      <td>FDA15</td>\n",
       "      <td>9.30</td>\n",
       "      <td>Low Fat</td>\n",
       "      <td>0.016047</td>\n",
       "      <td>Dairy</td>\n",
       "      <td>249.8092</td>\n",
       "      <td>OUT049</td>\n",
       "      <td>1999</td>\n",
       "      <td>Medium</td>\n",
       "      <td>Tier 1</td>\n",
       "      <td>Supermarket Type1</td>\n",
       "      <td>3735.1380</td>\n",
       "    </tr>\n",
       "    <tr>\n",
       "      <th>1</th>\n",
       "      <td>DRC01</td>\n",
       "      <td>5.92</td>\n",
       "      <td>Regular</td>\n",
       "      <td>0.019278</td>\n",
       "      <td>Soft Drinks</td>\n",
       "      <td>48.2692</td>\n",
       "      <td>OUT018</td>\n",
       "      <td>2009</td>\n",
       "      <td>Medium</td>\n",
       "      <td>Tier 3</td>\n",
       "      <td>Supermarket Type2</td>\n",
       "      <td>443.4228</td>\n",
       "    </tr>\n",
       "    <tr>\n",
       "      <th>2</th>\n",
       "      <td>FDN15</td>\n",
       "      <td>17.50</td>\n",
       "      <td>Low Fat</td>\n",
       "      <td>0.016760</td>\n",
       "      <td>Meat</td>\n",
       "      <td>141.6180</td>\n",
       "      <td>OUT049</td>\n",
       "      <td>1999</td>\n",
       "      <td>Medium</td>\n",
       "      <td>Tier 1</td>\n",
       "      <td>Supermarket Type1</td>\n",
       "      <td>2097.2700</td>\n",
       "    </tr>\n",
       "    <tr>\n",
       "      <th>3</th>\n",
       "      <td>FDX07</td>\n",
       "      <td>19.20</td>\n",
       "      <td>Regular</td>\n",
       "      <td>0.000000</td>\n",
       "      <td>Fruits and Vegetables</td>\n",
       "      <td>182.0950</td>\n",
       "      <td>OUT010</td>\n",
       "      <td>1998</td>\n",
       "      <td>NaN</td>\n",
       "      <td>Tier 3</td>\n",
       "      <td>Grocery Store</td>\n",
       "      <td>732.3800</td>\n",
       "    </tr>\n",
       "    <tr>\n",
       "      <th>4</th>\n",
       "      <td>NCD19</td>\n",
       "      <td>8.93</td>\n",
       "      <td>Low Fat</td>\n",
       "      <td>0.000000</td>\n",
       "      <td>Household</td>\n",
       "      <td>53.8614</td>\n",
       "      <td>OUT013</td>\n",
       "      <td>1987</td>\n",
       "      <td>High</td>\n",
       "      <td>Tier 3</td>\n",
       "      <td>Supermarket Type1</td>\n",
       "      <td>994.7052</td>\n",
       "    </tr>\n",
       "  </tbody>\n",
       "</table>\n",
       "</div>"
      ],
      "text/plain": [
       "    商品编号   商品重量    是否低脂肪  货架上此商品总展示区域占比                   商品类型    商品最高售价  \\\n",
       "0  FDA15   9.30  Low Fat       0.016047                  Dairy  249.8092   \n",
       "1  DRC01   5.92  Regular       0.019278            Soft Drinks   48.2692   \n",
       "2  FDN15  17.50  Low Fat       0.016760                   Meat  141.6180   \n",
       "3  FDX07  19.20  Regular       0.000000  Fruits and Vegetables  182.0950   \n",
       "4  NCD19   8.93  Low Fat       0.000000              Household   53.8614   \n",
       "\n",
       "    折扣店编号  折扣店开办时间   折扣店规模 折扣店所在城市类型              折扣店类型      商品销售量  \n",
       "0  OUT049     1999  Medium    Tier 1  Supermarket Type1  3735.1380  \n",
       "1  OUT018     2009  Medium    Tier 3  Supermarket Type2   443.4228  \n",
       "2  OUT049     1999  Medium    Tier 1  Supermarket Type1  2097.2700  \n",
       "3  OUT010     1998     NaN    Tier 3      Grocery Store   732.3800  \n",
       "4  OUT013     1987    High    Tier 3  Supermarket Type1   994.7052  "
      ]
     },
     "execution_count": 1,
     "metadata": {},
     "output_type": "execute_result"
    }
   ],
   "source": [
    "import pandas as pd\n",
    "import matplotlib.pyplot as plt\n",
    "import numpy as np\n",
    "\n",
    "from sklearn.model_selection import train_test_split\n",
    "from sklearn.model_selection import RandomizedSearchCV, GridSearchCV\n",
    "from sklearn.metrics import roc_auc_score, classification_report, confusion_matrix, f1_score, mean_squared_error, r2_score\n",
    "from sklearn.model_selection import StratifiedKFold\n",
    "from sklearn.linear_model import LinearRegression\n",
    "import xgboost as xgb\n",
    "\n",
    "plt.style.use('seaborn-v0_8')\n",
    "\n",
    "# 加载数据集\n",
    "path = r'C:\\Users\\11435\\Desktop\\折扣店销售数据.csv'\n",
    "df = pd.read_csv(path, encoding='gbk')\n",
    "\n",
    "# 查看数据集的前几行以了解数据结构\n",
    "df.head()"
   ]
  },
  {
   "cell_type": "code",
   "execution_count": 2,
   "metadata": {
    "ExecuteTime": {
     "end_time": "2024-04-30T14:29:58.545878Z",
     "start_time": "2024-04-30T14:29:58.531793Z"
    }
   },
   "outputs": [
    {
     "name": "stdout",
     "output_type": "stream",
     "text": [
      "<class 'pandas.core.frame.DataFrame'>\n",
      "RangeIndex: 8523 entries, 0 to 8522\n",
      "Data columns (total 12 columns):\n",
      " #   Column         Non-Null Count  Dtype  \n",
      "---  ------         --------------  -----  \n",
      " 0   商品编号           8523 non-null   object \n",
      " 1   商品重量           7060 non-null   float64\n",
      " 2   是否低脂肪          8523 non-null   object \n",
      " 3   货架上此商品总展示区域占比  8523 non-null   float64\n",
      " 4   商品类型           8523 non-null   object \n",
      " 5   商品最高售价         8523 non-null   float64\n",
      " 6   折扣店编号          8523 non-null   object \n",
      " 7   折扣店开办时间        8523 non-null   int64  \n",
      " 8   折扣店规模          6113 non-null   object \n",
      " 9   折扣店所在城市类型      8523 non-null   object \n",
      " 10  折扣店类型          8523 non-null   object \n",
      " 11  商品销售量          8523 non-null   float64\n",
      "dtypes: float64(4), int64(1), object(7)\n",
      "memory usage: 799.2+ KB\n"
     ]
    }
   ],
   "source": [
    "df.info()"
   ]
  },
  {
   "cell_type": "code",
   "execution_count": 3,
   "metadata": {
    "ExecuteTime": {
     "end_time": "2024-04-30T14:29:58.561572Z",
     "start_time": "2024-04-30T14:29:58.548064Z"
    }
   },
   "outputs": [
    {
     "data": {
      "text/plain": [
       "商品编号                0\n",
       "商品重量             1463\n",
       "是否低脂肪               0\n",
       "货架上此商品总展示区域占比       0\n",
       "商品类型                0\n",
       "商品最高售价              0\n",
       "折扣店编号               0\n",
       "折扣店开办时间             0\n",
       "折扣店规模            2410\n",
       "折扣店所在城市类型           0\n",
       "折扣店类型               0\n",
       "商品销售量               0\n",
       "dtype: int64"
      ]
     },
     "execution_count": 3,
     "metadata": {},
     "output_type": "execute_result"
    }
   ],
   "source": [
    "df.isnull().sum()"
   ]
  },
  {
   "cell_type": "markdown",
   "metadata": {},
   "source": [
    "# 数据预处理\n",
    "---\n",
    "- **商品编号、折扣店编号、开办时间**与销售量之间不存在相关性直接删除特征\n",
    "- 数据集量足够大，**折扣规模**对销售量有影响，缺失的数据较多，缺失的直接进行剔除\n",
    "- **商品重量通过和区域占比构建线性回归模型来进行缺失数据填充**\n",
    "- 对离散型数据进行one-hot编码\n"
   ]
  },
  {
   "cell_type": "code",
   "execution_count": 4,
   "metadata": {
    "ExecuteTime": {
     "end_time": "2024-04-30T14:29:58.653951Z",
     "start_time": "2024-04-30T14:29:58.562572Z"
    }
   },
   "outputs": [],
   "source": [
    "import warnings\n",
    "\n",
    "warnings.filterwarnings(\"ignore\",\n",
    "                        message=\"X does not have valid feature names\")\n",
    "\n",
    "# 去除不需要的特征\n",
    "df.drop(['商品编号', '折扣店编号', '折扣店开办时间'], axis=1, inplace=True)\n",
    "\n",
    "# 去除缺失的数据\n",
    "df.dropna(subset=['折扣店规模'], inplace=True)\n",
    "\n",
    "\n",
    "# 构建线性回归模型对缺失值进行填充\n",
    "def fill_weight(df):\n",
    "    weight = df[0]\n",
    "    area = df[1]\n",
    "    if (pd.isnull(weight)):\n",
    "        weight_pred = LR.predict(area.reshape(-1, 1))\n",
    "        return weight_pred[0]\n",
    "    return weight\n",
    "\n",
    "\n",
    "df_filtered = df.dropna(subset=['商品重量', '货架上此商品总展示区域占比'])\n",
    "X = df_filtered[['货架上此商品总展示区域占比']]\n",
    "y = df_filtered[['商品重量']]\n",
    "LR = LinearRegression()\n",
    "LR.fit(X, y)\n",
    "df['商品重量'] = df[['商品重量','货架上此商品总展示区域占比']].apply(fill_weight, axis=1)"
   ]
  },
  {
   "cell_type": "code",
   "execution_count": 5,
   "metadata": {
    "ExecuteTime": {
     "end_time": "2024-04-30T14:29:58.669861Z",
     "start_time": "2024-04-30T14:29:58.654948Z"
    }
   },
   "outputs": [],
   "source": [
    "# 进行one-hot编码\n",
    "df['商品重量'] = df['商品重量'].astype('float64')\n",
    "train_df = pd.get_dummies(df, drop_first=True)"
   ]
  },
  {
   "cell_type": "code",
   "execution_count": 6,
   "metadata": {
    "ExecuteTime": {
     "end_time": "2024-04-30T14:29:58.685470Z",
     "start_time": "2024-04-30T14:29:58.670863Z"
    }
   },
   "outputs": [
    {
     "data": {
      "text/html": [
       "<div>\n",
       "<style scoped>\n",
       "    .dataframe tbody tr th:only-of-type {\n",
       "        vertical-align: middle;\n",
       "    }\n",
       "\n",
       "    .dataframe tbody tr th {\n",
       "        vertical-align: top;\n",
       "    }\n",
       "\n",
       "    .dataframe thead th {\n",
       "        text-align: right;\n",
       "    }\n",
       "</style>\n",
       "<table border=\"1\" class=\"dataframe\">\n",
       "  <thead>\n",
       "    <tr style=\"text-align: right;\">\n",
       "      <th></th>\n",
       "      <th>商品重量</th>\n",
       "      <th>是否低脂肪</th>\n",
       "      <th>货架上此商品总展示区域占比</th>\n",
       "      <th>商品类型</th>\n",
       "      <th>商品最高售价</th>\n",
       "      <th>折扣店规模</th>\n",
       "      <th>折扣店所在城市类型</th>\n",
       "      <th>折扣店类型</th>\n",
       "      <th>商品销售量</th>\n",
       "    </tr>\n",
       "  </thead>\n",
       "  <tbody>\n",
       "    <tr>\n",
       "      <th>0</th>\n",
       "      <td>9.300</td>\n",
       "      <td>Low Fat</td>\n",
       "      <td>0.016047</td>\n",
       "      <td>Dairy</td>\n",
       "      <td>249.8092</td>\n",
       "      <td>Medium</td>\n",
       "      <td>Tier 1</td>\n",
       "      <td>Supermarket Type1</td>\n",
       "      <td>3735.1380</td>\n",
       "    </tr>\n",
       "    <tr>\n",
       "      <th>1</th>\n",
       "      <td>5.920</td>\n",
       "      <td>Regular</td>\n",
       "      <td>0.019278</td>\n",
       "      <td>Soft Drinks</td>\n",
       "      <td>48.2692</td>\n",
       "      <td>Medium</td>\n",
       "      <td>Tier 3</td>\n",
       "      <td>Supermarket Type2</td>\n",
       "      <td>443.4228</td>\n",
       "    </tr>\n",
       "    <tr>\n",
       "      <th>2</th>\n",
       "      <td>17.500</td>\n",
       "      <td>Low Fat</td>\n",
       "      <td>0.016760</td>\n",
       "      <td>Meat</td>\n",
       "      <td>141.6180</td>\n",
       "      <td>Medium</td>\n",
       "      <td>Tier 1</td>\n",
       "      <td>Supermarket Type1</td>\n",
       "      <td>2097.2700</td>\n",
       "    </tr>\n",
       "    <tr>\n",
       "      <th>4</th>\n",
       "      <td>8.930</td>\n",
       "      <td>Low Fat</td>\n",
       "      <td>0.000000</td>\n",
       "      <td>Household</td>\n",
       "      <td>53.8614</td>\n",
       "      <td>High</td>\n",
       "      <td>Tier 3</td>\n",
       "      <td>Supermarket Type1</td>\n",
       "      <td>994.7052</td>\n",
       "    </tr>\n",
       "    <tr>\n",
       "      <th>5</th>\n",
       "      <td>10.395</td>\n",
       "      <td>Regular</td>\n",
       "      <td>0.000000</td>\n",
       "      <td>Baking Goods</td>\n",
       "      <td>51.4008</td>\n",
       "      <td>Medium</td>\n",
       "      <td>Tier 3</td>\n",
       "      <td>Supermarket Type2</td>\n",
       "      <td>556.6088</td>\n",
       "    </tr>\n",
       "  </tbody>\n",
       "</table>\n",
       "</div>"
      ],
      "text/plain": [
       "     商品重量    是否低脂肪  货架上此商品总展示区域占比          商品类型    商品最高售价   折扣店规模 折扣店所在城市类型  \\\n",
       "0   9.300  Low Fat       0.016047         Dairy  249.8092  Medium    Tier 1   \n",
       "1   5.920  Regular       0.019278   Soft Drinks   48.2692  Medium    Tier 3   \n",
       "2  17.500  Low Fat       0.016760          Meat  141.6180  Medium    Tier 1   \n",
       "4   8.930  Low Fat       0.000000     Household   53.8614    High    Tier 3   \n",
       "5  10.395  Regular       0.000000  Baking Goods   51.4008  Medium    Tier 3   \n",
       "\n",
       "               折扣店类型      商品销售量  \n",
       "0  Supermarket Type1  3735.1380  \n",
       "1  Supermarket Type2   443.4228  \n",
       "2  Supermarket Type1  2097.2700  \n",
       "4  Supermarket Type1   994.7052  \n",
       "5  Supermarket Type2   556.6088  "
      ]
     },
     "execution_count": 6,
     "metadata": {},
     "output_type": "execute_result"
    }
   ],
   "source": [
    "df.head()"
   ]
  },
  {
   "cell_type": "markdown",
   "metadata": {},
   "source": [
    "# 数据训练\n",
    "---\n",
    "- **模型选择XGBoost**\n",
    "- 数据集37分\n"
   ]
  },
  {
   "cell_type": "code",
   "execution_count": 7,
   "metadata": {
    "ExecuteTime": {
     "end_time": "2024-04-30T14:29:58.701249Z",
     "start_time": "2024-04-30T14:29:58.686467Z"
    }
   },
   "outputs": [],
   "source": [
    "# 数据集37划分\n",
    "X=train_df.drop('商品销售量', axis=1)\n",
    "y=train_df['商品销售量']\n",
    "X_train, X_test, y_train, y_test = train_test_split(X, y, test_size=0.3, random_state=101)"
   ]
  },
  {
   "cell_type": "code",
   "execution_count": 8,
   "metadata": {
    "ExecuteTime": {
     "end_time": "2024-04-30T14:29:59.044053Z",
     "start_time": "2024-04-30T14:29:58.702249Z"
    }
   },
   "outputs": [
    {
     "name": "stdout",
     "output_type": "stream",
     "text": [
      "[0]\ttrain-rmse:2169.63681\ttest-rmse:2237.43690\n",
      "[1]\ttrain-rmse:1705.24439\ttest-rmse:1783.63537\n",
      "[2]\ttrain-rmse:1415.01152\ttest-rmse:1503.09974\n",
      "[3]\ttrain-rmse:1240.22221\ttest-rmse:1339.08339\n",
      "[4]\ttrain-rmse:1139.95830\ttest-rmse:1243.92590\n",
      "[5]\ttrain-rmse:1075.95716\ttest-rmse:1198.18061\n",
      "[6]\ttrain-rmse:1041.10191\ttest-rmse:1167.47813\n",
      "[7]\ttrain-rmse:1016.44575\ttest-rmse:1154.58031\n",
      "[8]\ttrain-rmse:1000.08182\ttest-rmse:1145.71500\n",
      "[9]\ttrain-rmse:990.38171\ttest-rmse:1139.30256\n",
      "[10]\ttrain-rmse:979.29464\ttest-rmse:1137.07789\n",
      "[11]\ttrain-rmse:971.17725\ttest-rmse:1135.75169\n",
      "[12]\ttrain-rmse:962.08272\ttest-rmse:1135.26247\n",
      "[13]\ttrain-rmse:957.20388\ttest-rmse:1136.21157\n",
      "[14]\ttrain-rmse:944.10105\ttest-rmse:1137.10136\n",
      "[15]\ttrain-rmse:937.29285\ttest-rmse:1139.14644\n",
      "[16]\ttrain-rmse:922.10407\ttest-rmse:1140.30290\n",
      "[17]\ttrain-rmse:919.80629\ttest-rmse:1140.54173\n",
      "[18]\ttrain-rmse:916.57960\ttest-rmse:1140.74073\n",
      "[19]\ttrain-rmse:908.68044\ttest-rmse:1141.52496\n",
      "[20]\ttrain-rmse:905.63736\ttest-rmse:1142.16538\n",
      "[21]\ttrain-rmse:902.92936\ttest-rmse:1142.39528\n",
      "[22]\ttrain-rmse:895.38487\ttest-rmse:1145.61546\n",
      "[23]\ttrain-rmse:886.74206\ttest-rmse:1147.74685\n",
      "[24]\ttrain-rmse:876.79345\ttest-rmse:1148.63631\n",
      "[25]\ttrain-rmse:868.96929\ttest-rmse:1147.56996\n",
      "[26]\ttrain-rmse:862.04302\ttest-rmse:1150.39952\n",
      "[27]\ttrain-rmse:855.62767\ttest-rmse:1151.66887\n",
      "[28]\ttrain-rmse:845.00419\ttest-rmse:1151.84753\n",
      "[29]\ttrain-rmse:840.29759\ttest-rmse:1152.91154\n",
      "[30]\ttrain-rmse:835.12094\ttest-rmse:1152.98071\n",
      "[31]\ttrain-rmse:831.96057\ttest-rmse:1152.41352\n",
      "[32]\ttrain-rmse:825.54265\ttest-rmse:1153.82346\n",
      "[33]\ttrain-rmse:816.91424\ttest-rmse:1155.14741\n",
      "[34]\ttrain-rmse:810.62450\ttest-rmse:1156.21339\n",
      "[35]\ttrain-rmse:806.04444\ttest-rmse:1159.66493\n",
      "[36]\ttrain-rmse:797.28304\ttest-rmse:1162.57057\n",
      "[37]\ttrain-rmse:790.81076\ttest-rmse:1164.13541\n",
      "[38]\ttrain-rmse:783.44320\ttest-rmse:1166.28094\n",
      "[39]\ttrain-rmse:779.80832\ttest-rmse:1167.45399\n",
      "[40]\ttrain-rmse:777.94855\ttest-rmse:1168.23428\n",
      "[41]\ttrain-rmse:775.36023\ttest-rmse:1168.53422\n",
      "[42]\ttrain-rmse:769.66480\ttest-rmse:1168.88862\n",
      "[43]\ttrain-rmse:763.90514\ttest-rmse:1170.21919\n",
      "[44]\ttrain-rmse:758.82730\ttest-rmse:1170.39302\n",
      "[45]\ttrain-rmse:750.18256\ttest-rmse:1172.15155\n",
      "[46]\ttrain-rmse:744.45390\ttest-rmse:1174.09149\n",
      "[47]\ttrain-rmse:739.95255\ttest-rmse:1175.52005\n",
      "[48]\ttrain-rmse:738.68903\ttest-rmse:1175.85044\n",
      "[49]\ttrain-rmse:736.99806\ttest-rmse:1175.50072\n",
      "[50]\ttrain-rmse:733.24482\ttest-rmse:1176.61845\n",
      "[51]\ttrain-rmse:728.34971\ttest-rmse:1176.18194\n",
      "[52]\ttrain-rmse:725.44067\ttest-rmse:1176.45103\n",
      "[53]\ttrain-rmse:721.37082\ttest-rmse:1177.65550\n",
      "[54]\ttrain-rmse:717.35455\ttest-rmse:1178.50177\n",
      "[55]\ttrain-rmse:711.03851\ttest-rmse:1179.23811\n",
      "[56]\ttrain-rmse:705.58898\ttest-rmse:1179.93957\n",
      "[57]\ttrain-rmse:697.39856\ttest-rmse:1181.72758\n",
      "[58]\ttrain-rmse:695.86736\ttest-rmse:1182.79919\n",
      "[59]\ttrain-rmse:692.89381\ttest-rmse:1183.65758\n",
      "[60]\ttrain-rmse:690.27769\ttest-rmse:1183.70088\n",
      "[61]\ttrain-rmse:683.37020\ttest-rmse:1184.29479\n",
      "[62]\ttrain-rmse:676.97477\ttest-rmse:1185.84297\n",
      "[63]\ttrain-rmse:673.22657\ttest-rmse:1185.51391\n",
      "[64]\ttrain-rmse:669.25259\ttest-rmse:1185.81862\n",
      "[65]\ttrain-rmse:666.11420\ttest-rmse:1185.77117\n",
      "[66]\ttrain-rmse:661.79359\ttest-rmse:1186.86869\n",
      "[67]\ttrain-rmse:659.01192\ttest-rmse:1186.62465\n",
      "[68]\ttrain-rmse:654.35718\ttest-rmse:1188.15857\n",
      "[69]\ttrain-rmse:649.38096\ttest-rmse:1190.33644\n",
      "[70]\ttrain-rmse:644.61127\ttest-rmse:1191.30212\n",
      "[71]\ttrain-rmse:640.72364\ttest-rmse:1191.78784\n",
      "[72]\ttrain-rmse:638.35392\ttest-rmse:1191.53221\n",
      "[73]\ttrain-rmse:634.34079\ttest-rmse:1192.72738\n",
      "[74]\ttrain-rmse:631.82771\ttest-rmse:1193.67239\n",
      "[75]\ttrain-rmse:630.11024\ttest-rmse:1193.81557\n",
      "[76]\ttrain-rmse:628.35332\ttest-rmse:1193.49121\n",
      "[77]\ttrain-rmse:623.45558\ttest-rmse:1195.33531\n",
      "[78]\ttrain-rmse:617.97853\ttest-rmse:1195.94176\n",
      "[79]\ttrain-rmse:615.03420\ttest-rmse:1195.91498\n",
      "[80]\ttrain-rmse:609.10812\ttest-rmse:1197.11195\n",
      "[81]\ttrain-rmse:605.91571\ttest-rmse:1197.37666\n",
      "[82]\ttrain-rmse:601.80904\ttest-rmse:1196.41945\n",
      "[83]\ttrain-rmse:596.10108\ttest-rmse:1196.94977\n",
      "[84]\ttrain-rmse:591.86471\ttest-rmse:1197.85848\n",
      "[85]\ttrain-rmse:590.33919\ttest-rmse:1198.44695\n",
      "[86]\ttrain-rmse:587.14351\ttest-rmse:1198.87946\n",
      "[87]\ttrain-rmse:581.24563\ttest-rmse:1199.30658\n",
      "[88]\ttrain-rmse:579.16300\ttest-rmse:1199.85514\n",
      "[89]\ttrain-rmse:576.39985\ttest-rmse:1200.33252\n",
      "[90]\ttrain-rmse:569.44427\ttest-rmse:1202.83587\n",
      "[91]\ttrain-rmse:567.30992\ttest-rmse:1203.29155\n",
      "[92]\ttrain-rmse:565.36767\ttest-rmse:1204.11805\n",
      "[93]\ttrain-rmse:561.28132\ttest-rmse:1204.26734\n",
      "[94]\ttrain-rmse:557.86851\ttest-rmse:1205.94737\n",
      "[95]\ttrain-rmse:555.32508\ttest-rmse:1206.21798\n",
      "[96]\ttrain-rmse:554.05692\ttest-rmse:1206.51992\n",
      "[97]\ttrain-rmse:549.56999\ttest-rmse:1207.66679\n",
      "[98]\ttrain-rmse:546.93953\ttest-rmse:1207.81194\n",
      "[99]\ttrain-rmse:544.33756\ttest-rmse:1208.89847\n"
     ]
    }
   ],
   "source": [
    "# 将数据转换为 DMatrix 格式\n",
    "dtrain = xgb.DMatrix(X_train, label=y_train)\n",
    "dtest = xgb.DMatrix(X_test, label=y_test)\n",
    "\n",
    "# 定义模型参数\n",
    "params = {\n",
    "    'objective': 'reg:squarederror',  # 回归任务\n",
    "    'eval_metric': 'rmse'  # 评估指标\n",
    "}\n",
    "\n",
    "# 训练模型\n",
    "epochs = 100\n",
    "evals_result = {}\n",
    "model = xgb.train(params, dtrain, epochs, evals=[(dtrain, 'train'), (dtest, 'test')], evals_result=evals_result)\n",
    "\n",
    "# 预测\n",
    "preds = model.predict(dtest)"
   ]
  },
  {
   "cell_type": "code",
   "execution_count": 9,
   "metadata": {
    "ExecuteTime": {
     "end_time": "2024-04-30T14:29:59.199321Z",
     "start_time": "2024-04-30T14:29:59.046894Z"
    }
   },
   "outputs": [
    {
     "data": {
      "text/plain": [
       "Text(0, 0.5, 'rmse')"
      ]
     },
     "execution_count": 9,
     "metadata": {},
     "output_type": "execute_result"
    },
    {
     "data": {
      "image/png": "[encoded data removed]",
      "text/plain": [
       "<Figure size 800x550 with 1 Axes>"
      ]
     },
     "metadata": {},
     "output_type": "display_data"
    }
   ],
   "source": [
    "plt.plot(evals_result['train']['rmse'])\n",
    "plt.title('train-rmse')\n",
    "plt.xlabel('epoch')\n",
    "plt.ylabel('rmse')"
   ]
  },
  {
   "cell_type": "code",
   "execution_count": 10,
   "metadata": {
    "ExecuteTime": {
     "end_time": "2024-04-30T14:29:59.293791Z",
     "start_time": "2024-04-30T14:29:59.200321Z"
    }
   },
   "outputs": [
    {
     "data": {
      "text/plain": [
       "Text(0, 0.5, 'rmse')"
      ]
     },
     "execution_count": 10,
     "metadata": {},
     "output_type": "execute_result"
    },
    {
     "data": {
      "image/png": "[encoded data removed]",
      "text/plain": [
       "<Figure size 800x550 with 1 Axes>"
      ]
     },
     "metadata": {},
     "output_type": "display_data"
    }
   ],
   "source": [
    "plt.plot(evals_result['test']['rmse'])\n",
    "plt.title('test-rmse')\n",
    "plt.xlabel('epoch')\n",
    "plt.ylabel('rmse')"
   ]
  },
  {
   "cell_type": "code",
   "execution_count": 11,
   "metadata": {
    "ExecuteTime": {
     "end_time": "2024-04-30T14:29:59.309139Z",
     "start_time": "2024-04-30T14:29:59.295024Z"
    }
   },
   "outputs": [
    {
     "name": "stdout",
     "output_type": "stream",
     "text": [
      "RMSE: 1209\n",
      "R2 Score: 0.54\n"
     ]
    }
   ],
   "source": [
    "def metrics(y_test, preds):\n",
    "#     cm = confusion_matrix(y_test, preds)\n",
    "#     cr = classification_report(y_test, preds)\n",
    "#     f1 = f1_score(y_test, preds)\n",
    "    rmse = mean_squared_error(y_test, preds, squared=False)\n",
    "    r2 = r2_score(y_test, preds)\n",
    "\n",
    "    #     print(cm)\n",
    "    #     print(cr)\n",
    "    #     print(\"F1 Score :\",f1)\n",
    "    print(\"RMSE:\", round(rmse))\n",
    "    print(\"R2 Score:\", round(r2,2))\n",
    "\n",
    "\n",
    "metrics(y_test, preds)  # 输出指标"
   ]
  },
  {
   "cell_type": "markdown",
   "metadata": {},
   "source": [
    "# 结论\n",
    "---\n",
    "## 结果\n",
    "- RMSE:1209\n",
    "- R2:0.54\n",
    "## 模型提升\n",
    "- 对于商品重量与区域占比之间是否存在较强的线性关系需要进行考证或者用商品重量与其他变量进行关联填充数据\n",
    "- 商品重量对于最后的销售量的影响可能没有多大，将其直接剔除或许对模型的提升会更加明显\n",
    "- 折扣店规模与商品重量分析同理\n",
    "- 可以和其他模型对比分析"
   ]
  }
 ],
 "metadata": {
  "kernelspec": {
   "display_name": "Python 3 (ipykernel)",
   "language": "python",
   "name": "python3"
  },
  "language_info": {
   "codemirror_mode": {
    "name": "ipython",
    "version": 3
   },
   "file_extension": ".py",
   "mimetype": "text/x-python",
   "name": "python",
   "nbconvert_exporter": "python",
   "pygments_lexer": "ipython3",
   "version": "3.8.17"
  },
  "toc": {
   "base_numbering": 1,
   "nav_menu": {},
   "number_sections": true,
   "sideBar": true,
   "skip_h1_title": false,
   "title_cell": "Table of Contents",
   "title_sidebar": "Contents",
   "toc_cell": false,
   "toc_position": {},
   "toc_section_display": true,
   "toc_window_display": false
  }
 },
 "nbformat": 4,
 "nbformat_minor": 1
}