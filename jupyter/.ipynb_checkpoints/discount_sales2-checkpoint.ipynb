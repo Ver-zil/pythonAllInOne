{
 "cells": [
  {
   "cell_type": "markdown",
   "id": "06d3ec8e",
   "metadata": {},
   "source": [
    "# 折扣店销售"
   ]
  },
  {
   "cell_type": "code",
   "execution_count": 1,
   "id": "bee8b7e4",
   "metadata": {
    "ExecuteTime": {
     "end_time": "2024-05-03T08:58:57.768269Z",
     "start_time": "2024-05-03T08:58:56.496885Z"
    }
   },
   "outputs": [
    {
     "data": {
      "text/html": [
       "<div>\n",
       "<style scoped>\n",
       "    .dataframe tbody tr th:only-of-type {\n",
       "        vertical-align: middle;\n",
       "    }\n",
       "\n",
       "    .dataframe tbody tr th {\n",
       "        vertical-align: top;\n",
       "    }\n",
       "\n",
       "    .dataframe thead th {\n",
       "        text-align: right;\n",
       "    }\n",
       "</style>\n",
       "<table border=\"1\" class=\"dataframe\">\n",
       "  <thead>\n",
       "    <tr style=\"text-align: right;\">\n",
       "      <th></th>\n",
       "      <th>商品编号</th>\n",
       "      <th>商品重量</th>\n",
       "      <th>是否低脂肪</th>\n",
       "      <th>货架上此商品总展示区域占比</th>\n",
       "      <th>商品类型</th>\n",
       "      <th>商品最高售价</th>\n",
       "      <th>折扣店编号</th>\n",
       "      <th>折扣店开办时间</th>\n",
       "      <th>折扣店规模</th>\n",
       "      <th>折扣店所在城市类型</th>\n",
       "      <th>折扣店类型</th>\n",
       "      <th>商品销售量</th>\n",
       "    </tr>\n",
       "  </thead>\n",
       "  <tbody>\n",
       "    <tr>\n",
       "      <th>0</th>\n",
       "      <td>FDA15</td>\n",
       "      <td>9.30</td>\n",
       "      <td>Low Fat</td>\n",
       "      <td>0.016047</td>\n",
       "      <td>Dairy</td>\n",
       "      <td>249.8092</td>\n",
       "      <td>OUT049</td>\n",
       "      <td>1999</td>\n",
       "      <td>Medium</td>\n",
       "      <td>Tier 1</td>\n",
       "      <td>Supermarket Type1</td>\n",
       "      <td>3735.1380</td>\n",
       "    </tr>\n",
       "    <tr>\n",
       "      <th>1</th>\n",
       "      <td>DRC01</td>\n",
       "      <td>5.92</td>\n",
       "      <td>Regular</td>\n",
       "      <td>0.019278</td>\n",
       "      <td>Soft Drinks</td>\n",
       "      <td>48.2692</td>\n",
       "      <td>OUT018</td>\n",
       "      <td>2009</td>\n",
       "      <td>Medium</td>\n",
       "      <td>Tier 3</td>\n",
       "      <td>Supermarket Type2</td>\n",
       "      <td>443.4228</td>\n",
       "    </tr>\n",
       "    <tr>\n",
       "      <th>2</th>\n",
       "      <td>FDN15</td>\n",
       "      <td>17.50</td>\n",
       "      <td>Low Fat</td>\n",
       "      <td>0.016760</td>\n",
       "      <td>Meat</td>\n",
       "      <td>141.6180</td>\n",
       "      <td>OUT049</td>\n",
       "      <td>1999</td>\n",
       "      <td>Medium</td>\n",
       "      <td>Tier 1</td>\n",
       "      <td>Supermarket Type1</td>\n",
       "      <td>2097.2700</td>\n",
       "    </tr>\n",
       "    <tr>\n",
       "      <th>3</th>\n",
       "      <td>FDX07</td>\n",
       "      <td>19.20</td>\n",
       "      <td>Regular</td>\n",
       "      <td>0.000000</td>\n",
       "      <td>Fruits and Vegetables</td>\n",
       "      <td>182.0950</td>\n",
       "      <td>OUT010</td>\n",
       "      <td>1998</td>\n",
       "      <td>NaN</td>\n",
       "      <td>Tier 3</td>\n",
       "      <td>Grocery Store</td>\n",
       "      <td>732.3800</td>\n",
       "    </tr>\n",
       "    <tr>\n",
       "      <th>4</th>\n",
       "      <td>NCD19</td>\n",
       "      <td>8.93</td>\n",
       "      <td>Low Fat</td>\n",
       "      <td>0.000000</td>\n",
       "      <td>Household</td>\n",
       "      <td>53.8614</td>\n",
       "      <td>OUT013</td>\n",
       "      <td>1987</td>\n",
       "      <td>High</td>\n",
       "      <td>Tier 3</td>\n",
       "      <td>Supermarket Type1</td>\n",
       "      <td>994.7052</td>\n",
       "    </tr>\n",
       "  </tbody>\n",
       "</table>\n",
       "</div>"
      ],
      "text/plain": [
       "    商品编号   商品重量    是否低脂肪  货架上此商品总展示区域占比                   商品类型    商品最高售价  \\\n",
       "0  FDA15   9.30  Low Fat       0.016047                  Dairy  249.8092   \n",
       "1  DRC01   5.92  Regular       0.019278            Soft Drinks   48.2692   \n",
       "2  FDN15  17.50  Low Fat       0.016760                   Meat  141.6180   \n",
       "3  FDX07  19.20  Regular       0.000000  Fruits and Vegetables  182.0950   \n",
       "4  NCD19   8.93  Low Fat       0.000000              Household   53.8614   \n",
       "\n",
       "    折扣店编号  折扣店开办时间   折扣店规模 折扣店所在城市类型              折扣店类型      商品销售量  \n",
       "0  OUT049     1999  Medium    Tier 1  Supermarket Type1  3735.1380  \n",
       "1  OUT018     2009  Medium    Tier 3  Supermarket Type2   443.4228  \n",
       "2  OUT049     1999  Medium    Tier 1  Supermarket Type1  2097.2700  \n",
       "3  OUT010     1998     NaN    Tier 3      Grocery Store   732.3800  \n",
       "4  OUT013     1987    High    Tier 3  Supermarket Type1   994.7052  "
      ]
     },
     "execution_count": 1,
     "metadata": {},
     "output_type": "execute_result"
    }
   ],
   "source": [
    "import pandas as pd\n",
    "import matplotlib.pyplot as plt\n",
    "import numpy as np\n",
    "\n",
    "from sklearn.model_selection import train_test_split\n",
    "from sklearn.metrics import mean_squared_error, r2_score\n",
    "from sklearn.linear_model import LinearRegression\n",
    "\n",
    "plt.style.use('seaborn-v0_8')\n",
    "\n",
    "path = r'C:\\Users\\user\\Desktop\\折扣店销售数据.csv'\n",
    "df = pd.read_csv(path, encoding='gbk')\n",
    "\n",
    "df.head()"
   ]
  },
  {
   "cell_type": "code",
   "execution_count": 2,
   "id": "591e3d83",
   "metadata": {
    "ExecuteTime": {
     "end_time": "2024-05-03T08:58:57.784326Z",
     "start_time": "2024-05-03T08:58:57.769266Z"
    }
   },
   "outputs": [
    {
     "name": "stdout",
     "output_type": "stream",
     "text": [
      "<class 'pandas.core.frame.DataFrame'>\n",
      "RangeIndex: 8523 entries, 0 to 8522\n",
      "Data columns (total 12 columns):\n",
      " #   Column         Non-Null Count  Dtype  \n",
      "---  ------         --------------  -----  \n",
      " 0   商品编号           8523 non-null   object \n",
      " 1   商品重量           7060 non-null   float64\n",
      " 2   是否低脂肪          8523 non-null   object \n",
      " 3   货架上此商品总展示区域占比  8523 non-null   float64\n",
      " 4   商品类型           8523 non-null   object \n",
      " 5   商品最高售价         8523 non-null   float64\n",
      " 6   折扣店编号          8523 non-null   object \n",
      " 7   折扣店开办时间        8523 non-null   int64  \n",
      " 8   折扣店规模          6113 non-null   object \n",
      " 9   折扣店所在城市类型      8523 non-null   object \n",
      " 10  折扣店类型          8523 non-null   object \n",
      " 11  商品销售量          8523 non-null   float64\n",
      "dtypes: float64(4), int64(1), object(7)\n",
      "memory usage: 799.2+ KB\n"
     ]
    }
   ],
   "source": [
    "df.info()"
   ]
  },
  {
   "cell_type": "markdown",
   "id": "a98004c8",
   "metadata": {},
   "source": [
    "# 数据预处理"
   ]
  },
  {
   "cell_type": "code",
   "execution_count": 3,
   "id": "93a40c51",
   "metadata": {
    "ExecuteTime": {
     "end_time": "2024-05-03T08:58:57.816326Z",
     "start_time": "2024-05-03T08:58:57.785327Z"
    },
    "code_folding": []
   },
   "outputs": [],
   "source": [
    "# 去除不需要的特征\n",
    "df.drop(['商品编号', '折扣店编号', '折扣店开办时间'], axis=1, inplace=True)\n",
    "\n",
    "# 去除缺失的数据\n",
    "df.dropna(subset=['折扣店规模'], inplace=True)\n",
    "\n",
    "\n",
    "# 对缺失值用0填充\n",
    "def fill_weight(df):\n",
    "    return 0\n",
    "\n",
    "\n",
    "df['商品重量'] = df[['商品重量']].apply(fill_weight, axis=1)\n",
    "\n",
    "df['商品重量'] = df['商品重量'].astype('float64')\n",
    "train_df = pd.get_dummies(df, drop_first=True)"
   ]
  },
  {
   "cell_type": "markdown",
   "id": "dbe8a665",
   "metadata": {},
   "source": [
    "# 模型训练"
   ]
  },
  {
   "cell_type": "code",
   "execution_count": 4,
   "id": "9f97adc1",
   "metadata": {
    "ExecuteTime": {
     "end_time": "2024-05-03T08:58:57.832330Z",
     "start_time": "2024-05-03T08:58:57.817326Z"
    },
    "code_folding": []
   },
   "outputs": [],
   "source": [
    "X = train_df.drop('商品销售量', axis=1)\n",
    "y = train_df['商品销售量']\n",
    "X_train, X_test, y_train, y_test = train_test_split(X,\n",
    "                                                    y,\n",
    "                                                    test_size=0.25,\n",
    "                                                    random_state=0)"
   ]
  },
  {
   "cell_type": "code",
   "execution_count": 5,
   "id": "7b81315f",
   "metadata": {
    "ExecuteTime": {
     "end_time": "2024-05-03T08:58:57.879194Z",
     "start_time": "2024-05-03T08:58:57.833022Z"
    }
   },
   "outputs": [],
   "source": [
    "LR = LinearRegression()\n",
    "LR.fit(X_train, y_train)\n",
    "preds = LR.predict(X_test)"
   ]
  },
  {
   "cell_type": "code",
   "execution_count": 6,
   "id": "96234c04",
   "metadata": {
    "ExecuteTime": {
     "end_time": "2024-05-03T08:58:57.895197Z",
     "start_time": "2024-05-03T08:58:57.880194Z"
    }
   },
   "outputs": [
    {
     "name": "stdout",
     "output_type": "stream",
     "text": [
      "RMSE: 1171\n",
      "R2 Score: 0.57\n"
     ]
    }
   ],
   "source": [
    "def metrics(y_test, preds):\n",
    "    rmse = mean_squared_error(y_test, preds, squared=False)\n",
    "    r2 = r2_score(y_test, preds)\n",
    "\n",
    "    print(\"RMSE:\", round(rmse))\n",
    "    print(\"R2 Score:\", round(r2, 2))\n",
    "\n",
    "\n",
    "metrics(y_test, preds)  # 输出指标"
   ]
  },
  {
   "cell_type": "markdown",
   "id": "0c7858fa",
   "metadata": {},
   "source": [
    "# 结论\n",
    "---\n",
    "## 结果\n",
    "- RMSE:1171\n",
    "- R2:0.57\n",
    "## 模型提升\n",
    "- 对于缺失值可以采用其他方式进行填充，而不是直接用0\n",
    "- 可以和其他模型对比分析"
   ]
  }
 ],
 "metadata": {
  "kernelspec": {
   "display_name": "Python 3 (ipykernel)",
   "language": "python",
   "name": "python3"
  },
  "language_info": {
   "codemirror_mode": {
    "name": "ipython",
    "version": 3
   },
   "file_extension": ".py",
   "mimetype": "text/x-python",
   "name": "python",
   "nbconvert_exporter": "python",
   "pygments_lexer": "ipython3",
   "version": "3.8.17"
  },
  "toc": {
   "base_numbering": 1,
   "nav_menu": {},
   "number_sections": true,
   "sideBar": true,
   "skip_h1_title": false,
   "title_cell": "Table of Contents",
   "title_sidebar": "Contents",
   "toc_cell": false,
   "toc_position": {},
   "toc_section_display": true,
   "toc_window_display": false
  }
 },
 "nbformat": 4,
 "nbformat_minor": 5
}
