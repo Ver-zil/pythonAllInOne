{
 "cells": [
  {
   "cell_type": "markdown",
   "metadata": {},
   "source": [
    "# 数据分析\n",
    "---\n",
    "**本次数据数据集中的数据基本都是离散型变量，所有的变量只有*包装、香调、分类*三个变量有分析价值**\n",
    "<br>\n",
    "**分析以分类作为示例进行频数分析、集中度分析、离散度分析，相关度分析因离散型变量不作细致分析**"
   ]
  },
  {
   "cell_type": "code",
   "execution_count": 1,
   "metadata": {
    "ExecuteTime": {
     "end_time": "2024-04-30T14:35:36.046868Z",
     "start_time": "2024-04-30T14:35:35.371129Z"
    },
    "scrolled": true
   },
   "outputs": [
    {
     "data": {
      "text/html": [
       "<div>\n",
       "<style scoped>\n",
       "    .dataframe tbody tr th:only-of-type {\n",
       "        vertical-align: middle;\n",
       "    }\n",
       "\n",
       "    .dataframe tbody tr th {\n",
       "        vertical-align: top;\n",
       "    }\n",
       "\n",
       "    .dataframe thead th {\n",
       "        text-align: right;\n",
       "    }\n",
       "</style>\n",
       "<table border=\"1\" class=\"dataframe\">\n",
       "  <thead>\n",
       "    <tr style=\"text-align: right;\">\n",
       "      <th></th>\n",
       "      <th>商品名称</th>\n",
       "      <th>产品毛重</th>\n",
       "      <th>商品产地</th>\n",
       "      <th>包装</th>\n",
       "      <th>香调</th>\n",
       "      <th>净含量</th>\n",
       "      <th>分类</th>\n",
       "      <th>性别</th>\n",
       "      <th>适用场所</th>\n",
       "      <th>价格</th>\n",
       "      <th>评价</th>\n",
       "      <th>Unnamed: 11</th>\n",
       "    </tr>\n",
       "  </thead>\n",
       "  <tbody>\n",
       "    <tr>\n",
       "      <th>0</th>\n",
       "      <td>冰希黎6956008601463</td>\n",
       "      <td>10.00g</td>\n",
       "      <td>中国大陆上海</td>\n",
       "      <td>Q版香水</td>\n",
       "      <td>花果香调</td>\n",
       "      <td>1ml-15ml</td>\n",
       "      <td>浓香水EDP</td>\n",
       "      <td>女</td>\n",
       "      <td>日常，约会，情趣，商务，party聚会，旅行</td>\n",
       "      <td>9.9</td>\n",
       "      <td>1.9万+</td>\n",
       "      <td>NaN</td>\n",
       "    </tr>\n",
       "    <tr>\n",
       "      <th>1</th>\n",
       "      <td>冰希黎6956008601432</td>\n",
       "      <td>200.00g</td>\n",
       "      <td>中国大陆上海</td>\n",
       "      <td>Q版香水</td>\n",
       "      <td>混合香调</td>\n",
       "      <td>1ml-15ml</td>\n",
       "      <td>浓香水EDP</td>\n",
       "      <td>女</td>\n",
       "      <td>日常，约会，party聚会，运动，旅行</td>\n",
       "      <td>9.9</td>\n",
       "      <td>1.9万+</td>\n",
       "      <td>NaN</td>\n",
       "    </tr>\n",
       "    <tr>\n",
       "      <th>2</th>\n",
       "      <td>（免邮）上海老国货艾琳法国茉莉女士香水75ml EDP 持久淡香清新花香调</td>\n",
       "      <td>160.00g</td>\n",
       "      <td>NaN</td>\n",
       "      <td>独立装</td>\n",
       "      <td>花果香调</td>\n",
       "      <td>31ml-100ml</td>\n",
       "      <td>浓香水EDP</td>\n",
       "      <td>女</td>\n",
       "      <td>日常，约会，商务，party聚会，旅行</td>\n",
       "      <td>18</td>\n",
       "      <td>90+</td>\n",
       "      <td>NaN</td>\n",
       "    </tr>\n",
       "    <tr>\n",
       "      <th>3</th>\n",
       "      <td>法颂浪漫梦境女士香膏15g 持久淡香清新固体精油香水香体膏 女士持久淡香礼盒</td>\n",
       "      <td>15.00g</td>\n",
       "      <td>NaN</td>\n",
       "      <td>Q版香水</td>\n",
       "      <td>花果香调</td>\n",
       "      <td>1ml-15ml</td>\n",
       "      <td>固体香水/香膏</td>\n",
       "      <td>女</td>\n",
       "      <td>日常，约会，商务，party聚会，运动，旅行</td>\n",
       "      <td>22</td>\n",
       "      <td>30+</td>\n",
       "      <td>NaN</td>\n",
       "    </tr>\n",
       "    <tr>\n",
       "      <th>4</th>\n",
       "      <td>雅芳香水</td>\n",
       "      <td>30.00g</td>\n",
       "      <td>中国大陆</td>\n",
       "      <td>独立装</td>\n",
       "      <td>东方香调</td>\n",
       "      <td>1ml-15ml</td>\n",
       "      <td>淡香水EDT</td>\n",
       "      <td>女</td>\n",
       "      <td>日常，约会，商务，party聚会，运动，旅行</td>\n",
       "      <td>23.9</td>\n",
       "      <td>3.9万+</td>\n",
       "      <td>NaN</td>\n",
       "    </tr>\n",
       "  </tbody>\n",
       "</table>\n",
       "</div>"
      ],
      "text/plain": [
       "                                     商品名称     产品毛重    商品产地    包装    香调  \\\n",
       "0                        冰希黎6956008601463   10.00g  中国大陆上海  Q版香水  花果香调   \n",
       "1                        冰希黎6956008601432  200.00g  中国大陆上海  Q版香水  混合香调   \n",
       "2  （免邮）上海老国货艾琳法国茉莉女士香水75ml EDP 持久淡香清新花香调   160.00g     NaN   独立装  花果香调   \n",
       "3  法颂浪漫梦境女士香膏15g 持久淡香清新固体精油香水香体膏 女士持久淡香礼盒   15.00g     NaN  Q版香水  花果香调   \n",
       "4                                    雅芳香水   30.00g    中国大陆   独立装  东方香调   \n",
       "\n",
       "          净含量       分类 性别                    适用场所    价格     评价 Unnamed: 11  \n",
       "0    1ml-15ml   浓香水EDP  女  日常，约会，情趣，商务，party聚会，旅行   9.9  1.9万+         NaN  \n",
       "1    1ml-15ml   浓香水EDP  女     日常，约会，party聚会，运动，旅行   9.9  1.9万+         NaN  \n",
       "2  31ml-100ml   浓香水EDP  女     日常，约会，商务，party聚会，旅行    18    90+         NaN  \n",
       "3    1ml-15ml  固体香水/香膏  女  日常，约会，商务，party聚会，运动，旅行    22    30+         NaN  \n",
       "4    1ml-15ml   淡香水EDT  女  日常，约会，商务，party聚会，运动，旅行  23.9  3.9万+         NaN  "
      ]
     },
     "execution_count": 1,
     "metadata": {},
     "output_type": "execute_result"
    }
   ],
   "source": [
    "import pandas as pd\n",
    "import matplotlib.pyplot as plt\n",
    "\n",
    "plt.style.use('seaborn-v0_8')\n",
    "\n",
    "# 加载数据集\n",
    "path = r'C:\\Users\\11435\\Desktop\\京东香水.csv'\n",
    "df = pd.read_csv(path)\n",
    "\n",
    "# 查看数据集的前几行以了解数据结构\n",
    "df.head()"
   ]
  },
  {
   "cell_type": "code",
   "execution_count": 2,
   "metadata": {
    "ExecuteTime": {
     "end_time": "2024-04-30T14:35:36.061869Z",
     "start_time": "2024-04-30T14:35:36.047869Z"
    }
   },
   "outputs": [
    {
     "name": "stdout",
     "output_type": "stream",
     "text": [
      "<class 'pandas.core.frame.DataFrame'>\n",
      "RangeIndex: 1009 entries, 0 to 1008\n",
      "Data columns (total 12 columns):\n",
      " #   Column       Non-Null Count  Dtype \n",
      "---  ------       --------------  ----- \n",
      " 0   商品名称         1009 non-null   object\n",
      " 1   产品毛重         1009 non-null   object\n",
      " 2   商品产地         489 non-null    object\n",
      " 3   包装           1007 non-null   object\n",
      " 4   香调           1005 non-null   object\n",
      " 5   净含量          1007 non-null   object\n",
      " 6   分类           1008 non-null   object\n",
      " 7   性别           1009 non-null   object\n",
      " 8   适用场所         969 non-null    object\n",
      " 9   价格           1009 non-null   object\n",
      " 10  评价           1009 non-null   object\n",
      " 11  Unnamed: 11  2 non-null      object\n",
      "dtypes: object(12)\n",
      "memory usage: 94.7+ KB\n"
     ]
    }
   ],
   "source": [
    "df.info()"
   ]
  },
  {
   "cell_type": "markdown",
   "metadata": {},
   "source": [
    "# 频数分析\n",
    "---\n",
    "**频数分析部分选择的变量为分类，对不同类别的数量进行统计分析**\n"
   ]
  },
  {
   "cell_type": "code",
   "execution_count": 3,
   "metadata": {
    "ExecuteTime": {
     "end_time": "2024-04-30T14:35:36.077869Z",
     "start_time": "2024-04-30T14:35:36.062869Z"
    },
    "pycharm": {
     "name": "#%%\n"
    }
   },
   "outputs": [
    {
     "name": "stdout",
     "output_type": "stream",
     "text": [
      "分类\n",
      "淡香水EDT        651\n",
      "浓香水EDP        265\n",
      "其它             60\n",
      "发香雾            12\n",
      "香体走珠            6\n",
      "香精parfum        6\n",
      "固体香水/香膏         3\n",
      "淡香水EDT，古龙水      3\n",
      "古龙水             2\n",
      "Name: count, dtype: int64\n"
     ]
    }
   ],
   "source": [
    "# 数据的频数分析\n",
    "print(df['分类'].value_counts())"
   ]
  },
  {
   "cell_type": "markdown",
   "metadata": {},
   "source": [
    "# 集中度分析\n",
    "---\n",
    "**连续型变量的集中度分析主要看均值以及中位数，离散型变量则是众数**"
   ]
  },
  {
   "cell_type": "code",
   "execution_count": 4,
   "metadata": {
    "ExecuteTime": {
     "end_time": "2024-04-30T14:35:36.093869Z",
     "start_time": "2024-04-30T14:35:36.078873Z"
    },
    "pycharm": {
     "name": "#%%\n"
    }
   },
   "outputs": [
    {
     "name": "stdout",
     "output_type": "stream",
     "text": [
      "0    淡香水EDT\n",
      "Name: 分类, dtype: object\n"
     ]
    }
   ],
   "source": [
    "# 数据的集中趋势分析\n",
    "# print(df['分类'].mean())  # 平均值\n",
    "# print(df['分类'].median())  # 中位数\n",
    "print(df['分类'].mode())  # 众数"
   ]
  },
  {
   "cell_type": "markdown",
   "metadata": {},
   "source": [
    "# 离散度分析\n",
    "---\n",
    "**连续型数据离散度用std以及var来进行刻画，离散型数据则用类别数量来刻画**"
   ]
  },
  {
   "cell_type": "code",
   "execution_count": 5,
   "metadata": {
    "ExecuteTime": {
     "end_time": "2024-04-30T14:35:36.109869Z",
     "start_time": "2024-04-30T14:35:36.094869Z"
    },
    "pycharm": {
     "name": "#%%\n"
    }
   },
   "outputs": [
    {
     "name": "stdout",
     "output_type": "stream",
     "text": [
      "类别数量 9\n"
     ]
    }
   ],
   "source": [
    "# 数据离散程度分析\n",
    "# print(df['分类'].std())  # 标准差\n",
    "# print(df['分类'].var())  # 方差\n",
    "print(f\"类别数量 {df['分类'].nunique()}\") # 类别数量"
   ]
  },
  {
   "cell_type": "markdown",
   "metadata": {},
   "source": [
    "# 数据分布\n",
    "---\n",
    "**连续型的数据分布通过盒状图进行刻画或者切割成离散型数据进行刻画，离散型数据直接用直方图刻画**"
   ]
  },
  {
   "cell_type": "code",
   "execution_count": 6,
   "metadata": {
    "ExecuteTime": {
     "end_time": "2024-04-30T14:35:36.281869Z",
     "start_time": "2024-04-30T14:35:36.110869Z"
    },
    "pycharm": {
     "name": "#%%\n"
    }
   },
   "outputs": [
    {
     "data": {
      "text/plain": [
       "Text(0, 0.5, 'Frequency')"
      ]
     },
     "execution_count": 6,
     "metadata": {},
     "output_type": "execute_result"
    },
    {
     "data": {
      "image/png": "[encoded data removed]",
      "text/plain": [
       "<Figure size 1300x600 with 1 Axes>"
      ]
     },
     "metadata": {},
     "output_type": "display_data"
    }
   ],
   "source": [
    "# 数据的分布\n",
    "plt.rcParams['font.family'] = 'Microsoft YaHei'\n",
    "freq_table = df['分类'].value_counts()\n",
    "categories = list(freq_table.keys())\n",
    "frequency = list(freq_table.values)\n",
    "plt.figure(figsize=(13, 6))\n",
    "plt.bar(categories, frequency, color='skyblue')\n",
    "plt.title('Frequency Histogram')\n",
    "plt.xlabel('Categories')\n",
    "plt.ylabel('Frequency')"
   ]
  },
  {
   "cell_type": "markdown",
   "metadata": {},
   "source": [
    "# 相关性分析\n",
    "---\n",
    "**连续型变量相关性分析直接通过协方差矩阵进行刻画，离散型变量则需要用卡方检验进行相关性分析**\n",
    "<br>\n",
    "**这里以分类和香调两个变量作为演示**"
   ]
  },
  {
   "cell_type": "code",
   "execution_count": 7,
   "metadata": {
    "ExecuteTime": {
     "end_time": "2024-04-30T14:35:36.741870Z",
     "start_time": "2024-04-30T14:35:36.282869Z"
    },
    "pycharm": {
     "name": "#%%\n"
    }
   },
   "outputs": [
    {
     "name": "stdout",
     "output_type": "stream",
     "text": [
      "变量相关性分析：\n",
      "卡方统计量: 393.6174482243526\n",
      "p 值: 6.329428036096377e-49\n"
     ]
    }
   ],
   "source": [
    "# 变量间的相关性分析\n",
    "# print(df.corr()) # 连续型变量相关性分析\n",
    "\n",
    "from scipy.stats import chi2_contingency\n",
    "\n",
    "contingency_table = pd.crosstab(df['分类'], df['香调'])\n",
    "chi2, p_value, _, _ = chi2_contingency(contingency_table)\n",
    "print(\"变量相关性分析：\")\n",
    "print(\"卡方统计量:\", chi2)\n",
    "print(\"p 值:\", p_value)"
   ]
  },
  {
   "cell_type": "markdown",
   "metadata": {
    "pycharm": {
     "name": "#%% md\n"
    }
   },
   "source": [
    "# 管理意义\n",
    "---\n",
    "- **了解每种香水的受欢迎程度**\n",
    "- **定位最热门的香水**\n",
    "- **帮助了解不同香水类型和其香调或者是其他变量的相关性**"
   ]
  },
  {
   "cell_type": "code",
   "execution_count": 8,
   "metadata": {
    "ExecuteTime": {
     "end_time": "2024-04-30T14:35:36.756872Z",
     "start_time": "2024-04-30T14:35:36.742870Z"
    }
   },
   "outputs": [
    {
     "data": {
      "text/plain": [
       "<bound method Series.keys of 分类\n",
       "淡香水EDT        651\n",
       "浓香水EDP        265\n",
       "其它             60\n",
       "发香雾            12\n",
       "香体走珠            6\n",
       "香精parfum        6\n",
       "固体香水/香膏         3\n",
       "淡香水EDT，古龙水      3\n",
       "古龙水             2\n",
       "Name: count, dtype: int64>"
      ]
     },
     "execution_count": 8,
     "metadata": {},
     "output_type": "execute_result"
    }
   ],
   "source": [
    "df['分类'].value_counts().keys\n"
   ]
  }
 ],
 "metadata": {
  "kernelspec": {
   "display_name": "Python 3 (ipykernel)",
   "language": "python",
   "name": "python3"
  },
  "language_info": {
   "codemirror_mode": {
    "name": "ipython",
    "version": 3
   },
   "file_extension": ".py",
   "mimetype": "text/x-python",
   "name": "python",
   "nbconvert_exporter": "python",
   "pygments_lexer": "ipython3",
   "version": "3.8.17"
  },
  "toc": {
   "base_numbering": 1,
   "nav_menu": {},
   "number_sections": true,
   "sideBar": true,
   "skip_h1_title": false,
   "title_cell": "Table of Contents",
   "title_sidebar": "Contents",
   "toc_cell": false,
   "toc_position": {},
   "toc_section_display": true,
   "toc_window_display": false
  }
 },
 "nbformat": 4,
 "nbformat_minor": 1
}
