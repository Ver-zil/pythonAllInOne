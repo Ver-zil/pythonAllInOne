{
 "cells": [
  {
   "cell_type": "markdown",
   "id": "4dccaf93",
   "metadata": {},
   "source": [
    "# Google Play"
   ]
  },
  {
   "cell_type": "code",
   "execution_count": 1,
   "id": "555a1db8",
   "metadata": {
    "ExecuteTime": {
     "end_time": "2024-05-07T13:49:22.656870Z",
     "start_time": "2024-05-07T13:49:22.389689Z"
    }
   },
   "outputs": [
    {
     "data": {
      "text/html": [
       "<div>\n",
       "<style scoped>\n",
       "    .dataframe tbody tr th:only-of-type {\n",
       "        vertical-align: middle;\n",
       "    }\n",
       "\n",
       "    .dataframe tbody tr th {\n",
       "        vertical-align: top;\n",
       "    }\n",
       "\n",
       "    .dataframe thead th {\n",
       "        text-align: right;\n",
       "    }\n",
       "</style>\n",
       "<table border=\"1\" class=\"dataframe\">\n",
       "  <thead>\n",
       "    <tr style=\"text-align: right;\">\n",
       "      <th></th>\n",
       "      <th>App</th>\n",
       "      <th>Category</th>\n",
       "      <th>Rating</th>\n",
       "      <th>Reviews</th>\n",
       "      <th>Size</th>\n",
       "      <th>Installs</th>\n",
       "      <th>Type</th>\n",
       "      <th>Price</th>\n",
       "      <th>Content Rating</th>\n",
       "      <th>Genres</th>\n",
       "      <th>Last Updated</th>\n",
       "      <th>Current Ver</th>\n",
       "      <th>Android Ver</th>\n",
       "    </tr>\n",
       "  </thead>\n",
       "  <tbody>\n",
       "    <tr>\n",
       "      <th>0</th>\n",
       "      <td>Photo Editor &amp; Candy Camera &amp; Grid &amp; ScrapBook</td>\n",
       "      <td>ART_AND_DESIGN</td>\n",
       "      <td>4.1</td>\n",
       "      <td>159</td>\n",
       "      <td>19M</td>\n",
       "      <td>10,000+</td>\n",
       "      <td>Free</td>\n",
       "      <td>0</td>\n",
       "      <td>Everyone</td>\n",
       "      <td>Art &amp; Design</td>\n",
       "      <td>7-Jan-18</td>\n",
       "      <td>1.0.0</td>\n",
       "      <td>4.0.3 and up</td>\n",
       "    </tr>\n",
       "    <tr>\n",
       "      <th>1</th>\n",
       "      <td>Coloring book moana</td>\n",
       "      <td>ART_AND_DESIGN</td>\n",
       "      <td>3.9</td>\n",
       "      <td>967</td>\n",
       "      <td>14M</td>\n",
       "      <td>500,000+</td>\n",
       "      <td>Free</td>\n",
       "      <td>0</td>\n",
       "      <td>Everyone</td>\n",
       "      <td>Art &amp; Design;Pretend Play</td>\n",
       "      <td>15-Jan-18</td>\n",
       "      <td>2.0.0</td>\n",
       "      <td>4.0.3 and up</td>\n",
       "    </tr>\n",
       "    <tr>\n",
       "      <th>2</th>\n",
       "      <td>U Launcher Lite 鈥?FREE Live Cool Themes, Hide ...</td>\n",
       "      <td>ART_AND_DESIGN</td>\n",
       "      <td>4.7</td>\n",
       "      <td>87510</td>\n",
       "      <td>8.7M</td>\n",
       "      <td>5,000,000+</td>\n",
       "      <td>Free</td>\n",
       "      <td>0</td>\n",
       "      <td>Everyone</td>\n",
       "      <td>Art &amp; Design</td>\n",
       "      <td>1-Aug-18</td>\n",
       "      <td>1.2.4</td>\n",
       "      <td>4.0.3 and up</td>\n",
       "    </tr>\n",
       "    <tr>\n",
       "      <th>3</th>\n",
       "      <td>Sketch - Draw &amp; Paint</td>\n",
       "      <td>ART_AND_DESIGN</td>\n",
       "      <td>4.5</td>\n",
       "      <td>215644</td>\n",
       "      <td>25M</td>\n",
       "      <td>50,000,000+</td>\n",
       "      <td>Free</td>\n",
       "      <td>0</td>\n",
       "      <td>Teen</td>\n",
       "      <td>Art &amp; Design</td>\n",
       "      <td>8-Jun-18</td>\n",
       "      <td>Varies with device</td>\n",
       "      <td>4.2 and up</td>\n",
       "    </tr>\n",
       "    <tr>\n",
       "      <th>4</th>\n",
       "      <td>Pixel Draw - Number Art Coloring Book</td>\n",
       "      <td>ART_AND_DESIGN</td>\n",
       "      <td>4.3</td>\n",
       "      <td>967</td>\n",
       "      <td>2.8M</td>\n",
       "      <td>100,000+</td>\n",
       "      <td>Free</td>\n",
       "      <td>0</td>\n",
       "      <td>Everyone</td>\n",
       "      <td>Art &amp; Design;Creativity</td>\n",
       "      <td>20-Jun-18</td>\n",
       "      <td>1.1</td>\n",
       "      <td>4.4 and up</td>\n",
       "    </tr>\n",
       "  </tbody>\n",
       "</table>\n",
       "</div>"
      ],
      "text/plain": [
       "                                                 App        Category Rating  \\\n",
       "0     Photo Editor & Candy Camera & Grid & ScrapBook  ART_AND_DESIGN    4.1   \n",
       "1                                Coloring book moana  ART_AND_DESIGN    3.9   \n",
       "2  U Launcher Lite 鈥?FREE Live Cool Themes, Hide ...  ART_AND_DESIGN    4.7   \n",
       "3                              Sketch - Draw & Paint  ART_AND_DESIGN    4.5   \n",
       "4              Pixel Draw - Number Art Coloring Book  ART_AND_DESIGN    4.3   \n",
       "\n",
       "  Reviews  Size     Installs  Type Price Content Rating  \\\n",
       "0     159   19M      10,000+  Free     0       Everyone   \n",
       "1     967   14M     500,000+  Free     0       Everyone   \n",
       "2   87510  8.7M   5,000,000+  Free     0       Everyone   \n",
       "3  215644   25M  50,000,000+  Free     0           Teen   \n",
       "4     967  2.8M     100,000+  Free     0       Everyone   \n",
       "\n",
       "                      Genres Last Updated         Current Ver   Android Ver  \n",
       "0               Art & Design     7-Jan-18               1.0.0  4.0.3 and up  \n",
       "1  Art & Design;Pretend Play    15-Jan-18               2.0.0  4.0.3 and up  \n",
       "2               Art & Design     1-Aug-18               1.2.4  4.0.3 and up  \n",
       "3               Art & Design     8-Jun-18  Varies with device    4.2 and up  \n",
       "4    Art & Design;Creativity    20-Jun-18                 1.1    4.4 and up  "
      ]
     },
     "execution_count": 1,
     "metadata": {},
     "output_type": "execute_result"
    }
   ],
   "source": [
    "import pandas as pd\n",
    "\n",
    "# 加载数据集\n",
    "path = r'C:\\Users\\11435\\Desktop\\googleplayAPP.csv'\n",
    "df = pd.read_csv(path)\n",
    "\n",
    "# 查看数据集的前几行以了解数据结构\n",
    "df.head()"
   ]
  },
  {
   "cell_type": "markdown",
   "id": "8c6d43d8",
   "metadata": {},
   "source": [
    "## App不同类目"
   ]
  },
  {
   "cell_type": "code",
   "execution_count": 2,
   "id": "56c59041",
   "metadata": {
    "ExecuteTime": {
     "end_time": "2024-05-07T13:49:22.671874Z",
     "start_time": "2024-05-07T13:49:22.657870Z"
    }
   },
   "outputs": [
    {
     "data": {
      "text/plain": [
       "Category\n",
       "GAME                   546\n",
       "FAMILY                 515\n",
       "MEDICAL                309\n",
       "TOOLS                  268\n",
       "DATING                 223\n",
       "HEALTH_AND_FITNESS     221\n",
       "COMMUNICATION          202\n",
       "PHOTOGRAPHY            197\n",
       "PERSONALIZATION        196\n",
       "PRODUCTIVITY           183\n",
       "SHOPPING               167\n",
       "SPORTS                 161\n",
       "EDUCATION              156\n",
       "SOCIAL                 151\n",
       "ENTERTAINMENT          148\n",
       "FINANCE                144\n",
       "TRAVEL_AND_LOCAL       139\n",
       "LIFESTYLE              131\n",
       "BUSINESS               129\n",
       "NEWS_AND_MAGAZINES     113\n",
       "FOOD_AND_DRINK          84\n",
       "VIDEO_PLAYERS           82\n",
       "BOOKS_AND_REFERENCE     73\n",
       "HOUSE_AND_HOME          71\n",
       "MAPS_AND_NAVIGATION     61\n",
       "AUTO_AND_VEHICLES       56\n",
       "ART_AND_DESIGN          56\n",
       "PARENTING               51\n",
       "LIBRARIES_AND_DEMO      47\n",
       "WEATHER                 47\n",
       "EVENTS                  46\n",
       "COMICS                  41\n",
       "BEAUTY                  41\n",
       "Name: count, dtype: int64"
      ]
     },
     "execution_count": 2,
     "metadata": {},
     "output_type": "execute_result"
    }
   ],
   "source": [
    "keys_to_drop = ['4.3', '4.6', '4.1', '3.9', '4.2', '4.5', '4', '3.7', '4.7', '3.8', '3.1', '000+\"']\n",
    "df = df[~df['Category'].isin(keys_to_drop)]\n",
    "df['Category'].value_counts()"
   ]
  },
  {
   "cell_type": "markdown",
   "id": "0553b2d2",
   "metadata": {},
   "source": [
    "## 平均销售最高和最低的类目"
   ]
  },
  {
   "cell_type": "code",
   "execution_count": 8,
   "id": "739c440f",
   "metadata": {
    "ExecuteTime": {
     "end_time": "2024-05-07T13:51:54.341631Z",
     "start_time": "2024-05-07T13:51:54.324962Z"
    }
   },
   "outputs": [
    {
     "name": "stdout",
     "output_type": "stream",
     "text": [
      "平均销售价格最低的类别: Free\n",
      "平均销售价格最高的类别: Free\n"
     ]
    }
   ],
   "source": [
    "df['Price'] = pd.to_numeric(df['Price'], errors='coerce')\n",
    "avg_price_by_category = df.groupby('Type')['Price'].mean()\n",
    "\n",
    "min_avg_price_type = avg_price_by_category.idxmin()\n",
    "max_avg_price_type = avg_price_by_category.idxmax()\n",
    "\n",
    "print(\"平均销售价格最低的类别:\", min_avg_price_type)\n",
    "print(\"平均销售价格最高的类别:\", max_avg_price_type)"
   ]
  },
  {
   "cell_type": "markdown",
   "id": "870be2ea",
   "metadata": {},
   "source": [
    "## 评分最高和最低的10个APP"
   ]
  },
  {
   "cell_type": "code",
   "execution_count": 5,
   "id": "8cdf30e9",
   "metadata": {
    "ExecuteTime": {
     "end_time": "2024-05-07T13:51:43.398846Z",
     "start_time": "2024-05-07T13:51:43.377081Z"
    }
   },
   "outputs": [
    {
     "name": "stdout",
     "output_type": "stream",
     "text": [
      "评分最高的10个 APP：\n",
      "                                App             Category Rating Reviews  Size  \\\n",
      "2477         Basics of Orthopaedics              MEDICAL      5       1  5.6M   \n",
      "1547                   Eternal life   LIBRARIES_AND_DEMO      5      26  2.5M   \n",
      "2452               Galaxies of Hope              MEDICAL      5       2   24M   \n",
      "4988           Easy Hotspot Ad Free                TOOLS      5       2  3.3M   \n",
      "4539  R Programing Offline Tutorial  BOOKS_AND_REFERENCE      5       4  3.9M   \n",
      "2450                Tablet Reminder              MEDICAL      5       4  2.5M   \n",
      "1038      Mindvalley U Tallinn 2018               EVENTS      5       1   21M   \n",
      "1030                     Prosperity               EVENTS      5      16  2.3M   \n",
      "615                    Awake Dating               DATING      5       2   70M   \n",
      "4477      Android P Style Icon Pack      PERSONALIZATION      5       1   60M   \n",
      "\n",
      "     Installs  Type   Price Content Rating             Genres Last Updated  \\\n",
      "2477      10+  Free       0       Everyone            Medical    27-Jul-18   \n",
      "1547   1,000+  Free       0       Everyone   Libraries & Demo    24-May-18   \n",
      "2452      50+  Free       0       Everyone            Medical    27-Jul-18   \n",
      "4988      10+  Paid  $0.99        Everyone              Tools    26-Jul-18   \n",
      "4539   1,000+  Free       0       Everyone  Books & Reference    15-Mar-18   \n",
      "2450       5+  Free       0       Everyone            Medical     3-Aug-18   \n",
      "1038     100+  Free       0       Everyone             Events     3-Jul-18   \n",
      "1030     100+  Free       0       Everyone             Events     9-Jul-18   \n",
      "615      100+  Free       0     Mature 17+             Dating    24-Jul-18   \n",
      "4477     100+  Paid  $0.99        Everyone    Personalization    16-Jun-18   \n",
      "\n",
      "     Current Ver Android Ver  \n",
      "2477           1  4.1 and up  \n",
      "1547           1  1.6 and up  \n",
      "2452           1  4.1 and up  \n",
      "4988        1.05  4.0 and up  \n",
      "4539       1.0.0  4.1 and up  \n",
      "2450           1  4.1 and up  \n",
      "1038       1.0.5  4.4 and up  \n",
      "1030        1.14  2.0 and up  \n",
      "615        2.2.9  4.4 and up  \n",
      "4477           1  4.1 and up  \n",
      "\n",
      "评分最低的10个 APP：\n",
      "                                                    App            Category  \\\n",
      "5034                                    Ivanti AE Agent            BUSINESS   \n",
      "5050                                  Toppen af Danmark    TRAVEL_AND_LOCAL   \n",
      "5051                                          AF-STROKE             MEDICAL   \n",
      "5052                       i-share AF/KLM (AFKL ishare)              SOCIAL   \n",
      "5056                                  AF Legendary 2017            BUSINESS   \n",
      "5059                                       AzadBazar.af            SHOPPING   \n",
      "5061                         AF Nutrition - Integratori  HEALTH_AND_FITNESS   \n",
      "5068                               AF Our Time to Shine            BUSINESS   \n",
      "5072                                    AF Johannesburg              FAMILY   \n",
      "5086  Apps for SportsB褦tting.ag - Bitcoin Welcome here!              SPORTS   \n",
      "\n",
      "     Rating Reviews   Size Installs  Type   Price Content Rating  \\\n",
      "5034    NaN       1   2.9M   1,000+  Free       0       Everyone   \n",
      "5050    NaN       8   6.1M   5,000+  Free       0       Everyone   \n",
      "5051    NaN       5   902k     100+  Paid  $5.00            Teen   \n",
      "5052    NaN       2    53M     100+  Free       0           Teen   \n",
      "5056    NaN       0    11M      50+  Free       0           Teen   \n",
      "5059    NaN       3   3.7M     100+  Free       0       Everyone   \n",
      "5061    NaN       6    19M     100+  Free       0       Everyone   \n",
      "5068    NaN       0    11M     100+  Free       0       Everyone   \n",
      "5072    NaN       3    11M     100+  Free       0       Everyone   \n",
      "5086    NaN       0  10.0M   1,000+  Free       0       Everyone   \n",
      "\n",
      "                Genres Last Updated Current Ver   Android Ver  \n",
      "5034          Business    10-May-18      11.0.0  4.0.3 and up  \n",
      "5050    Travel & Local    28-Jun-18       8.3.0    4.4 and up  \n",
      "5051           Medical    19-Dec-13         1.3    2.1 and up  \n",
      "5052            Social    21-Jul-18      1.16.5    4.1 and up  \n",
      "5056          Business    30-Sep-17   v2.7.11.6    4.1 and up  \n",
      "5059          Shopping     9-Mar-18           1    4.0 and up  \n",
      "5061  Health & Fitness     2-Aug-18         1.3    4.1 and up  \n",
      "5068          Business    17-Jul-17   v2.7.10.6    4.1 and up  \n",
      "5072         Education     2-May-17       1.0.3    4.1 and up  \n",
      "5086            Sports    11-Dec-17           1    4.0 and up  \n"
     ]
    }
   ],
   "source": [
    "df_sorted = df.sort_values(by='Rating', ascending=False)\n",
    "\n",
    "print(\"评分最高的10个 APP：\")\n",
    "print(df_sorted.head(10))\n",
    "\n",
    "print(\"\\n评分最低的10个 APP：\")\n",
    "print(df_sorted.tail(10))"
   ]
  },
  {
   "cell_type": "markdown",
   "id": "7809eff7",
   "metadata": {
    "ExecuteTime": {
     "end_time": "2024-05-07T13:47:44.676108Z",
     "start_time": "2024-05-07T13:47:44.668106Z"
    }
   },
   "source": [
    "## 最受欢迎的类目Top3"
   ]
  },
  {
   "cell_type": "code",
   "execution_count": 6,
   "id": "14a21237",
   "metadata": {
    "ExecuteTime": {
     "end_time": "2024-05-07T13:51:45.681237Z",
     "start_time": "2024-05-07T13:51:45.668237Z"
    }
   },
   "outputs": [
    {
     "name": "stdout",
     "output_type": "stream",
     "text": [
      "最受欢迎的类型 Top3：\n",
      "Type\n",
      "Free      4736\n",
      "Paid       319\n",
      "$1.49        2\n",
      "Name: count, dtype: int64\n"
     ]
    }
   ],
   "source": [
    "# 对 'Type' 列进行数量统计\n",
    "type_counts = df['Type'].value_counts()\n",
    "\n",
    "# 找到数量前三的类型\n",
    "top3_types = type_counts.nlargest(3)\n",
    "\n",
    "# 输出结果\n",
    "print(\"最受欢迎的类型 Top3：\")\n",
    "print(top3_types)"
   ]
  },
  {
   "cell_type": "markdown",
   "id": "21683a3e",
   "metadata": {},
   "source": [
    "## 更新最勤快的App"
   ]
  },
  {
   "cell_type": "code",
   "execution_count": 7,
   "id": "94003141",
   "metadata": {
    "ExecuteTime": {
     "end_time": "2024-05-07T13:51:48.981220Z",
     "start_time": "2024-05-07T13:51:48.501959Z"
    }
   },
   "outputs": [
    {
     "name": "stdout",
     "output_type": "stream",
     "text": [
      "更新最勤快的 App Top5：\n",
      "3679                                         OBJECTIVE\n",
      "3840                              Sygic Car Navigation\n",
      "3328    Emoji keyboard - Cute Emoticons, GIF, Stickers\n",
      "3590                      Baby Food - Homemade Recipes\n",
      "3687                           Google Play Movies & TV\n",
      "Name: App, dtype: object\n"
     ]
    }
   ],
   "source": [
    "def check_date_format(date_str, format_str='%d-%b-%y'):\n",
    "    try:\n",
    "        pd.to_datetime(date_str, format=format_str)\n",
    "        return True\n",
    "    except ValueError:\n",
    "        return False\n",
    "\n",
    "# 过滤不符合指定格式的日期时间字符串\n",
    "df['Last Updated'] = df['Last Updated'][df['Last Updated'].apply(check_date_format)]\n",
    "\n",
    "# 将 \"Last Updated\" 列转换为日期时间格式\n",
    "df['Last Updated'] = pd.to_datetime(df['Last Updated'], format='%d-%b-%y')\n",
    "\n",
    "# 按照 \"Last Updated\" 列降序排序\n",
    "df_sorted = df.sort_values(by='Last Updated', ascending=False)\n",
    "\n",
    "# 找到更新最勤快的前五个 App\n",
    "top5_apps = df_sorted.head(5)\n",
    "\n",
    "# 输出结果\n",
    "print(\"更新最勤快的 App Top5：\")\n",
    "print(top5_apps.App)"
   ]
  }
 ],
 "metadata": {
  "kernelspec": {
   "display_name": "Python 3 (ipykernel)",
   "language": "python",
   "name": "python3"
  },
  "language_info": {
   "codemirror_mode": {
    "name": "ipython",
    "version": 3
   },
   "file_extension": ".py",
   "mimetype": "text/x-python",
   "name": "python",
   "nbconvert_exporter": "python",
   "pygments_lexer": "ipython3",
   "version": "3.8.17"
  },
  "toc": {
   "base_numbering": 1,
   "nav_menu": {},
   "number_sections": true,
   "sideBar": true,
   "skip_h1_title": false,
   "title_cell": "Table of Contents",
   "title_sidebar": "Contents",
   "toc_cell": false,
   "toc_position": {},
   "toc_section_display": true,
   "toc_window_display": false
  }
 },
 "nbformat": 4,
 "nbformat_minor": 5
}
