{
 "cells": [
  {
   "cell_type": "markdown",
   "id": "048a5211",
   "metadata": {},
   "source": [
    "# 作业\n",
    "---\n",
    "1. 创建四个一维数组(向量)，长度均为100，分别服从正态分布\n",
    "2. 将四个数组分别进行平方、开方、指数、余弦运算\n",
    "3. 将四个数组合并为100* 4的矩阵结构，其中第一列代表一个原数组\n",
    "4. 分别计算该矩阵与其转置的乘积(AA)，及其转置与原矩阵的乘积(ATA)，并计算其特征值和特征向量\n",
    "5. 生成该矩阵的第5列，为该矩阵前四列的加权和，权重向量为[1,2,3,4]\n",
    "6. 将第五列归一化至[0，1]区间"
   ]
  },
  {
   "cell_type": "code",
   "execution_count": 1,
   "id": "f6bcadea",
   "metadata": {
    "ExecuteTime": {
     "end_time": "2024-05-01T06:54:38.946627Z",
     "start_time": "2024-05-01T06:54:38.883627Z"
    }
   },
   "outputs": [],
   "source": [
    "import numpy as np"
   ]
  },
  {
   "cell_type": "markdown",
   "id": "9692913f",
   "metadata": {},
   "source": [
    "## q1\n",
    "---\n",
    "**利用np.random.normal随机生成正态分布函数**"
   ]
  },
  {
   "cell_type": "code",
   "execution_count": 2,
   "id": "62f6520e",
   "metadata": {
    "ExecuteTime": {
     "end_time": "2024-05-01T06:54:38.961627Z",
     "start_time": "2024-05-01T06:54:38.947627Z"
    }
   },
   "outputs": [],
   "source": [
    "np.random.seed(0)\n",
    "vector1 = np.random.normal(loc=0, scale=1, size=100)\n",
    "vector2 = np.random.normal(loc=0, scale=1, size=100)\n",
    "vector3 = np.random.normal(loc=0, scale=1, size=100)\n",
    "vector4 = np.random.normal(loc=0, scale=1, size=100)"
   ]
  },
  {
   "cell_type": "markdown",
   "id": "67c29b51",
   "metadata": {},
   "source": [
    "## q2\n",
    "---\n",
    "**利用np进行运算，其中开方运算取绝对值后进行开方**"
   ]
  },
  {
   "cell_type": "code",
   "execution_count": 3,
   "id": "e9e70e26",
   "metadata": {
    "ExecuteTime": {
     "end_time": "2024-05-01T06:54:38.977628Z",
     "start_time": "2024-05-01T06:54:38.962627Z"
    }
   },
   "outputs": [],
   "source": [
    "square_res = []\n",
    "square_res.append(np.square(vector1))\n",
    "square_res.append(np.square(vector2))\n",
    "square_res.append(np.square(vector3))\n",
    "square_res.append(np.square(vector4))\n",
    "\n",
    "sqrt_res = []\n",
    "sqrt_res.append(np.sqrt(abs(vector1)))\n",
    "sqrt_res.append(np.sqrt(abs(vector2)))\n",
    "sqrt_res.append(np.sqrt(abs(vector3)))\n",
    "sqrt_res.append(np.sqrt(abs(vector4)))\n",
    "\n",
    "exp_res = []\n",
    "exp_res.append(np.exp(vector1))\n",
    "exp_res.append(np.exp(vector2))\n",
    "exp_res.append(np.exp(vector3))\n",
    "exp_res.append(np.exp(vector4))\n",
    "\n",
    "cos_res = []\n",
    "cos_res.append(np.cos(vector1))\n",
    "cos_res.append(np.cos(vector2))\n",
    "cos_res.append(np.cos(vector3))\n",
    "cos_res.append(np.cos(vector4))"
   ]
  },
  {
   "cell_type": "markdown",
   "id": "beab184d",
   "metadata": {},
   "source": [
    "## q3\n",
    "---\n",
    "**利用np.column_stack进行矩阵拼接**"
   ]
  },
  {
   "cell_type": "code",
   "execution_count": 4,
   "id": "6cd7e87d",
   "metadata": {
    "ExecuteTime": {
     "end_time": "2024-05-01T06:54:38.993627Z",
     "start_time": "2024-05-01T06:54:38.978628Z"
    }
   },
   "outputs": [
    {
     "data": {
      "text/plain": [
       "array([[ 1.76,  1.88, -0.37, -1.31],\n",
       "       [ 0.4 , -1.35, -0.24,  1.66],\n",
       "       [ 0.98, -1.27,  1.1 , -0.12],\n",
       "       [ 2.24,  0.97,  0.66, -0.68],\n",
       "       [ 1.87, -1.17,  0.64,  0.67],\n",
       "       [-0.98,  1.94, -1.62, -0.46],\n",
       "       [ 0.95, -0.41, -0.02, -1.33],\n",
       "       [-0.15, -0.75, -0.74, -1.35],\n",
       "       [-0.1 ,  1.92,  0.28,  0.69],\n",
       "       [ 0.41,  1.48, -0.1 , -0.16],\n",
       "       [ 0.14,  1.87,  0.91, -0.13],\n",
       "       [ 1.45,  0.91,  0.32,  1.08],\n",
       "       [ 0.76, -0.86,  0.79, -1.13],\n",
       "       [ 0.12,  1.91, -0.47, -0.73],\n",
       "       [ 0.44, -0.27, -0.94, -0.38],\n",
       "       [ 0.33,  0.8 , -0.41,  0.09],\n",
       "       [ 1.49,  0.95, -0.02, -0.04],\n",
       "       [-0.21, -0.16,  0.38, -0.29],\n",
       "       [ 0.31,  0.61,  2.26, -0.06],\n",
       "       [-0.85,  0.92, -0.04, -0.11],\n",
       "       [-2.55,  0.38, -0.96, -0.72],\n",
       "       [ 0.65, -1.1 , -0.35, -0.81],\n",
       "       [ 0.86,  0.3 , -0.46,  0.27],\n",
       "       [-0.74,  1.33,  0.48, -0.89],\n",
       "       [ 2.27, -0.69, -1.54, -1.16],\n",
       "       [-1.45, -0.15,  0.06, -0.31],\n",
       "       [ 0.05, -0.44,  0.16, -0.16],\n",
       "       [-0.19,  1.85,  0.23,  2.26],\n",
       "       [ 1.53,  0.67, -0.6 , -0.7 ],\n",
       "       [ 1.47,  0.41, -0.24,  0.94],\n",
       "       [ 0.15, -0.77, -1.42,  0.75],\n",
       "       [ 0.38,  0.54, -0.49, -1.19],\n",
       "       [-0.89, -0.67, -0.54,  0.77],\n",
       "       [-1.98,  0.03,  0.42, -1.18],\n",
       "       [-0.35, -0.64, -1.16, -2.66],\n",
       "       [ 0.16,  0.68,  0.78,  0.61],\n",
       "       [ 1.23,  0.58,  1.49, -1.76],\n",
       "       [ 1.2 , -0.21, -2.07,  0.45],\n",
       "       [-0.39,  0.4 ,  0.43, -0.68],\n",
       "       [-0.3 , -1.09,  0.68,  1.66],\n",
       "       [-1.05, -1.49, -0.64,  1.07],\n",
       "       [-1.42,  0.44, -0.4 , -0.45],\n",
       "       [-1.71,  0.17, -0.13, -0.69],\n",
       "       [ 1.95,  0.64, -0.3 , -1.21],\n",
       "       [-0.51,  2.38, -0.31, -0.44],\n",
       "       [-0.44,  0.94, -1.68, -0.28],\n",
       "       [-1.25, -0.91,  1.15, -0.36],\n",
       "       [ 0.78,  1.12,  1.08,  0.16],\n",
       "       [-1.61, -1.32, -0.81,  0.58],\n",
       "       [-0.21, -0.46, -1.47,  0.35],\n",
       "       [-0.9 , -0.07,  0.52, -0.76],\n",
       "       [ 0.39,  1.71, -0.58, -1.44],\n",
       "       [-0.51, -0.74,  0.14,  1.36],\n",
       "       [-1.18, -0.83, -0.32, -0.69],\n",
       "       [-0.03, -0.1 ,  0.69, -0.65],\n",
       "       [ 0.43, -0.66,  0.69, -0.52],\n",
       "       [ 0.07,  1.13, -0.73, -1.84],\n",
       "       [ 0.3 , -1.08, -1.38, -0.48],\n",
       "       [-0.63, -1.15, -1.58, -0.48],\n",
       "       [-0.36, -0.44,  0.61,  0.62],\n",
       "       [-0.67, -0.5 , -1.19,  0.7 ],\n",
       "       [-0.36,  1.93, -0.51,  0.  ],\n",
       "       [-0.81,  0.95, -0.6 ,  0.93],\n",
       "       [-1.73,  0.09, -0.05,  0.34],\n",
       "       [ 0.18, -1.23, -1.94, -0.02],\n",
       "       [-0.4 ,  0.84,  0.19,  0.16],\n",
       "       [-1.63, -1.  ,  0.52, -0.19],\n",
       "       [ 0.46, -1.54,  0.09, -0.39],\n",
       "       [-0.91,  1.19, -0.31, -0.27],\n",
       "       [ 0.05,  0.32,  0.1 , -1.13],\n",
       "       [ 0.73,  0.92,  0.4 ,  0.28],\n",
       "       [ 0.13,  0.32, -2.77, -0.99],\n",
       "       [ 1.14,  0.86,  1.96,  0.84],\n",
       "       [-1.23, -0.65,  0.39, -0.25],\n",
       "       [ 0.4 , -1.03, -0.65,  0.05],\n",
       "       [-0.68,  0.68, -0.39,  0.49],\n",
       "       [-0.87, -0.8 ,  0.49,  0.64],\n",
       "       [-0.58, -0.69, -0.12, -1.57],\n",
       "       [-0.31, -0.46, -2.03, -0.21],\n",
       "       [ 0.06,  0.02,  2.06,  0.88],\n",
       "       [-1.17, -0.35, -0.11, -1.7 ],\n",
       "       [ 0.9 , -1.37,  1.02,  0.39],\n",
       "       [ 0.47, -0.64, -0.69, -2.26],\n",
       "       [-1.54, -2.22,  1.54, -1.02],\n",
       "       [ 1.49,  0.63,  0.29,  0.04],\n",
       "       [ 1.9 , -1.6 ,  0.61, -1.66],\n",
       "       [ 1.18, -1.1 , -1.05, -0.99],\n",
       "       [-0.18,  0.05,  1.21, -1.47],\n",
       "       [-1.07, -0.74,  0.69,  1.65],\n",
       "       [ 1.05,  1.54,  1.3 ,  0.16],\n",
       "       [-0.4 , -1.29, -0.63,  0.57],\n",
       "       [ 1.22,  0.27, -0.48, -0.22],\n",
       "       [ 0.21, -0.04,  2.3 , -0.35],\n",
       "       [ 0.98, -1.17, -1.06, -1.62],\n",
       "       [ 0.36,  0.52, -0.14, -0.29],\n",
       "       [ 0.71, -0.17,  1.14, -0.76],\n",
       "       [ 0.01,  0.77,  0.1 ,  0.86],\n",
       "       [ 1.79,  0.82,  0.58,  1.14],\n",
       "       [ 0.13,  2.16, -0.4 ,  1.47],\n",
       "       [ 0.4 ,  1.34,  0.37,  0.85]])"
      ]
     },
     "execution_count": 4,
     "metadata": {},
     "output_type": "execute_result"
    }
   ],
   "source": [
    "matrix = np.column_stack((vector1, vector2, vector3, vector4))\n",
    "np.round(matrix, 2)"
   ]
  },
  {
   "cell_type": "markdown",
   "id": "eefbc72e",
   "metadata": {},
   "source": [
    "## q4\n",
    "---\n",
    "**计算AAT和ATA并求特征值和特征向量**"
   ]
  },
  {
   "cell_type": "code",
   "execution_count": 5,
   "id": "b3033213",
   "metadata": {
    "ExecuteTime": {
     "end_time": "2024-05-01T06:54:39.025396Z",
     "start_time": "2024-05-01T06:54:38.994628Z"
    }
   },
   "outputs": [
    {
     "name": "stdout",
     "output_type": "stream",
     "text": [
      "AAT: \n",
      "[[ 9. -4. -1. ...  3.  3.  2.]\n",
      " [-4.  5.  2. ...  1. -0. -0.]\n",
      " [-1.  2.  4. ...  1. -3. -1.]\n",
      " ...\n",
      " [ 3.  1.  1. ...  6.  3.  3.]\n",
      " [ 3. -0. -3. ...  3.  7.  4.]\n",
      " [ 2. -0. -1. ...  3.  4.  3.]] \n",
      " ATA: \n",
      "[[102.  12.   7.  -7.]\n",
      " [ 12. 108.   5.   6.]\n",
      " [  7.   5.  91.  12.]\n",
      " [ -7.   6.  12.  90.]]\n"
     ]
    }
   ],
   "source": [
    "AAT = np.dot(matrix, matrix.T)\n",
    "ATA = np.dot(matrix.T, matrix)\n",
    "eigvals_AAT, eigvecs_AAT = np.linalg.eig(AAT)\n",
    "eigvals_ATA, eigvecs_ATA = np.linalg.eig(ATA)\n",
    "print(f'AAT: \\n{np.round(AAT,0)} \\n ATA: \\n{np.round(ATA,0)}')"
   ]
  },
  {
   "cell_type": "markdown",
   "id": "c95d35e7",
   "metadata": {},
   "source": [
    "## q5\n",
    "---\n",
    "**加权求和**"
   ]
  },
  {
   "cell_type": "code",
   "execution_count": 6,
   "id": "834133b1",
   "metadata": {
    "ExecuteTime": {
     "end_time": "2024-05-01T06:54:39.041396Z",
     "start_time": "2024-05-01T06:54:39.026396Z"
    }
   },
   "outputs": [
    {
     "data": {
      "text/plain": [
       "array([[ 1.76,  1.88, -0.37, -1.31, -0.8 ],\n",
       "       [ 0.4 , -1.35, -0.24,  1.66,  3.62],\n",
       "       [ 0.98, -1.27,  1.1 , -0.12,  1.26],\n",
       "       [ 2.24,  0.97,  0.66, -0.68,  3.42],\n",
       "       [ 1.87, -1.17,  0.64,  0.67,  4.11]])"
      ]
     },
     "execution_count": 6,
     "metadata": {},
     "output_type": "execute_result"
    }
   ],
   "source": [
    "weights = np.array([1, 2, 3, 4])\n",
    "col5 = np.dot(matrix, weights)\n",
    "matrix_res = np.column_stack([matrix, col5])\n",
    "np.round(matrix_res[:5], 2)"
   ]
  },
  {
   "cell_type": "markdown",
   "id": "070a4107",
   "metadata": {},
   "source": [
    "## q6\n",
    "---\n",
    "**归一化**"
   ]
  },
  {
   "cell_type": "code",
   "execution_count": 7,
   "id": "a8d866c1",
   "metadata": {
    "ExecuteTime": {
     "end_time": "2024-05-01T06:54:39.057399Z",
     "start_time": "2024-05-01T06:54:39.042396Z"
    }
   },
   "outputs": [
    {
     "data": {
      "text/plain": [
       "array([[ 1.76,  1.88, -0.37, -1.31,  0.52],\n",
       "       [ 0.4 , -1.35, -0.24,  1.66,  0.67],\n",
       "       [ 0.98, -1.27,  1.1 , -0.12,  0.59],\n",
       "       [ 2.24,  0.97,  0.66, -0.68,  0.66],\n",
       "       [ 1.87, -1.17,  0.64,  0.67,  0.68]])"
      ]
     },
     "execution_count": 7,
     "metadata": {},
     "output_type": "execute_result"
    }
   ],
   "source": [
    "col5_normalized = (col5 - np.min(col5)) / (np.max(col5) - np.min(col5))\n",
    "matrix_res_normalized = np.column_stack([matrix[:, :4], col5_normalized])\n",
    "np.round(matrix_res_normalized[:5], 2)"
   ]
  }
 ],
 "metadata": {
  "kernelspec": {
   "display_name": "Python 3 (ipykernel)",
   "language": "python",
   "name": "python3"
  },
  "language_info": {
   "codemirror_mode": {
    "name": "ipython",
    "version": 3
   },
   "file_extension": ".py",
   "mimetype": "text/x-python",
   "name": "python",
   "nbconvert_exporter": "python",
   "pygments_lexer": "ipython3",
   "version": "3.8.17"
  },
  "toc": {
   "base_numbering": 1,
   "nav_menu": {},
   "number_sections": true,
   "sideBar": true,
   "skip_h1_title": false,
   "title_cell": "Table of Contents",
   "title_sidebar": "Contents",
   "toc_cell": false,
   "toc_position": {},
   "toc_section_display": true,
   "toc_window_display": false
  }
 },
 "nbformat": 4,
 "nbformat_minor": 5
}
