{
 "cells": [
  {
   "cell_type": "markdown",
   "id": "6145b2c5-1189-4ec2-a48b-0a2debf5b79e",
   "metadata": {},
   "source": [
    "# 本项目暂时只能采集一个商品中的评论\n",
    "## 如果需要几篇一起采集,需要解决_m_h5_tk这个关键参数的获取"
   ]
  },
  {
   "cell_type": "code",
   "execution_count": 14,
   "id": "e4ff50aa-238f-4a3f-bba6-29df9c4c6cb8",
   "metadata": {
    "tags": []
   },
   "outputs": [],
   "source": [
    "import requests\n",
    "import re\n",
    "import parsel\n",
    "import os\n",
    "import csv\n",
    "import pandas as pd\n",
    "import json\n",
    "import time\n",
    "import hashlib\n",
    "import subprocess"
   ]
  },
  {
   "cell_type": "markdown",
   "id": "7d7ac856-9a1f-4ba7-8e02-e682fb06bb98",
   "metadata": {},
   "source": [
    "# TaoBao中的重要参数\n",
    "\n",
    "## cookies\n",
    "\n",
    "cookies = {<br>\n",
    "    \"sgcookie\": ,<br>\n",
    "    \"wk_cookie2\": ,<br>\n",
    "    \"wk_unb\": ,<br>\n",
    "    \"_m_h5_tk\": ,\n",
    "    \"_m_h5_tk_enc\": ,<br>\n",
    "}\n",
    "<br>\n",
    "_m_h5_tk以'_'为分割第一部分是它的token<br>第二部分是它的时间戳time(这个时间戳的作用应该是每次发请求,到一定时间后,会给你设定一个新的用,具体规则应该和后端有关系)\n",
    "\n",
    "## params\n",
    "params = {<br>\n",
    "    \"appKey\": 商品id,<br>\n",
    "    \"t\": 时间戳,<br>\n",
    "    \"sign\": 加密参数,目前为止是MD5的加密方式,<br>\n",
    "    \"data\": 商品信息<br>\n",
    "}"
   ]
  },
  {
   "cell_type": "code",
   "execution_count": 17,
   "id": "ada7096a-4b9a-4219-853b-267f58426fee",
   "metadata": {
    "tags": []
   },
   "outputs": [],
   "source": [
    "headers = {\n",
    "    \"user-agent\": \"Mozilla/5.0 (Windows NT 10.0; Win64; x64) AppleWebKit/537.36 (KHTML, like Gecko) Chrome/129.0.0.0 Safari/537.36\"\n",
    "}\n",
    "cookies = {\n",
    "    \"t\": \"e05f3fdc5ad080cfcec86db1e56b22bc\",\n",
    "    \"thw\": \"xx\",\n",
    "    \"xlly_s\": \"1\",\n",
    "    \"3PcFlag\": \"1729839937089\",\n",
    "    \"lgc\": \"tb583312559\",\n",
    "    \"cancelledSubSites\": \"empty\",\n",
    "    \"dnk\": \"tb583312559\",\n",
    "    \"tracknick\": \"tb583312559\",\n",
    "    \"havana_lgc2_0\": \"eyJoaWQiOjIyMDY1MzcyMDk4NjcsInNnIjoiZmNmY2NkNzhlNTg3YTJjYzgyOGI0ODY2MmRjY2JlZDEiLCJzaXRlIjowLCJ0b2tlbiI6IjE0UkIyd21Ja0duZHRwcGg4bmF0WENRIn0\",\n",
    "    \"_hvn_lgc_\": \"0\",\n",
    "    \"cookie3_bak\": \"129efd8b721e9aeb225ea4421a8cd5da\",\n",
    "    \"cookie3_bak_exp\": \"1730099156770\",\n",
    "    \"wk_cookie2\": \"1faa970499b30a34c963a097632d0f17\",\n",
    "    \"wk_unb\": \"UUphzOfdcXH2sDxlLA%3D%3D\",\n",
    "    \"sn\": \"\",\n",
    "    \"env_bak\": \"FM%2BgmqK9ZWm5tV%2BjJisTgPurs7PGi4iF2LR6kanHX05Z\",\n",
    "    \"cna\": \"tWFTH6FNNXMBASQMyYO/XS0z\",\n",
    "    \"mtop_partitioned_detect\": \"1\",\n",
    "    \"x5sec\": \"7b22733b32223a2239346234373266353637613163386232222c22617365727665723b33223a22307c434c2f7238376747454f335673387a2b2f2f2f2f2f774561447a49794d4459314d7a63794d446b344e6a63374e4443586d65546242513d3d227d\",\n",
    "    \"_m_h5_tk\": \"b37c3ed36a8d57cec047aa636c5d599b_1729959133782\",\n",
    "    \"_m_h5_tk_enc\": \"63ece885d3b290658508ba73907cd7ed\",\n",
    "    \"_tb_token_\": \"36eb7e1a6e050\",\n",
    "    \"_samesite_flag_\": \"true\",\n",
    "    \"sgcookie\": \"E1001KfNH0psRfVq%2BqCBvClMUAR8qTh%2FXZ9lJvoUTz3O4tyulx7213Yzd9wKeVLfo4bIN2fldbvf51QSEUY%2BBH1xxx7Mu%2FKAae6piTH1cWoc603jaEoV7zlU5YIKFULdk1Ok\",\n",
    "    \"havana_lgc_exp\": \"1761055511019\",\n",
    "    \"unb\": \"2206537209867\",\n",
    "    \"uc1\": \"cookie15=V32FPkk%2Fw0dUvg%3D%3D&existShop=false&pas=0&cookie21=W5iHLLyFe3xm&cookie14=UoYcComnKsSUoA%3D%3D&cookie16=V32FPkk%2FxXMk5UvIbNtImtMfJQ%3D%3D\",\n",
    "    \"uc3\": \"lg2=UtASsssmOIJ0bQ%3D%3D&vt3=F8dD37r%2BverdUdaBDu8%3D&id2=UUphzOfdcXH2sDxlLA%3D%3D&nk2=F5RASpxqzEMZAew%3D\",\n",
    "    \"csg\": \"91f93347\",\n",
    "    \"cookie17\": \"UUphzOfdcXH2sDxlLA%3D%3D\",\n",
    "    \"skt\": \"a6a68a302d8f3e07\",\n",
    "    \"cookie2\": \"23beb146853c8238d64817ceaaec49d4\",\n",
    "    \"existShop\": \"MTcyOTk1MTUxMQ%3D%3D\",\n",
    "    \"uc4\": \"nk4=0%40FY4L5jbKwUYrE5nm82OwMCZ1NLzNdg%3D%3D&id4=0%40U2grF8wQ7DPRYS5MiAYZ%2FF9JIrGK0UrD\",\n",
    "    \"_cc_\": \"W5iHLLyFfA%3D%3D\",\n",
    "    \"_l_g_\": \"Ug%3D%3D\",\n",
    "    \"sg\": \"977\",\n",
    "    \"_nk_\": \"tb583312559\",\n",
    "    \"cookie1\": \"BvLcywHzjBT%2BvP8T18nVj7dYnS4ns%2BLDKEDBQeGGauQ%3D\",\n",
    "    \"sdkSilent\": \"1730037911046\",\n",
    "    \"havana_sdkSilent\": \"1730037911046\",\n",
    "    \"tfstk\": \"fYznaXadNkoQpNxisGuCqeqE8eStpBgSU8L-e4HPbAk_9UCQ9lczeR15O2FrE82tCWLROWEMZSwgE01IeYkue7rd6ZQYOWgSzLXAkZLfzfFuKeoE4_8ZZbu90fKaOWgW1CpPDlPBEcOfK8uzUVoZaburaHoFsVlxg48E4e-wQAMZU4oezFlZiXJeUDkFs5ksa4krgWYE3zz_79trruiKzP4itcSTtAyTC_hEx4PnItW4SEin3WkMztQuJOkoCrWOj5w0YJh_EZXiPRZzUb2wQTnQal2itJBDFYUQ9zDLtMWasVMn7yrDaUPi-viazc9hIxzQ_rgZXZ50_PwLOPVJaalTHAPQ84bVG20ELVc_yOTEElrzJDgWLtnQal2itqSPKh-VWPLS__UwV3iE1fDv3-imgZv-9dCGsngSYfGdH1fMV3iE1fDAs1xjPDls9tC..\",\n",
    "    \"isg\": \"BNnZ4fjv2lTQFYcYZa6V16FZ6MWzZs0Y7tkzT_uO-4B-AviUQrfl6k9UBMZ0umVQ\"\n",
    "}\n",
    "url = \"https://h5api.m.taobao.com/h5/mtop.alibaba.review.list.for.new.pc.detail/1.0/\"\n",
    "\n",
    "params = {\n",
    "    \"jsv\": \"2.7.4\",\n",
    "    \"appKey\": \"12574478\",\n",
    "    \"t\": \"1729951517422\",\n",
    "    \"sign\": \"53da8509123bd8c32136372ea7e57d42\",\n",
    "    \"api\": \"mtop.alibaba.review.list.for.new.pc.detail\",\n",
    "    \"v\": \"1.0\",\n",
    "    \"isSec\": \"0\",\n",
    "    \"ecode\": \"0\",\n",
    "    \"timeout\": \"20000\",\n",
    "    \"ttid\": \"2022@taobao_litepc_9.17.0\",\n",
    "    \"AntiFlood\": \"true\",\n",
    "    \"AntiCreep\": \"true\",\n",
    "    \"dataType\": \"json\",\n",
    "    \"valueType\": \"string\",\n",
    "    \"type\": \"json\",\n",
    "    \"data\": \"{\\\"itemId\\\":\\\"670794654965\\\",\\\"bizCode\\\":\\\"ali.china.tmall\\\",\\\"channel\\\":\\\"pc_detail\\\",\\\"pageSize\\\":20,\\\"pageNum\\\":1}\"\n",
    "}\n",
    "response = requests.get(url, headers=headers, cookies=cookies, params=params)"
   ]
  },
  {
   "cell_type": "code",
   "execution_count": 18,
   "id": "facf8f1b-f02a-4694-a995-585a7fee7b3d",
   "metadata": {
    "tags": []
   },
   "outputs": [
    {
     "data": {
      "text/plain": [
       "'{\"ret\":[\"FAIL_SYS_USER_VALIDATE\",\"RGV587_ERROR::SM::哎哟喂,被挤爆啦,请稍后重试\"],\"data\":{\"url\":\"https://h5api.m.taobao.com:443//h5/mtop.alibaba.review.list.for.new.pc.detail/1.0/_____tmd_____/punish?x5secdata=xdfde34dd5c7797a2868c20291217041dbc071bab14bbf1c4d1729951627a-717315356a1534659735abaac3en2206537209867a__bx__h5api.m.taobao.com%3A443%2Fh5%2Fmtop.alibaba.review.list.for.new.pc.detail%2F1.0&x5step=2&action=captcha&pureCaptcha=\"}}'"
      ]
     },
     "execution_count": 18,
     "metadata": {},
     "output_type": "execute_result"
    }
   ],
   "source": [
    "response.text"
   ]
  },
  {
   "cell_type": "code",
   "execution_count": 83,
   "id": "330f800a-19b0-4917-8661-380f7ad0f2e8",
   "metadata": {
    "tags": []
   },
   "outputs": [],
   "source": [
    "# 数据处理,准备sign\n",
    "token = cookies['_m_h5_tk'].split('_')[0]\n",
    "t = int(time.time() * 1000)\n",
    "appKey = params['appKey']\n",
    "data = json.loads(params['data'])\n",
    "json_data = json.dumps(data, ensure_ascii=False).replace(\" \", \"\")"
   ]
  },
  {
   "cell_type": "code",
   "execution_count": 84,
   "id": "b68dcf60-d1cf-4b46-8486-0e2461513994",
   "metadata": {
    "tags": []
   },
   "outputs": [],
   "source": [
    "# 通过python代码获取加密后的sign,目前淘宝用的是MD5的加密方式\n",
    "sign = token + \"&\" + str(t) + \"&\" + appKey + \"&\" + json_data\n",
    "MD5 = hashlib.md5()\n",
    "MD5.update(sign.encode('utf-8'))\n",
    "sign = MD5.hexdigest()"
   ]
  },
  {
   "cell_type": "code",
   "execution_count": 134,
   "id": "3ff0fb9f-cc28-41ef-8b6a-8dfe7af161b7",
   "metadata": {
    "tags": []
   },
   "outputs": [],
   "source": [
    "# 利用js文件模拟sign的生成\n",
    "# 有时候不知道具体是哪个加密方式但是通过抓包知道具体哪一串代码生成的关键参数就需要用到这种方式\n",
    "\n",
    "# Node.js脚本的路径\n",
    "node_script_path = r'D:\\academic\\coding\\PycahrmProjects\\trainingField\\algorithm\\crawler\\encrypt_params_TaoBao_sign.js'\n",
    "\n",
    "# 要传递给Node.js脚本的参数列表\n",
    "sign = token + \"&\" + str(t) + \"&\" + appKey + \"&\" + json_data\n",
    "args = [sign]\n",
    "\n",
    "# 构建命令行调用\n",
    "command = ['node', node_script_path] + args\n",
    "\n",
    "# 使用subprocess.run()执行命令\n",
    "result = subprocess.run(command, capture_output=True, text=True)\n",
    "\n",
    "# 获取命令行输出数据\n",
    "sign = result.stdout.split('\\n')[0]"
   ]
  },
  {
   "cell_type": "code",
   "execution_count": null,
   "id": "3b305ed8-1504-4483-91d0-726d67d2dac7",
   "metadata": {},
   "outputs": [],
   "source": [
    "# 获取sign后,对需要和sign进行核对的params参数也进行更新\n",
    "params['t'] = t\n",
    "params['sign'] = sign\n",
    "params['data'] = json_data\n",
    "\n",
    "requests.get(url, headers=headers, cookies=cookies, params=params).text"
   ]
  },
  {
   "cell_type": "code",
   "execution_count": 135,
   "id": "fa282eb6-8608-43c1-bc7c-0da67f6ea2b5",
   "metadata": {
    "tags": []
   },
   "outputs": [
    {
     "data": {
      "text/plain": [
       "'245b23a3c3ae803a2bf0661ffa256076'"
      ]
     },
     "execution_count": 135,
     "metadata": {},
     "output_type": "execute_result"
    }
   ],
   "source": [
    "sign"
   ]
  },
  {
   "cell_type": "code",
   "execution_count": 70,
   "id": "616b60fa-cb5d-444b-b647-07ba4e63554e",
   "metadata": {
    "tags": []
   },
   "outputs": [
    {
     "data": {
      "text/plain": [
       "['fbc25a3bd29ff854cbd313ef3141e7ec', '1729860008449']"
      ]
     },
     "execution_count": 70,
     "metadata": {},
     "output_type": "execute_result"
    }
   ],
   "source": [
    "cookies['_m_h5_tk'].split('_')"
   ]
  },
  {
   "cell_type": "code",
   "execution_count": 15,
   "id": "1f34dd79-3a0f-49c8-a342-cf668ab894a8",
   "metadata": {
    "tags": []
   },
   "outputs": [],
   "source": [
    "# 数据如果是mtopjsonppcdetail20形式的,需要进行截取处理\n",
    "raw_data = response.text\n",
    "start_idx = raw_data.find('(') + 1\n",
    "end_idx = raw_data.rfind(')')\n",
    "if start_idx != 0 and end_idx != -1:\n",
    "    json_str = raw_data[start_idx:end_idx]\n",
    "data = json.loads(json_str)\n",
    "review_data = data['data']['module']['reviewVOList']"
   ]
  },
  {
   "cell_type": "code",
   "execution_count": 146,
   "id": "1bc16028-4723-4d8b-9390-a4047c9d5f90",
   "metadata": {
    "tags": []
   },
   "outputs": [],
   "source": [
    "data = response.json()\n",
    "review_data = data['data']['module']['reviewVOList']\n",
    "review_infos = [{'id' : review_info['id'],\n",
    "                 'reviewContent' : review_info['reviewWordContent'],\n",
    "                'reviewDate' : review_info['reviewDate'],\n",
    "                'hasPic' : True if 'reviewPicPathList' in review_info else False} for review_info in review_data]"
   ]
  },
  {
   "cell_type": "code",
   "execution_count": 147,
   "id": "f02e4423-e096-4ba0-9d66-ce66742a030e",
   "metadata": {
    "tags": []
   },
   "outputs": [
    {
     "data": {
      "text/plain": [
       "[{'id': '1250016995571',\n",
       "  'reviewContent': '很喜欢这件衣服秋天穿搭配个短袖刚刚好面料也很不错！',\n",
       "  'reviewDate': '1个月前',\n",
       "  'hasPic': False},\n",
       " {'id': '1250031979192',\n",
       "  'reviewContent': '秋冬穿很合适，料子不错，值得购买，很喜欢格子类的衣服穿搭',\n",
       "  'reviewDate': '1个月前',\n",
       "  'hasPic': False},\n",
       " {'id': '1251834030908',\n",
       "  'reviewContent': '160 s码也是可以接受的oversize 颜色特别好看...幽灵刺绣质感很好 面料薄薄的比较轻 跳舞穿好看 年度满意之一..',\n",
       "  'reviewDate': '18天前',\n",
       "  'hasPic': False},\n",
       " {'id': '1249380312513',\n",
       "  'reviewContent': '立体设计的毛毛幽灵衬衫，面料摸起来一点都不扎，很舒服。',\n",
       "  'reviewDate': '1个月前',\n",
       "  'hasPic': False},\n",
       " {'id': '1250592396225',\n",
       "  'reviewContent': '身高160体重94 s码刚刚好盖屁股 喜欢oversize的姐妹可以拍大一码哦～质量很好 适合初秋当小外套穿！',\n",
       "  'reviewDate': '29天前',\n",
       "  'hasPic': False},\n",
       " {'id': '1248580027457',\n",
       "  'reviewContent': '料子好好 不扎，跳舞穿很帅\\U0001faf0',\n",
       "  'reviewDate': '1个月前',\n",
       "  'hasPic': False},\n",
       " {'id': '1247532093448',\n",
       "  'reviewContent': '衣服很合身，搭配不同风格都可以，很喜欢',\n",
       "  'reviewDate': '2个月前',\n",
       "  'hasPic': True},\n",
       " {'id': '1248957524679',\n",
       "  'reviewContent': '还挺好看的这个衣服 版型蛮正 颜色也挺好看的没有色差',\n",
       "  'reviewDate': '1个月前',\n",
       "  'hasPic': False},\n",
       " {'id': '1248032920927',\n",
       "  'reviewContent': '穿起来很舒服，背后毛绒绒的设计巨可爱，第一次买的m号发现太长了，就找客服沟通换成s，客服小姐姐也很有耐心，秒回而且积极解决问题😘😘',\n",
       "  'reviewDate': '1个月前',\n",
       "  'hasPic': False},\n",
       " {'id': '1249083726402',\n",
       "  'reviewContent': '衣服很喜欢，大小挺合适的，面料舒适这个版型也蛮百搭的，不错不错🤩🤩',\n",
       "  'reviewDate': '1个月前',\n",
       "  'hasPic': False},\n",
       " {'id': '1250132963410',\n",
       "  'reviewContent': '超喜欢好叭，直接一整个爱上了',\n",
       "  'reviewDate': '1个月前',\n",
       "  'hasPic': True},\n",
       " {'id': '1250020726937',\n",
       "  'reviewContent': '衣服质量不错，版型好看百搭，喜欢！',\n",
       "  'reviewDate': '1个月前',\n",
       "  'hasPic': False},\n",
       " {'id': '1249935526492',\n",
       "  'reviewContent': '好看百搭',\n",
       "  'reviewDate': '1个月前',\n",
       "  'hasPic': True},\n",
       " {'id': '1251088104019',\n",
       "  'reviewContent': '很不错，衣服很好看，很好搭衣服',\n",
       "  'reviewDate': '23天前',\n",
       "  'hasPic': False},\n",
       " {'id': '1247676906533',\n",
       "  'reviewContent': '此用户没有填写评价。',\n",
       "  'reviewDate': '2个月前',\n",
       "  'hasPic': False},\n",
       " {'id': '1250874328430',\n",
       "  'reviewContent': '刺绣毛茸茸的很可爱呀摸起来软软的也很舒服 suki🥺🤲💜🤍……',\n",
       "  'reviewDate': '25天前',\n",
       "  'hasPic': False},\n",
       " {'id': '1247721167445',\n",
       "  'reviewContent': '毛茸茸的 很好看可爱 ',\n",
       "  'reviewDate': '2个月前',\n",
       "  'hasPic': True},\n",
       " {'id': '1248988264736',\n",
       "  'reviewContent': '好看，百搭',\n",
       "  'reviewDate': '1个月前',\n",
       "  'hasPic': True},\n",
       " {'id': '1249456487366',\n",
       "  'reviewContent': '版型好看',\n",
       "  'reviewDate': '1个月前',\n",
       "  'hasPic': True},\n",
       " {'id': '1250940591684',\n",
       "  'reviewContent': '衣服大小合适 颜色也好看 ',\n",
       "  'reviewDate': '1个月前',\n",
       "  'hasPic': False}]"
      ]
     },
     "execution_count": 147,
     "metadata": {},
     "output_type": "execute_result"
    }
   ],
   "source": [
    "review_infos"
   ]
  },
  {
   "cell_type": "code",
   "execution_count": 23,
   "id": "1c64b0e0-4215-41a6-82e0-d06ab3af230d",
   "metadata": {
    "tags": []
   },
   "outputs": [
    {
     "data": {
      "text/plain": [
       "[{'domain': 'item.taobao.com',\n",
       "  'expiry': 1745467109,\n",
       "  'httpOnly': False,\n",
       "  'name': 'arms_uid',\n",
       "  'path': '/',\n",
       "  'sameSite': 'None',\n",
       "  'secure': True,\n",
       "  'value': '5a656b61-823e-42cc-8100-acc2c8481196'}]"
      ]
     },
     "execution_count": 23,
     "metadata": {},
     "output_type": "execute_result"
    }
   ],
   "source": [
    "from selenium import webdriver\n",
    "from selenium.webdriver.chrome.service import Service\n",
    "from selenium.webdriver.chrome.options import Options\n",
    "\n",
    "options = Options()\n",
    "options.add_argument(r\"--user-data-dir=C:\\Users\\11435\\AppData\\Local\\Google\\Chrome\\User Data\")  # 指定用户数据目录\n",
    "\n",
    "cookies = {\n",
    "    \"t\": \"e05f3fdc5ad080cfcec86db1e56b22bc\",\n",
    "    \"cna\": \"tWFTH6FNNXMBASQMyYO/XS0z\",\n",
    "    \"thw\": \"xx\",\n",
    "    \"cookie2\": \"129efd8b721e9aeb225ea4421a8cd5da\",\n",
    "    \"_tb_token_\": \"e5d4a5e8ef131\",\n",
    "    \"xlly_s\": \"1\",\n",
    "    \"_samesite_flag_\": \"true\",\n",
    "    \"3PcFlag\": \"1729839937089\",\n",
    "    \"unb\": \"2206537209867\",\n",
    "    \"lgc\": \"tb583312559\",\n",
    "    \"cancelledSubSites\": \"empty\",\n",
    "    \"cookie17\": \"UUphzOfdcXH2sDxlLA%3D%3D\",\n",
    "    \"dnk\": \"tb583312559\",\n",
    "    \"tracknick\": \"tb583312559\",\n",
    "    \"_l_g_\": \"Ug%3D%3D\",\n",
    "    \"sg\": \"977\",\n",
    "    \"_nk_\": \"tb583312559\",\n",
    "    \"cookie1\": \"BvLcywHzjBT%2BvP8T18nVj7dYnS4ns%2BLDKEDBQeGGauQ%3D\",\n",
    "    \"sgcookie\": \"E100FfpBRwOZE1vQ5bMJcfAVtvAjeeR9oKxPXF%2FgjSFIkIjASigRWgL8npW1a1N4qkVStF4QrNtUci%2BWeuQkBLrvME2gue5FyWasMASgk%2F9qkSro0GsI5iJM5bCzB1gqb4N0\",\n",
    "    \"havana_lgc2_0\": \"eyJoaWQiOjIyMDY1MzcyMDk4NjcsInNnIjoiZmNmY2NkNzhlNTg3YTJjYzgyOGI0ODY2MmRjY2JlZDEiLCJzaXRlIjowLCJ0b2tlbiI6IjE0UkIyd21Ja0duZHRwcGg4bmF0WENRIn0\",\n",
    "    \"_hvn_lgc_\": \"0\",\n",
    "    \"havana_lgc_exp\": \"1760943956770\",\n",
    "    \"cookie3_bak\": \"129efd8b721e9aeb225ea4421a8cd5da\",\n",
    "    \"cookie3_bak_exp\": \"1730099156770\",\n",
    "    \"wk_cookie2\": \"1faa970499b30a34c963a097632d0f17\",\n",
    "    \"wk_unb\": \"UUphzOfdcXH2sDxlLA%3D%3D\",\n",
    "    \"uc1\": \"cookie16=VFC%2FuZ9az08KUQ56dCrZDlbNdA%3D%3D&existShop=false&cookie21=URm48syIYn73&cookie15=W5iHLLyFOGW7aA%3D%3D&cookie14=UoYcCojvCJ2Pvg%3D%3D&pas=0\",\n",
    "    \"sn\": \"\",\n",
    "    \"uc3\": \"id2=UUphzOfdcXH2sDxlLA%3D%3D&lg2=URm48syIIVrSKA%3D%3D&vt3=F8dD37r%2F3uOgWwn4EkI%3D&nk2=F5RASpxqzEMZAew%3D\",\n",
    "    \"csg\": \"e721cd90\",\n",
    "    \"env_bak\": \"FM%2BgmqK9ZWm5tV%2BjJisTgPurs7PGi4iF2LR6kanHX05Z\",\n",
    "    \"skt\": \"ba238a80a71630a0\",\n",
    "    \"existShop\": \"MTcyOTgzOTk1Ng%3D%3D\",\n",
    "    \"uc4\": \"nk4=0%40FY4L5jbKwUYrE5nm82OwMCfAwJKQNQ%3D%3D&id4=0%40U2grF8wQ7DPRYS5MiAYZ%2FF9JI1GeEeE9\",\n",
    "    \"_cc_\": \"V32FPkk%2Fhw%3D%3D\",\n",
    "    \"havana_sdkSilent\": \"1729926359648\",\n",
    "    \"sdkSilent\": \"1729926377502\",\n",
    "    \"tfstk\": \"ftyodf2RA7lWkIdmmsk5tpIGQN1xV3MISypKJv3FgquXwvC7vDV0fy0RA_M8i244o4JRVuUmYyqQwgGdPHx7nPvpea17YpDKLNQOBOEW2vMFWH-2qkRS2c6pz4uFz574eNQOBtCy0vblWzLhRyXmjckE4Xlr3im-A3kET0rVmDopzBJz8iqqlDYyUXuyuKoEf3kELyrVmDGuFLuaL-wVPQ69QLmc_QGSZVrc1pJHB4Tt-u-9Id20i-0NKqveL-muDmiSwdfK75g-6VzVHLD30D4-kPWwnxlg1kn3rTvreSPbFYeAShGu-qcaHjYyacDorfyrG3JUcXP0nYePRCZYm4liHSCfyXHur5gsas_b-o0888c2rZ3L6oeriP7vnyG31kn3rTvz7gSygC7IMpiVv-RBObojmVKl5Y3voDzCnijD1vGrc0QOmiABObojmVIcmCMIamiRW\",\n",
    "    \"mtop_partitioned_detect\": \"1\",\n",
    "    \"_m_h5_tk\": \"52d87b6b8046ca1cda7f73e9957e60e3_1729921889022\",\n",
    "    \"_m_h5_tk_enc\": \"dfce52fc2a66205f5c350276470212c6\",\n",
    "    \"isg\": \"BNHRChfAUvw7Db8wLYZtL2nh4N1rPkWwq-xACbNmzRi2WvGs-45VgH-8_C680t3o\"\n",
    "}\n",
    "\n",
    "url1 = 'http://item.taobao.com/item.htm?spm=a21n57.sem.item.5.22c63903aT97m1&priceTId=214642f117298422970536453e032c&utparam=%7B%22aplus_abtest%22%3A%22a8177acd3d38c5ce1f754c1b0b4b5ddc%22%7D&id=670794654965&xxc=ad_ztc'\n",
    "url2 = 'https://item.taobao.com/item.htm?id=816200929550&priceTId=2147bfd317298407071412719e5240&spm=a21n57.sem.item.1.11003903o68NG9&utparam=%7B%22aplus_abtest%22%3A%22c8eea2892247f32636393e8ff4032ebd%22%7D&xxc=ad_ztc'\n",
    "url3 = 'https://uland.taobao.com/sem/tbsearch?clk1=6ec6b58330045b278a4fc49384cd4149&keyword=%E5%A5%B3%E8%A3%85&localImgKey=&page=1&q=%E5%A5%B3%E8%A3%85&refpid=mm_2898300158_3078300397_115665800437&tab=all&upsId=6ec6b58330045b278a4fc49384cd4149'\n",
    "# 指定 ChromeDriver 的路径\n",
    "service = Service(executable_path=r'D:\\tool\\toolkit\\chromedriver.exe')\n",
    "\n",
    "# 使用 Service 创建 WebDriver 实例\n",
    "driver = webdriver.Chrome(service=service, options=options)\n",
    "driver.get(url1)\n",
    "\n",
    "# for name, value in cookies.items():\n",
    "#     cookie = {'name': name, 'value': value}\n",
    "#     driver.add_cookie(cookie)\n",
    "\n",
    "# driver.refresh()\n",
    "driver.get_cookies()"
   ]
  },
  {
   "cell_type": "code",
   "execution_count": 9,
   "id": "c4fce1ff-420b-44e4-87aa-489fe2eb8e71",
   "metadata": {
    "tags": []
   },
   "outputs": [],
   "source": [
    "from urllib.parse import urlparse, parse_qs\n",
    "import json\n",
    "import time\n",
    "\n",
    "url_cookies_file = r'C:\\Users\\11435\\Desktop\\clutter\\research\\data\\topicModels\\TaoBao\\tb_cookies.json'\n",
    "params = {\n",
    "    \"jsv\": \"2.7.4\",\n",
    "    \"appKey\": \"12574478\",\n",
    "    \"t\": \"1729849603128\",\n",
    "    \"sign\": \"847a2afc523d6cf3337fb576df14cf4c\",\n",
    "    \"api\": \"mtop.alibaba.review.list.for.new.pc.detail\",\n",
    "    \"v\": \"1.0\",\n",
    "    \"isSec\": \"0\",\n",
    "    \"ecode\": \"0\",\n",
    "    \"timeout\": \"20000\",\n",
    "    \"ttid\": \"2022@taobao_litepc_9.17.0\",\n",
    "    \"AntiFlood\": \"true\",\n",
    "    \"AntiCreep\": \"true\",\n",
    "    \"dataType\": \"json\",\n",
    "    \"valueType\": \"string\",\n",
    "    \"type\": \"json\",\n",
    "    \"data\": \"{\\\"itemId\\\":\\\"816200929550\\\",\\\"bizCode\\\":\\\"ali.china.tmall\\\",\\\"channel\\\":\\\"pc_detail\\\",\\\"pageSize\\\":20,\\\"pageNum\\\":3}\"\n",
    "}\n",
    "\n",
    "with open(url_cookies_file, 'r', encoding='utf-8') as file:\n",
    "    # 加载 JSON 数据\n",
    "    json_data = json.load(file)\n",
    "\n",
    "for i in range(len(json_data)):\n",
    "    item_url = json_data[i]['url']\n",
    "    cookies = {cookie['name']: cookie['value'] for cookie in json_data[i]['cookies']}\n",
    "\n",
    "    # 对params里的data参数里的id进行修改\n",
    "    parsed_url = urlparse(item_url)\n",
    "    query_params = parse_qs(parsed_url.query)\n",
    "    item_id = query_params['id']\n",
    "    data = json.loads(params['data'])\n",
    "    data['itemId'] = item_id\n",
    "    params['data'] = json.dumps(data, ensure_ascii=False).replace(\" \", \"\")\n"
   ]
  },
  {
   "cell_type": "code",
   "execution_count": 13,
   "id": "5e521ab6-f7d2-40c3-9ca6-355ededbf684",
   "metadata": {
    "tags": []
   },
   "outputs": [
    {
     "data": {
      "text/plain": [
       "{'itemId': '816200929550',\n",
       " 'bizCode': 'ali.china.tmall',\n",
       " 'channel': 'pc_detail',\n",
       " 'pageSize': 20,\n",
       " 'pageNum': 3}"
      ]
     },
     "execution_count": 13,
     "metadata": {},
     "output_type": "execute_result"
    }
   ],
   "source": [
    "params = {\n",
    "    \"jsv\": \"2.7.4\",\n",
    "    \"appKey\": \"12574478\",\n",
    "    \"t\": \"1729849603128\",\n",
    "    \"sign\": \"847a2afc523d6cf3337fb576df14cf4c\",\n",
    "    \"api\": \"mtop.alibaba.review.list.for.new.pc.detail\",\n",
    "    \"v\": \"1.0\",\n",
    "    \"isSec\": \"0\",\n",
    "    \"ecode\": \"0\",\n",
    "    \"timeout\": \"20000\",\n",
    "    \"ttid\": \"2022@taobao_litepc_9.17.0\",\n",
    "    \"AntiFlood\": \"true\",\n",
    "    \"AntiCreep\": \"true\",\n",
    "    \"dataType\": \"json\",\n",
    "    \"valueType\": \"string\",\n",
    "    \"type\": \"json\",\n",
    "    \"data\": \"{\\\"itemId\\\":\\\"816200929550\\\",\\\"bizCode\\\":\\\"ali.china.tmall\\\",\\\"channel\\\":\\\"pc_detail\\\",\\\"pageSize\\\":20,\\\"pageNum\\\":3}\"\n",
    "}\n",
    "json.loads(params['data'])"
   ]
  }
 ],
 "metadata": {
  "kernelspec": {
   "display_name": "PyCharm (trainingField)",
   "language": "python",
   "name": "pycharm-d26ea172"
  },
  "language_info": {
   "codemirror_mode": {
    "name": "ipython",
    "version": 3
   },
   "file_extension": ".py",
   "mimetype": "text/x-python",
   "name": "python",
   "nbconvert_exporter": "python",
   "pygments_lexer": "ipython3",
   "version": "3.8.17"
  }
 },
 "nbformat": 4,
 "nbformat_minor": 5
}
