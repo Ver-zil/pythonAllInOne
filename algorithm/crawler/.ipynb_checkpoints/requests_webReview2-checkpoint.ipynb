{
 "cells": [
  {
   "cell_type": "markdown",
   "id": "ace638c9-9cb7-443a-877e-205386e78815",
   "metadata": {},
   "source": [
    "# web博主帖子评论抓取"
   ]
  },
  {
   "cell_type": "code",
   "execution_count": 1,
   "id": "ac2880ea-34ce-4d21-b0d1-c93daf35f1ec",
   "metadata": {},
   "outputs": [],
   "source": [
    "import requests\n",
    "import re\n",
    "import parsel\n",
    "import os\n",
    "import csv\n",
    "import pandas as pd\n",
    "import json"
   ]
  },
  {
   "cell_type": "code",
   "execution_count": 2,
   "id": "18aef969-5c4e-47dc-b100-fe9110366499",
   "metadata": {
    "tags": []
   },
   "outputs": [],
   "source": [
    "root = 'https://weibo.com'\n",
    "uid = '1943171370'\n",
    "post_index = 'OsSHJFEGZ'\n",
    "save_path = r'C:\\Users\\11435\\Desktop\\clutter\\research\\data\\frd'\n",
    "\n",
    "cookies = {\n",
    "    'UOR': 'cn.bing.com,app.weibo.com,cn.bing.com',\n",
    "    'SINAGLOBAL': '5548902752922.988.1719907415638',\n",
    "    'ULV': '1719907415639:1:1:1:5548902752922.988.1719907415638:',\n",
    "    'SCF': 'Anb0ahMFX7Dviey6eY96snrouORkvhB_p5zpGSx2o7SuXCTKcZguAv0v1Lg_VZNrmXSk9WwhXtnH1wwTVdu6plY.',\n",
    "    'ALF': '1727249333',\n",
    "    'SUB': '_2A25LyF7lDeRhGeFG6VsX-CbNzzqIHXVopN4trDV8PUJbkNB-LU3MkW1Necmea46bIemBv3M_SxkWSP5yN3XNSQ_m',\n",
    "    'SUBP': '0033WrSXqPxfM725Ws9jqgMF55529P9D9WhqByqKzdmhKOAefQHj9BFY5JpX5KMhUgL.FoMReo.c1hnpShq2dJLoIpiBqPiy9sL09CfBqPiydgHX9Pzt',\n",
    "    'XSRF-TOKEN': 'TxWiv_QeRbCeEPmS3AQCogC3',\n",
    "    'PC_TOKEN': '60b19c98dd',\n",
    "    'WBPSESS': 'cr4hkwwxfJb_HtFDhT8YoAmRwnjKqHZB06W25MPP-Ghd2KXRxNilELUAmscFjd6-q0MIRNJSS43cBER1s-JOWZ1zcX33qHPlhTrPu8rXHGWaqYWRQUpuQvVYydH2lUWufHfqTW2f8NH7OnFKvqQFKA==',\n",
    "}\n",
    "\n",
    "headers = {\n",
    "    'referer': '/'.join([root, uid, post_index]),\n",
    "    'user-agent': 'Mozilla/5.0 (Windows NT 10.0; Win64; x64) AppleWebKit/537.36 (KHTML, like Gecko) Chrome/128.0.0.0 Safari/537.36',\n",
    "}\n",
    "\n",
    "params = {\n",
    "    'id': post_index,\n",
    "    'locale': 'zh-CN',\n",
    "}\n",
    "\n",
    "post_url = 'https://weibo.com/ajax/statuses/show'\n",
    "\n",
    "response = requests.get(post_url, params=params, cookies=cookies, headers=headers)"
   ]
  },
  {
   "cell_type": "code",
   "execution_count": 3,
   "id": "ed82b2b6-be11-4d9e-977a-46f2d01e2dff",
   "metadata": {},
   "outputs": [],
   "source": [
    "raw_data = response.json()\n",
    "mid = raw_data[\"mid\"]"
   ]
  },
  {
   "cell_type": "code",
   "execution_count": 4,
   "id": "6bfff340-0459-4310-baa5-119507b00c85",
   "metadata": {},
   "outputs": [],
   "source": [
    "comments_params = {\n",
    "    'is_reload': '1',\n",
    "    'id': mid,\n",
    "    'is_show_bulletin': '2',\n",
    "    'is_mix': '0',\n",
    "    'count': '30',\n",
    "    'uid': uid,\n",
    "    'fetch_level': '0',\n",
    "    'locale': 'zh-CN',\n",
    "}\n",
    "\n",
    "comments_url = 'https://weibo.com/ajax/statuses/buildComments'\n",
    "\n",
    "comments_response = requests.get(comments_url, params=comments_params, cookies=cookies, headers=headers)"
   ]
  },
  {
   "cell_type": "code",
   "execution_count": 5,
   "id": "b7da64e9-bf24-4ce1-b0ae-1108a40ea480",
   "metadata": {
    "tags": []
   },
   "outputs": [],
   "source": [
    "# 对post信息进行处理，post关键字：user_name, user_profile, uid, mid(id), post_text, post_img_url, repost_cnt转发, comments_cnt评论, likes_cnt点赞\n",
    "post_info = {}\n",
    "post_info['user_name'] = raw_data['user']['screen_name']\n",
    "post_info['user_profile'] = raw_data['user']['profile_image_url']\n",
    "post_info['uid'] = uid\n",
    "post_info['mid'] = mid\n",
    "post_info['post_text'] = raw_data['text_raw']\n",
    "post_info['repost_cnt'] = raw_data['reposts_count']\n",
    "post_info['comments_cnt'] = raw_data['comments_count']\n",
    "post_info['likes_cnt'] = raw_data['attitudes_count']\n",
    "# 处理图片信息，图片用url的方式进行json存储\n",
    "post_img_origin_url = []\n",
    "pic_infos = raw_data['pic_infos']\n",
    "for pic_info in pic_infos:\n",
    "    post_img_origin_url.append(pic_infos[pic_info]['original']['url'])\n",
    "post_info['post_img_url'] = post_img_origin_url\n",
    "    \n",
    "# 对评论信息处理，comments关键字：user_name, user_profile, gender, fans_cnt, subscribe_cnt, posts_cnt, big_fan铁粉等级, is_vip, comments, likes_cnt\n",
    "comments_info = {}\n",
    "comments_data = comments_response.json()['data']\n",
    "for i in range(len(comments_data)):\n",
    "    comment_info = {}\n",
    "    comment_info['user_name'] = comments_data[i]['user']['screen_name']\n",
    "    comment_info['user_profile'] = comments_data[i]['user']['profile_image_url']\n",
    "    comment_info['gender'] = comments_data[i]['user']['gender']\n",
    "    comment_info['posts_cnt'] = comments_data[i]['user']['statuses_count']\n",
    "    comment_info['fans_cnt'] = comments_data[i]['user']['followers_count']\n",
    "    comment_info['subscribe_cnt'] = comments_data[i]['user']['friends_count']\n",
    "    comment_info['is_vip'] = comments_data[i]['user']['fansIcon']['member_rank'] # 如果是0就不是，其他数字就是vip\n",
    "    comment_info['comments'] = comments_data[i]['text_raw']\n",
    "    comment_info['likes_cnt'] = comments_data[i]['like_counts']\n",
    "    \n",
    "    # 对粉丝等级进行一个判定，比如铁粉钻粉\n",
    "    # https://h5.sinaimg.cn/upload/114/962/2022/07/08/member_6_bigfan3_1.png vip等级6，3钻粉，1级\n",
    "    comment_info['big_fan'] = comments_data[i]['user']['fansIcon']['icon_url']\n",
    "    comments_info[i] = comment_info\n",
    "    \n",
    "\n",
    "data = {\n",
    "    \"post_data\" : post_info,\n",
    "    \"comments_data\" : comments_info\n",
    "}"
   ]
  },
  {
   "cell_type": "code",
   "execution_count": 7,
   "id": "ff4dcdeb-63ae-490e-a256-ac96c14c3c95",
   "metadata": {
    "tags": []
   },
   "outputs": [],
   "source": [
    "# 目标文件路径\n",
    "file_path = '\\\\'.join([save_path, 'web-' + post_info['user_name'], post_index + '.json'])\n",
    "\n",
    "# 确保目录存在\n",
    "os.makedirs(os.path.dirname(file_path), exist_ok=True)\n",
    "\n",
    "# 现在可以安全地写入文件\n",
    "with open(file_path, 'w', encoding='utf-8') as f:\n",
    "    json.dump(data, f, ensure_ascii=False, indent=4)"
   ]
  },
  {
   "cell_type": "code",
   "execution_count": 9,
   "id": "e73d510a-ebd5-4e80-898b-25abf48fc192",
   "metadata": {},
   "outputs": [
    {
     "data": {
      "text/plain": [
       "'https://weibo.com/1943171370/OsSHJFEGZ'"
      ]
     },
     "execution_count": 9,
     "metadata": {},
     "output_type": "execute_result"
    }
   ],
   "source": [
    "'/'.join([root, uid, post_index])"
   ]
  },
  {
   "cell_type": "code",
   "execution_count": null,
   "id": "0ab14bb6-ad2b-4b40-8c88-7d1aff8da9ea",
   "metadata": {
    "tags": []
   },
   "outputs": [],
   "source": []
  },
  {
   "cell_type": "code",
   "execution_count": null,
   "id": "c23763e9-30f9-419c-b918-b0f5cfd70b50",
   "metadata": {
    "tags": []
   },
   "outputs": [],
   "source": []
  },
  {
   "cell_type": "code",
   "execution_count": null,
   "id": "c8bc812c-4328-4d51-b263-31e1692ec5b1",
   "metadata": {},
   "outputs": [],
   "source": [
    "comment = {}\n",
    "comment[0] = 1\n",
    "comment[0]"
   ]
  },
  {
   "cell_type": "code",
   "execution_count": null,
   "id": "f8913036-1c0d-4a8d-b63d-bdf675b61216",
   "metadata": {
    "tags": []
   },
   "outputs": [],
   "source": [
    "comments_info"
   ]
  }
 ],
 "metadata": {
  "kernelspec": {
   "display_name": "PyCharm (trainingField)",
   "language": "python",
   "name": "pycharm-d26ea172"
  },
  "language_info": {
   "codemirror_mode": {
    "name": "ipython",
    "version": 3
   },
   "file_extension": ".py",
   "mimetype": "text/x-python",
   "name": "python",
   "nbconvert_exporter": "python",
   "pygments_lexer": "ipython3",
   "version": "3.8.17"
  }
 },
 "nbformat": 4,
 "nbformat_minor": 5
}
