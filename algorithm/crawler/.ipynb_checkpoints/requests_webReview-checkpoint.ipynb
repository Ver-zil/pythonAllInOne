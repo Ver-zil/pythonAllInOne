{
 "cells": [
  {
   "cell_type": "markdown",
   "id": "1b6f957a-7ff0-4d5b-8f9c-da1cec294e7b",
   "metadata": {},
   "source": [
    "# web review"
   ]
  },
  {
   "cell_type": "code",
   "execution_count": 1,
   "id": "f2ae7694-25a1-496c-b1ed-1b70f29f2f9a",
   "metadata": {
    "tags": []
   },
   "outputs": [],
   "source": [
    "import requests\n",
    "import re\n",
    "import parsel\n",
    "import os\n",
    "import csv\n",
    "import pandas as pd"
   ]
  },
  {
   "cell_type": "code",
   "execution_count": 12,
   "id": "d1699c77-cda8-49a0-af5d-406c8b9bb17b",
   "metadata": {
    "tags": []
   },
   "outputs": [],
   "source": [
    "url = 'https://weibo.com/ajax/statuses/buildComments?is_reload=1&id=5051677419767681&is_show_bulletin=2&is_mix=0&count=10&uid=1939307525&fetch_level=0&locale=zh-CN'\n",
    "\n",
    "headers = {\n",
    "    'Cookie':\n",
    "        '_s_tentry=cn.bing.com; UOR=cn.bing.com,app.weibo.com,cn.bing.com; Apache=5548902752922.988.1719907415638; SINAGLOBAL=5548902752922.988.1719907415638; ULV=1719907415639:1:1:1:5548902752922.988.1719907415638:; XSRF-TOKEN=YavY5NeWFcF79YM9Rv7nIbGf; PC_TOKEN=795fb3e7c2; ALF=1722501977; SUB=_2A25Lh84IDeRhGeFG6VsX-CbNzzqIHXVo_U_ArDV8PUJbkNAGLXPnkW1Necmea32aOXj6A5aQzUh7zLjkj9vTQgQ5; SUBP=0033WrSXqPxfM725Ws9jqgMF55529P9D9WhqByqKzdmhKOAefQHj9BFY5JpX5KzhUgL.FoMReo.c1hnpShq2dJLoIpiBqPiy9sL09CfBqPiydgHX9Pzt; WBPSESS=cr4hkwwxfJb_HtFDhT8YoAmRwnjKqHZB06W25MPP-Ghd2KXRxNilELUAmscFjd6-q0MIRNJSS43cBER1s-JOWTmZ9bZ0KRxrSMwNNj2Z6V_4ByyEv4gA6hIUvxwDBqG6zg8_jlKMu_qHueM9DKIb4Q==',\n",
    "    'User-Agent':\n",
    "        'Mozilla/5.0 (Windows NT 10.0; Win64; x64) AppleWebKit/537.36 (KHTML, like Gecko) Chrome/126.0.0.0 Safari/537.36'\n",
    "}\n",
    "\n",
    "save_path = r'D:\\cache\\coding\\python\\crawler\\\\'\n",
    "\n",
    "# client = httpx.Client(http2=True)\n",
    "# response = client.get(url, timeout=30)\n",
    "response = requests.get(url, headers=headers)"
   ]
  },
  {
   "cell_type": "markdown",
   "id": "7ff75019-214e-4b20-b465-e3f86334c69e",
   "metadata": {},
   "source": [
    "**There are two questions**\n",
    "- we can only get 20 reviews, but there exits more than 1k reviews actually\n",
    "- the emoji in data is a url"
   ]
  },
  {
   "cell_type": "code",
   "execution_count": 14,
   "id": "f4bac602-ddb4-4020-8320-40b1525f7df8",
   "metadata": {
    "tags": []
   },
   "outputs": [],
   "source": [
    "list = []\n",
    "for comment_info in response.json()['data']:\n",
    "    dict = {\n",
    "        'user_name': comment_info['user']['screen_name'],\n",
    "        'location': comment_info['user']['location'],\n",
    "        'gender': comment_info['user']['gender'],\n",
    "        'comment': comment_info['text']\n",
    "    }\n",
    "    list.append(dict)\n",
    "\n",
    "pd_data = pd.DataFrame(list)\n",
    "pd_data.to_csv(save_path + 'webReview.csv')"
   ]
  },
  {
   "cell_type": "code",
   "execution_count": 10,
   "id": "e7eea216-4679-466f-ba92-02366a01a351",
   "metadata": {
    "tags": []
   },
   "outputs": [
    {
     "data": {
      "text/plain": [
       "{'user_name': '生椰拿铁三分糖__',\n",
       " 'location': '上海',\n",
       " 'gender': 'f',\n",
       " 'comment': '赵今麦台词和演技太好了 看爽了'}"
      ]
     },
     "execution_count": 10,
     "metadata": {},
     "output_type": "execute_result"
    }
   ],
   "source": [
    "dict"
   ]
  },
  {
   "cell_type": "code",
   "execution_count": 13,
   "id": "72b854c5-957b-460b-ac99-b0bdd855a8e4",
   "metadata": {
    "tags": []
   },
   "outputs": [
    {
     "data": {
      "text/plain": [
       "20"
      ]
     },
     "execution_count": 13,
     "metadata": {},
     "output_type": "execute_result"
    }
   ],
   "source": [
    "len(response.json()['data'])"
   ]
  },
  {
   "cell_type": "code",
   "execution_count": null,
   "id": "2b547b28-3cd6-4f22-85f5-9062ec183de5",
   "metadata": {
    "tags": []
   },
   "outputs": [],
   "source": [
    "response"
   ]
  }
 ],
 "metadata": {
  "kernelspec": {
   "display_name": "PyCharm (trainingField)",
   "language": "python",
   "name": "pycharm-d26ea172"
  },
  "language_info": {
   "codemirror_mode": {
    "name": "ipython",
    "version": 3
   },
   "file_extension": ".py",
   "mimetype": "text/x-python",
   "name": "python",
   "nbconvert_exporter": "python",
   "pygments_lexer": "ipython3",
   "version": "3.8.17"
  }
 },
 "nbformat": 4,
 "nbformat_minor": 5
}
