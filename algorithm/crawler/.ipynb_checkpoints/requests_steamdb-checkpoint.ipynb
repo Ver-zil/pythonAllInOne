{
 "cells": [
  {
   "cell_type": "code",
   "execution_count": 1,
   "id": "f8f9152b-bbb9-4c63-88a6-a923c3606edc",
   "metadata": {
    "tags": []
   },
   "outputs": [],
   "source": [
    "import requests\n",
    "import os\n",
    "import csv\n",
    "import pandas as pd\n",
    "import json\n",
    "from bs4 import BeautifulSoup\n",
    "import pickle\n",
    "\n",
    "import concurrent.futures\n",
    "import queue\n",
    "import threading"
   ]
  },
  {
   "cell_type": "markdown",
   "id": "daf2a82b-33b1-46c8-8b1b-d442b2afb29a",
   "metadata": {},
   "source": [
    "# 在基础页面提取每个数据页面的id"
   ]
  },
  {
   "cell_type": "code",
   "execution_count": 2,
   "id": "124f3917-acf8-435f-8bbb-d93943150ade",
   "metadata": {
    "tags": []
   },
   "outputs": [],
   "source": [
    "headers = {\n",
    "    \"Accept\": \"text/html,application/xhtml+xml,application/xml;q=0.9,*/*;q=0.8\",\n",
    "    \"Sec-Fetch-Site\": \"none\",\n",
    "    \"Sec-Fetch-Mode\": \"navigate\",\n",
    "    \"User-Agent\": \"Mozilla/5.0 (Macintosh; Intel Mac OS X 10_15_7) AppleWebKit/605.1.15 (KHTML, like Gecko) Version/18.0.1 Safari/605.1.15\",\n",
    "    \"Accept-Language\": \"zh-CN,zh-Hans;q=0.9\",\n",
    "    \"Accept-Encoding\": \"gzip, deflate, br\",\n",
    "    \"Sec-Fetch-Dest\": \"document\",\n",
    "    \"Priority\": \"u=0, i\"\n",
    "}\n",
    "cookies = {\n",
    "    \"__Host-steamdb\": \"0%3B6767402%3B408bb760f883444699879f013312bf9bdc1877f8\",\n",
    "    \"__cf_bm\": \"OsypUZZJdwgD8SIosvMoZorR7wSozrnNzHN7lgAGrj0-1730285923-1.0.1.1-zxaejvNxuHsy37mTubiRf61Cz5ou53L5L_37ud_Jgsov4QLJSMCk9mJO.GPePVVojy4gVe.asFaozNcPLWOp9A\",\n",
    "    \"cf_clearance\": \"WSTNX03HEvQWpJvoxnL3iZh6T5AVKmif6_7UjvDgkis-1730276574-1.2.1.1-QVz44_674dS7B02A.Tbet1NTfAewumujH4yjrFzrrJlDcswGlSeXsfpN6i2H8eXHjq1Wy8wzEktysLm8IotwfS9cDpClliJcgoNleUpZG3rs1Dn4_JtJz45vuyD9zrjqxCK8hKgURaksMsiD27Htyh25q4ODFWXYRTEU5Pyvh_svhQDNnUASlzQiCL4s94awBFz8CAUnQakbFo_FTZ3JZo79tOf6VhomNaWCHpWu57gWzUk9zrQdY6iPTPix533leIvWNB0wCIUSqAkxgrkIQ83UIdLbdhCYwMgCXB2aYRQAa.1fwGD3Qy91kRNR.ktX6_hASOkULhzRU7RjiiKA2YvOE5dTvFzy87mbPWX_AtPLF1HbfEymE2dBg5YMTvJtl50bj_UyaQIgeolaYBBvsUGIVIxjB9G0M.sMP56OwmwsmorSt_LbLVjlMdsedq6b\"\n",
    "}\n",
    "url = \"https://steamdb.info/search/\"\n",
    "params = {\n",
    "    \"a\": \"app\",\n",
    "    \"q\": \"\",\n",
    "    \"type\": \"1\",\n",
    "    \"category\": \"2\"\n",
    "}\n",
    "response = requests.get(url, headers=headers, cookies=cookies, params=params)"
   ]
  },
  {
   "cell_type": "code",
   "execution_count": 3,
   "id": "201c97eb-3a73-4a46-9391-a31c0b39ac3f",
   "metadata": {
    "tags": []
   },
   "outputs": [
    {
     "data": {
      "text/plain": [
       "'<!doctype html>\\n<html lang=\"en\">\\n<head>\\n<meta charset=\"UTF-8\">\\n<meta name=\"viewport\" content=\"width=device-width, initial-scale=1.0\">\\n<title>SteamDB</title>\\n<meta name=\"theme-color\" content=\"#1B2838\">\\n<style>:root{--navbar-height: 48px;--body-bg-color: #161920;--body-color: #ddd;--contrast-color: #fff;--muted-bg-color: #213145;--muted-color: #999;--border-color: hsl(216deg 25% 30%);--border-color-2: hsl(216deg 25% 16%);--link-color: #00aff4;--link-color-hover: #0095ff;--bg-green: #030;--bg-blue: #00174d;--state-text-color: #111;--state-owned: 89 185 70;--state-wished: 102 148 255;--state-watched: 87 132 168;--state-followed: 211 222 234;--state-cart: 247 203 8;--state-ignored: 191 191 191;--tooltip-bg: rgb(255 255 255 / 80%);--tooltip-green: #577c27;color-scheme:dark;scrollbar-color:var(--border-color) var(--body-bg-color);scroll-padding-top:calc(var(--navbar-height) + 15px);tab-size:4;overflow-y:scroll;box-sizing:border-box;-webkit-text-size-adjust:none;text-size-adjust:none;height:100%}*,*:before,*:after{box-sizing:inherit}body{font:14px/20px Inter,fallback-inter,system-ui,sans-serif,\"Apple Color Emoji\",\"Segoe UI Emoji\",Segoe UI Symbol;color:var(--body-color);background-color:var(--body-bg-color);margin:0;height:100%}iframe{border:0;overflow:hidden;background-color:transparent;color-scheme:light}a{color:var(--link-color);text-decoration:none}a:hover{color:var(--link-color-hover);text-decoration:underline}hr{height:1px;margin:15px 0;overflow:hidden;background:var(--border-color);padding:0;border:0}blockquote{margin:0}img{vertical-align:middle}.container{width:960px;padding-left:10px;padding-right:10px;margin-right:auto;margin-left:auto}.row{display:flex;flex:0 1 auto;flex-flow:row wrap;column-gap:20px}.span12{width:940px}.span11{width:860px}.span10{width:780px}.span9{width:700px}.span8{width:620px}.span7{width:540px}.span6{width:460px}.span5{width:380px}.span4{width:300px}.span3{width:220px}.span2{width:140px}.span1{width:60px}@media (max-width: 980px){.container{width:auto}.row{width:100%;flex-direction:column}.span12,.span11,.span10,.span9,.span8,.span7,.span6,.span5,.span4,.span3,.span2,.span1{width:100%}}:root{overflow-y:auto}body{--body-bg-color: #1b1d2a;--body-color: #fff;--link-color: #0095ff;font-size:16px;margin:0;padding:20px}.container{margin:auto;margin-top:10vh}h1{color:#66c0f4;font-size:24px;line-height:1.2;font-weight:500;max-width:unset;margin:15px 0}.muted-banner{margin:0 -15px;padding:15px;background-color:var(--muted-bg-color);border-radius:6px}.muted{color:var(--muted-color)}*[data-translate]{color:inherit!important}.cf-error{margin-bottom:20px;text-align:left;min-height:150px}.cf-error h1{margin:0;font-weight:400}.cf-error h3{margin-bottom:0}.cf-error ul{color:#999}\\n</style>\\n<link rel=\"icon\" type=\"image/svg+xml\" href=\"data:image/svg+xml,%3Csvg xmlns=\\'http://www.w3.org/2000/svg\\' viewBox=\\'0 0 16 16\\'%3E%3Cstyle%3E path %7B fill: %23000; %7D @media (prefers-color-scheme: dark) %7B path %7B fill: %23FFF; %7D %7D %3C/style%3E%3Cpath d=\\'M7.982 0C3.807 0 .383 1.49.015 3.393l4.446.842c.36-.107.777-.164 1.198-.167l2.09-1.252c-.024-.313.168-.632.589-.905.597-.387 1.534-.598 2.487-.606a5.662 5.662 0 011.876.274c1.396.47 1.717 1.387.71 2.038-.637.413-1.659.624-2.677.604l-2.752.981c-.024.196-.165.39-.428.56-.739.48-2.177.588-3.202.243-.453-.152-.751-.37-.879-.606L.316 4.802c.287.448.749.86 1.348 1.22C.62 6.621 0 7.373 0 8.188c0 .8.598 1.538 1.606 2.131C.597 10.914 0 11.655 0 12.456 0 14.413 3.579 16 7.998 16 12.417 16 16 14.413 16 12.456c0-.8-.598-1.542-1.607-2.136C15.402 9.727 16 8.989 16 8.19c0-.82-.628-1.577-1.68-2.178 1.042-.63 1.664-1.42 1.664-2.279C15.984 1.671 12.401 0 7.982 0zm2.856 1.774c-.644.013-1.273.146-1.681.41-.688.445-.476 1.06.478 1.382.954.32 2.269.22 2.956-.226.688-.445.476-1.058-.478-1.379a3.971 3.971 0 00-1.275-.187zm.036.213c.92 0 1.663.349 1.663.778 0 .428-.744.775-1.663.775-.92 0-1.662-.347-1.662-.775 0-.429.743-.778 1.662-.778zM5.659 4.3c-.198.014-.393.02-.578.052l1.138.214a1.345.628 0 11-1.011 1.162l-1.107-.21c.125.113.305.216.543.296.803.27 1.92.186 2.5-.19.58-.374.398-.893-.406-1.164A3.38 3.38 0 005.66 4.3zm7.967 2.08v1.16c0 1.377-2.52 2.49-5.628 2.49S2.374 8.917 2.374 7.54V6.394c1.443.663 3.422 1.073 5.608 1.073 2.202 0 4.197-.416 5.644-1.088zm0 4.328v1.099c0 1.376-2.52 2.49-5.628 2.49s-5.624-1.114-5.624-2.49v-1.098c1.444.633 3.43 1.024 5.624 1.024 2.194 0 4.182-.391 5.628-1.025z\\'/%3E%3C/svg%3E%0A\">\\n<meta http-equiv=\"refresh\" content=\"390\">\\n</head>\\n<body>\\n<div class=\"container\">\\n<svg version=\"1.1\" width=\"128\" height=\"128\" viewBox=\"0 0 128 128\" aria-hidden=\"true\"><path fill=\"#fff\" fill-rule=\"evenodd\" d=\"M63.9 0C30.5 0 3.1 11.9.1 27.1l35.6 6.7c2.9-.9 6.2-1.3 9.6-1.3l16.7-10c-.2-2.5 1.3-5.1 4.7-7.2 4.8-3.1 12.3-4.8 19.9-4.8 5.2-.1 10.5.7 15 2.2 11.2 3.8 13.7 11.1 5.7 16.3-5.1 3.3-13.3 5-21.4 4.8l-22 7.9c-.2 1.6-1.3 3.1-3.4 4.5-5.9 3.8-17.4 4.7-25.6 1.9-3.6-1.2-6-3-7-4.8L2.5 38.4c2.3 3.6 6 6.9 10.8 9.8C5 53 0 59 0 65.5c0 6.4 4.8 12.3 12.9 17.1C4.8 87.3 0 93.2 0 99.6 0 115.3 28.6 128 64 128c35.3 0 64-12.7 64-28.4 0-6.4-4.8-12.3-12.9-17 8.1-4.8 12.9-10.7 12.9-17.1 0-6.5-5-12.6-13.4-17.4 8.3-5.1 13.3-11.4 13.3-18.2 0-16.5-28.7-29.9-64-29.9zm22.8 14.2c-5.2.1-10.2 1.2-13.4 3.3-5.5 3.6-3.8 8.5 3.8 11.1 7.6 2.6 18.1 1.8 23.6-1.8s3.8-8.5-3.8-11c-3.1-1-6.7-1.5-10.2-1.5zm.3 1.7c7.4 0 13.3 2.8 13.3 6.2 0 3.4-5.9 6.2-13.3 6.2s-13.3-2.8-13.3-6.2c0-3.4 5.9-6.2 13.3-6.2zM45.3 34.4c-1.6.1-3.1.2-4.6.4l9.1 1.7a10.8 5 0 1 1-8.1 9.3l-8.9-1.7c1 .9 2.4 1.7 4.3 2.4 6.4 2.2 15.4 1.5 20-1.5s3.2-7.2-3.2-9.3c-2.6-.9-5.7-1.3-8.6-1.3zM109 51v9.3c0 11-20.2 19.9-45 19.9-24.9 0-45-8.9-45-19.9v-9.2c11.5 5.3 27.4 8.6 44.9 8.6 17.6 0 33.6-3.3 45.2-8.7zm0 34.6v8.8c0 11-20.2 19.9-45 19.9-24.9 0-45-8.9-45-19.9v-8.8c11.6 5.1 27.4 8.2 45 8.2s33.5-3.1 45-8.2z\"></path></svg>\\n<h1>Checking if the site connection is secure…</h1>\\n<div class=\"muted-banner cf-error\"><div><p id=\"cf-spinner-please-wait\"></p><p id=\"cf-spinner-redirecting\" style=\"display:none\"></p></div><noscript><h1>Please turn JavaScript on and reload the page.</h1></noscript><div id=\"no-cookie-warning\" style=\"display:none\"><p>Please enable Cookies and reload the page.</p></div><form id=\"challenge-form\"></form><script>(function(){window._cf_chl_opt={cvId: \\'3\\',cZone: \"steamdb.info\",cType: \\'managed\\',cRay: \\'8dab06265f2a0499\\',cH: \\'uGoFpMnAkalk_UIeuhuQkm8ZjFaQOwqFi5zrRFIfkw8-1730287309-1.2.1.1-AXmu1_UBkP2JOHaLzokZhUlT_VSTwRF62efRj1xqS55.YsfqjlPvO1apQp5X9e.l\\',cUPMDTk: \"\\\\/search\\\\/?a=app&q=&type=1&category=2&__cf_chl_tk=gf1H5KMJzbVi7KT5BT4RJnnrW3iRpAz8mbO9Hfq6oAA-1730287309-1.0.1.1-E1we_KaYDHgnLgccQoKvRMSKGvadM2V9con27aG7XNQ\",cFPWv: \\'g\\',cITimeS: \\'1730287309\\',cTTimeMs: \\'1000\\',cMTimeMs: \\'390000\\',cTplC: 1,cTplV: 1,cTplB: \\'cf\\',cK: \"\",fa: \"\\\\/search\\\\/?a=app&q=&type=1&category=2&__cf_chl_f_tk=gf1H5KMJzbVi7KT5BT4RJnnrW3iRpAz8mbO9Hfq6oAA-1730287309-1.0.1.1-E1we_KaYDHgnLgccQoKvRMSKGvadM2V9con27aG7XNQ\",md: \"iztpM8WRrhsuCw4VDuLahlddOB64OwtY8DOfOLcDQb0-1730287309-1.2.1.1-7v.4C7n_aKGddFGQQj3t1JTx.m9wtddMDWbYGkYktv3XWxo4IRwD3qAgH05mkWFpxu2WkITApWK5B6lOvyoEapRNI7pOMCIun3N8Ug7SGQCbWBmDepNybe2xCg9U0BElFHkYbw_6nvEhyABxkLi18JuSkAOZrLkysWpocxcYqwWbpwceOXWvaFPuvtDCbhecTgups2HlFJpxL7AUmIwLRFJ7KXd2YN5HntAnL2hOr2ZJYyfWEXVJ7CA8Yp4qcLZTXnsIXldS9DYXYBuQFnA0ztMrcK2Ci84TBmxZlbui9SdEIMtwivWon82PfTb7adEA6_4NQGT8zN7m5tMnsXQi8G8FowvmMX2zqB7R5nNZWMzl54HIUPKonTiMMG4GuwBP57PUT230B_h0RprwgwjY3EE087SXU_iw1pGkjfAHktKMFSAoM.kit_IXc7xPgMR5RgtQTGms1ZFNhDZYPD2rcyGyjLiNP3FpjOpqncLUjOPOiAm6vt0EAMUyFi2VfU9bZYIU7qrYonBVmvC4UrSy_4qq2j1bSkrXjNazg7apmHtUR39vLx93AZVGGtxFo3Q6OyzNJEGyw_YttvXDfm7ID9h_Tr5J7GA.F0yJvxMzfcjqeLntXK7pFLTpZ.X.K7BFJ5JE6nCcypY7r_CoXJd52yD7LRwjj365dzrCrkSc6d1fftqQmgDBEKFNTIitAYQb0budw0Ihz3ckemKt2MxUACY3R1aZ5B8UsQJuuTwfUuufS7VHQKDzMcKI90dqer8ShzP7B4b4xAAt5fDBv3YFiKCcl4Ot.Kn2WNvQOrAbFLbAFihRVTuaHK8FhLYF1TkEd8IUS0il916uG8CJhy458nWieJGsWB_375uv.kzf6dkc9IeI82WldjAKo3QCFA3cjtrn6s5AUG24SnO21I2RdywGRwHfxZM0n3ExiEeZFIQr.KNWtHamk3vVBH8sYO175Uoxtmgeh1BGNawxP_yqUx4MOr0A7GuveEWfm3hB0bMQ0ZNwZPceDGoMs7_V0wtXNJnV_Q_FiL5NiLGun_Q3NrfJhHZnmj2NNiTOWNsKxRUQPBvfCUC2IlYQ77wjURDvbaDN7d4TW7ZdRa1k6QeiH5Uwl8yfBIYel5JhSQrjxf4optBsLTdXOdD4gJDRxoG1D1myn4AEekgh81fhFaFtztO7hFjwzcaNsHA.HG6TP74pzk6N1A8DtXSF3v1vGdB1p0SA1ClNcixZO5OMC.svjZZJwmcQj.aBaCgKSfTJwY0pvnTTRih9S.szoo_O_HZOikCa6w3pPjgx5cj6NZ2qmOXWKs0QnvN.w5D9ypX9zLkAFTroBXYVbC1isvNjnR59Fv0fpG_fmNXIe_C07Trz8TBCpa3n9q64IUP.0Qoshz2YDaDgIifyM7AqG6h2ZW9C4FEnAAyXdmiWjqPCz3laazsH9XHfbgz_ft8JZ6UafBseGPHfximNfN2rJJs8ue2uux9dRQQoZimTymz29NqbLhvyne9zr.1sPP6wxtBq.UyGDSaBhr9zWEYcjaMYqKftUx3KJ05qaoS7CaNZVCfJjAnhiZrrI0meN6aKW_1bTS8m5hWJVzceIL1heWClLeFZS3JnHiWg7voD_t93nDNcYgpchhOE5OGpZ.vQXcHdNVgPU2.C2xiGlRk8Y68Eh9MBwAyp6UIbgoyVUIbLvqaRr.pHClGrhQR71O72ehqt74n0EA6MbwS6x9QhWDIS8V8jfw6QDlhmlPxc6CVA67tSFaSyH3ocPsYvDHS9mWGc9NCRsc8WgY5C09cB31NA.hRp5fD_MwEp98aliq5TeUHbg3ovxf6XL9AM5apwQlubEKeK4WK1L8xghVG1C05bfH_ByxCd5DKSyoAxnpEvnsrV1LnBDerwsFIBINymvMIOFM76NQSQ2PdtMIjne3kbR0Y_FhMUPwS3E47PsdIcCX_gHiJqM6LgVnv6Gmks5JR3k2LxVODj_pccZehUJuKv.7EIDufnrUKxbbm_jb83._Bjf4oPHKLo69.23fojw3JalbC60SYNfilPt5oZHlS3bbFXcnDMorg9JQVu_FYtw6Lh2OAOV9a39FClpQdm5GFn_Dg_m0WlWRAuYrkfDIcyVQX0S36U19wg16gDwkM9rNo2Ob78DPT4EvCInGaA1fhzz9fsiF26L4aUnIWzvOmoxeXRyIaXeJX8n71PLeDBDNRqI8t2lOTi9jdRUEyZTQq_k4VxNhy8PIr.XeXf3xOrhNMTOJklzBCARCyy1zwhrDx4WGOFdy78jx5O3fQOCb50O71rcwXDjIQw3dhGv.MRG7tARV9xUHA3p5n5SA9eX1Uvqh5kq_SiCizlcsqpyducaYhciEBP5feQYNZbH5aGqxGyrsSxUhKUOXH_ic2ty0i.GGH1B1HjnmiUkN.z4Q9gA4llzKMcNZQ1.lJil.OVOaK4cEg0gEUtWQled2DHfYpNf_KsmLWVU09izJtKlcJj8VqK.gCG0BwVHOleKSBPnAXAVCSk0uW6al_ni0UBnki3YoSyXkv5QOH44vE4xySr0iv2zmL6MbnKUkfp0jV6jH69PMbC2.bEA6ptICWlOd2JloJ9cFOk3XZPtl8Jpok25b1pmHO05_eAiux7t59dfWV5IreeqsMBXBvq320JrhUw.cnrc1b8xnRUaq0N1GVp14_5siO42ErEjxnTiK7eDRJYp8yJ2q2qRCrf3.dEhKJ3pET.jyx6kxSducRnUGlJkf.EI4ykcxcEBNXXiNNy0cxHDdHBre7YF4MnGgF.x.0VBtpEyMbrL6ScqWgy23Zxc6eYnl0wgAUt_402NWcdbu8..f5lwmHkzTksqm99WQ8UrA\",mdrd: \"vV69QmuniZWDgPAlCQAoEw2m9HLuifhil9ISLMM.5nU-1730287309-1.2.1.1-W3q89_9qerszcDx1gOup3mLO7MiE.Tw33NCVMeiC0ziX9prf_8wwuv8z_a6C8pl4N.bsEKZI0yz1ZoujH_yxvXBqVshSCh8rm5GYD1mrL9S4OoEu2gpA2GPKfGY81yoeH_6DA7l15P3RWffrLQs8uyOAwnFXLrxumUHjVJt9QMf2IxELDi0nAP1K.5RMKNw4X0PMPZ8CdiwdVhW9PuJAYl_O1fSOWWZ3h7uoY.yoqEVf6.DMb1oBqP7CC9Va1CWlzYwGT9swxqFdt4sw5V9YQ5yEkhyw3W8kFYarrJRUIuYCIAH9uyAmRQR9Cb94pZaHndq.ubOnqeNgPXQXmQ0KhvjZripcGDEV3UnMw1mvzTppEewlASP6hDl_XViYQsHpqQooe0ZQK29LPwiP8dc_e3003p4r6BKspsf7vOXb8cBRmwB4VjXQnoopQD75U37INbwZ4BKtKyVeP7.4D6QSoey7i1ZloYWQuvAV2pGBWhEXo7NaRlf4kej4NeOe39zffpHo.fUzWFbbZIJX41iYsmrB68pQ6JdOY.hU2Ez33HMxRBwZioq0okICbaBH1_Evy2HCxdSrm.Ipro3X6vm3uRH7aBOA.3MwTJb9M6BR5s0BQ9L3gWd5hNTCDLY9bF.VDFgDxf5fTErS0HRD6Hh5VBYLwKwxuhgWtFTbCckcDk1fCnRkmu5x8b2aQM4rC7o8JnjpRDeU8d0ey.xbu3o_D9TXNXt4JzFlPRM8T20eHBtJhuDP9uMzJOF1JqJeRPLcrY4nGZRKisUPAO9J.mLf8xTgpCgkbYABd1jRi0oFkZxIzdVjj8ndw_i43a8EgLumuadCmt4cBptUagyacRP7eiY4u9uOsmX1L_qiXMTqqTEZG4ASNVjwxvqljV77Gul.VlykvTZ4LxCrCaOyhslVI6XI1duqq97i9_hs1ALhP_woV5CrK5zdhMcwkMh07gu7mt.uSBl81kG3yUclIeuQZS4xJc90AVPCqZezGW3i8m6v0iZ7bvZ.cl3HjyjAKJf8jb22uJwCM_UZi0BK7IDn._dBRnPp2pCs6Aq7ts_C28YxbVMN9x_p8d3hvH0vsWYraU75I._TwF4JWMfbr0d16.Nu.3yl0BT2l66.DwMpOUJFldYjWiul2UdL1ebWKDnnVoHJzGbH8VOfYpw5SMDuUOT8Ri0FTwtTNjlLePfnNejSzjHT13PQWL7hbt0Yi69Qj2ZjZt6PomuIFjrFZlj8vkh4LRvtFOikRhB1tgfM.v0yU_ok7O5a23gcWr2IrzZAJ3WAS2U2s9HiWm6P6Dmu0bZsm7mNXX0pRHv97xeAwBtktKxEnL0FmvUjkRqx0eM9fylMyP6pf4vHgJROngQEUzekhSHTfBXAUKicozn_4odHLNFMLOq9qKoz_NO6uY8VQCs3gfhAFlGGCApu6cRUcpHfvmGyz2YKD7lteL2XdfXQ8IJdh5W073aOWaCdzh0tkRNs9.ckKzo7Gbpscf_3x9ccGnJ9swIhU4h7R7QZtmTwt5.WyyayIWJLBebEroEr1_LKlO6LocoeaGNSASP74sQOeBeZtm43rCUkD3YWEeodd0E1vCIXH8BEUGvo63JLPDuVeBaz4DePIgCMsUiGmf2WU48Hh5jDQ1xnBbwjvMqBYOm0Mbop5kp1F5YWOhQudsVphRuL2hOuTd_OMeHXAfl_aXUyt18lSTQBHcSXlnseb8a.lsOPM4DQ08vdZIEbAWcAb5iyGqtIBNzgO.SywhfKrYUrDdZSVztc758GQj9PHX6XN490fksMBtfQ76XTzSzaPV8LcAL_viWekQrejVRFbPXY59K8xRMlLYuc3SuwyRdyd2CVtSz9s1KxjdjUD.EUJNuuufgPw_rKeo_6Rgy4Sm_pGnuIT_ht.mRe07S2YuTpsWoZljulQP4myGgEUbTXfHjbMgFLj_nXK4u7RWZKWRu3N.wFBiUmvpHf9_pXYQRrhYl5VVKiBT56Y3JwpsnsHMZy7J1MjB2vDf84dV.teGB7FS4N3sun_k2NY1UxSlmHkkYnDZeQSaJ2hWByZ7.9xRDE6drqU0D1i5eib.HA91UxDTEPTiKFDU57bFl8g6Dyj3FrwV0ad7Rm5P07RO0dzORZHXXITpY4RLBLogpEmi4.dLa1RuNQqtR7l9kNieE0gLgS.ppPrk45qmCU7wQXmv0n_xnqdmUarNxVLtCyF6fIXFA1vEcd90O3qRP9Vo03OuXZrb8cpe4r3UWW3izlqGu8P1l2NCEUqncKHjMySbnMCkavgdJmaorxZatAn1vSG0gwzew_Uv._kpFol2BML2rlgwlqfJ6EypeIc7BTeRb9pXhhO_Xj4xzjrrLUhyFkXsi1lpRMUvhYh2SIZFX6N1Tji2WQIagrqhljS.CsBO8x5G4CiUYCyTHO7n76WXsyOyxEfqN1FOsSoEw_j7hMZo0ZosJS_M14CjznNFl9OIvcjBPdg0_ivqu9ALXhE56t1Vk8IjjlSNILKUVgwtXDfnKcTXam4XuZZCvaNIrRT60BCecM79B8gEYYA1lpn_PrICGAFy5Os4yQ2t.QUNCPn0pZyDMp3c_ZVjdmuz9FV.jVRiCyB.1xAXkqnU_qvmtg6XTjqM.Q1p0OcFN6W.FiMnZp_NsUqyW.35KYT8ZyXbEruwbT5_6gmqsO.ikCIYWExbuSaNcLEGaYwCJ5ki8X4eKW9Luxy93xyTFAtzTbuJH5YXoxyXvbynT3qPReD131o98H8.tGYbRIMy5_BXjn2TxRcp5TmM5XyOrLBPcpDygV.4BDIBmNijIRpHUS0pG6zWzlQoS6vjgEpJfNAUGs1lclvrRdw7Q0O.Ln30exC_OVuQ9oWn4Pa0FpLmWx39PVfUJ169_b42DDGt_Xm3er3q6MUzdhrZN7VW7O2npERXkKYwUb.LlLiFSl7s0BrLwHffMM0S59UMx2OHbU2yhiXSeQczqFi4zBEar9VH2is2NMD.mJrIBozg6MY69n1SYB_hLdZcGm1C6mW_ONV16lzPHauojiY7yquw_BLdcLwBnuf..n6pzfn_W5TP7sX3cCPfAIJdsAoWRoc3oy7VK0xz67cavKbiAbOGDokHMVrMmyYEaPltcMFC0K36wuWsXC8rjxxWYwap8n6Avyn01gXwK2BxYxNzNwoa1Lrhzzd4OL4EFw9BYDl143PGM2PURmI8egiQj0VX3xvI6.ghU5hCiytGUf8j8pJRn0HRtnyytpyPswFo2GcRkvJ2yprGu3PK4PIPMhBQzRekVhVz3Dwu4WVJGQ11Zq0ixhnxxG3XaW7vF90gKudHD7J3sQZECka0Q6_K4kqAZ_gTIrFr2ESSoPrJ_NEOKQV86L5532KpOztGszS9YZyGUWeJ.fPUQ86Q0GpO1Wv9XvzUgSPHZMJjtmjYLg8nkyD42HP6uYelg65vE__yMRXyat64E\"};var cpo = document.createElement(\\'script\\');cpo.src = \\'/cdn-cgi/challenge-platform/h/g/orchestrate/chl_page/v1?ray=8dab06265f2a0499\\';window._cf_chl_opt.cOgUHash = location.hash === \\'\\' && location.href.indexOf(\\'#\\') !== -1 ? \\'#\\' : location.hash;window._cf_chl_opt.cOgUQuery = location.search === \\'\\' && location.href.slice(0, location.href.length - window._cf_chl_opt.cOgUHash.length).indexOf(\\'?\\') !== -1 ? \\'?\\' : location.search;if (window.history && window.history.replaceState) {var ogU = location.pathname + window._cf_chl_opt.cOgUQuery + window._cf_chl_opt.cOgUHash;history.replaceState(null, null, \"\\\\/search\\\\/?a=app&q=&type=1&category=2&__cf_chl_rt_tk=gf1H5KMJzbVi7KT5BT4RJnnrW3iRpAz8mbO9Hfq6oAA-1730287309-1.0.1.1-E1we_KaYDHgnLgccQoKvRMSKGvadM2V9con27aG7XNQ\" + window._cf_chl_opt.cOgUHash);cpo.onload = function() {history.replaceState(null, null, ogU);}}document.getElementsByTagName(\\'head\\')[0].appendChild(cpo);}());</script></div>\\n<div class=\"muted\">RAY: <b class=\"ray_id\">8dab06265f2a0499</b></div>\\n<div class=\"muted\" style=\"margin-top:100px\">\\n<p>If you are having issues passing this page:</p>\\n<ul>\\n<li>Make sure your browser is fully up to date.</li>\\n<li>Some extensions may cause issues.</li>\\n<li>Antivirus with browser protection may cause issues.</li>\\n<li>Try clearing cache and cookies.</li>\\n</ul>\\n<p>As a reminder, SteamDB is a hobby project that makes no money.</p>\\n</div>\\n</div>\\n<div hidden>\\n<div class=\"cf-error-title\"><span class=\"cf-code-label\"><span>Please verify you are a human</span></span></div>\\n<p>This is taking longer than expected</p>\\n</div>\\n<script defer integrity=\"sha512-euoFGowhlaLqXsPWQ48qSkBSCFs3DPRyiwVu3FjR96cMPx+Fr+gpWRhIafcHwqwCqWS42RZhIudOvEI+Ckf6MA==\" data-cf-beacon=\\'{\"rayId\":\"859a717c03c6c4d7\",\"b\":1,\"version\":\"2024.2.1\",\"token\":\"91efbe05a59742ddadf5d555608bbe98\"}\\' crossorigin=\"anonymous\">!function(){var e={343:function(e){\"use strict\";for(var t=[],n=0;n<256;++n)t[n]=(n+256).toString(16).substr(1);e.exports=function(e,n){var r=n||0,i=t;return[i[e[r++]],i[e[r++]],i[e[r++]],i[e[r++]],\"-\",i[e[r++]],i[e[r++]],\"-\",i[e[r++]],i[e[r++]],\"-\",i[e[r++]],i[e[r++]],\"-\",i[e[r++]],i[e[r++]],i[e[r++]],i[e[r++]],i[e[r++]],i[e[r++]]].join(\"\")}},944:function(e){\"use strict\";var t=\"undefined\"!=typeof crypto&&crypto.getRandomValues&&crypto.getRandomValues.bind(crypto)||\"undefined\"!=typeof msCrypto&&\"function\"==typeof window.msCrypto.getRandomValues&&msCrypto.getRandomValues.bind(msCrypto);if(t){var n=new Uint8Array(16);e.exports=function(){return t(n),n}}else{var r=new Array(16);e.exports=function(){for(var e,t=0;t<16;t++)0==(3&t)&&(e=4294967296*Math.random()),r[t]=e>>>((3&t)<<3)&255;return r}}},508:function(e,t,n){\"use strict\";var r=n(944),i=n(343);e.exports=function(e,t,n){var o=t&&n||0;\"string\"==typeof e&&(t=\"binary\"===e?new Array(16):null,e=null);var a=(e=e||{}).random||(e.rng||r)();if(a[6]=15&a[6]|64,a[8]=63&a[8]|128,t)for(var c=0;c<16;++c)t[o+c]=a[c];return t||i(a)}},168:function(e,t,n){\"use strict\";var r=this&&this.__assign||function(){return r=Object.assign||function(e){for(var t,n=1,r=arguments.length;n<r;n++)for(var i in t=arguments[n])Object.prototype.hasOwnProperty.call(t,i)&&(e[i]=t[i]);return e},r.apply(this,arguments)};t.__esModule=!0;var i=n(699),o=n(752),a=n(104),c=n(508);!function(){function e(e){var t=\"\";if(t=window.location.origin?window.location.origin:\"\".concat(window.location.protocol,\"://\").concat(window.location.host),e&&\"string\"==typeof e)if(0===e.indexOf(\"/\"))t+=e;else try{var n=new URL(e);return\"\".concat(n.protocol,\"://\").concat(n.host).concat(n.pathname)}catch(e){}else{var r=window.location.pathname;r&&r.length>0&&(t+=r)}return t}function t(e){return null==e?void 0:Math.round(1e3*e)/1e3}function n(e,t){for(var n in e){var r=e[n];void 0!==t&&(\"number\"==typeof r||\"string\"==typeof r?t[n]=r:Array.isArray(r)&&(t[n]=JSON.parse(JSON.stringify(r))))}}!function(){var u,s,f=window.performance||window.webkitPerformance||window.msPerformance||window.mozPerformance,d=\"data-cf-beacon\",l=document.currentScript||(\"function\"==typeof document.querySelector?document.querySelector(\"script[\".concat(d,\"]\")):void 0),v=c(),p=[],m=window.__cfBeacon?window.__cfBeacon:{};if(!m||\"single\"!==m.load){if(l){var g=l.getAttribute(d);if(g)try{m=r(r({},m),JSON.parse(g))}catch(e){}else{var y=l.getAttribute(\"src\");if(y&&\"function\"==typeof URLSearchParams){var h=new URLSearchParams(y.replace(/^[^\\\\?]+\\\\??/,\"\")),T=h.get(\"token\");T&&(m.token=T);var w=h.get(\"spa\");m.spa=null===w||\"true\"===w}}m&&\"multi\"!==m.load&&(m.load=\"single\"),window.__cfBeacon=m}if(f&&m&&m.token){var S,E=!1;document.addEventListener(\"visibilitychange\",(function(){if(\"hidden\"===document.visibilityState){if(L&&A()){var t=e();(null==S?void 0:S.url)==t&&(null==S?void 0:S.triggered)||P(),O(t)}!E&&S&&(E=!0,R())}else\"visible\"===document.visibilityState&&(new Date).getTime()}));var b={};\"function\"==typeof PerformanceObserver&&((0,a.onLCP)(_),(0,a.onFID)(_),(0,a.onFCP)(_),(0,a.onINP)(_),(0,a.onTTFB)(_),PerformanceObserver.supportedEntryTypes&&PerformanceObserver.supportedEntryTypes.includes(\"layout-shift\")&&(0,a.onCLS)(_));var L=m&&(void 0===m.spa||!0===m.spa),C=m.send&&m.send.to?m.send.to:void 0===m.version?\"https://cloudflareinsights.com/cdn-cgi/rum\":null,P=function(r){var a=function(e,t){c.resources=e,0!=t&&(c.bypassTiming=!0),m&&(1===m.r&&(c.resources=[]),(0,o.sendObjectBeacon)(\"\",c,(function(){}),!1,C),void 0!==m.forward&&void 0!==m.forward.url&&(0,o.sendObjectBeacon)(\"\",c,(function(){}),!1,m.forward.url))},c=function(r){var o,a,c,s=f.timing,d=f.memory,l=r||e(),g={memory:{},timings:{},resources:[],tempResources:[],referrer:(a=document.referrer||\"\",c=p[p.length-1],L&&S&&c?c.url:a),eventType:i.EventType.Load,firstPaint:0,firstContentfulPaint:0,startTime:x(),versions:{fl:m?m.version:\"\",js:\"2023.10.0\",timings:1},pageloadId:v,location:l};if(null==u){if(\"function\"==typeof f.getEntriesByType){var y=f.getEntriesByType(\"navigation\");y&&Array.isArray(y)&&y.length>0&&(g.timingsV2={},g.versions.timings=2,delete g.timings,n(y[0],g.timingsV2))}1===g.versions.timings&&n(s,g.timings),n(d,g.memory)}else k(g);if(g.firstPaint=M(\"first-paint\"),g.firstContentfulPaint=M(\"first-contentful-paint\"),m&&(m.icTag&&(g.icTag=m.icTag),N(g,m.abtestTags),g.siteToken=m.token),\"function\"==typeof f.getEntriesByType){var h=null!==(o=f.getEntriesByType(\"resource\"))&&void 0!==o?o:[],T=0,w=0;h.forEach((function(e){var n={n:e.name,s:t(e.startTime),d:t(e.duration),i:e.initiatorType,p:e.nextHopProtocol,rs:t(e.redirectStart),re:t(e.redirectEnd),fs:t(e.fetchStart),ds:t(e.domainLookupStart),de:t(e.domainLookupEnd),cs:t(e.connectStart),ce:t(e.connectEnd),qs:t(e.requestStart),ps:t(e.responseStart),pe:t(e.responseEnd),ws:t(e.workerStart),ss:t(e.secureConnectionStart),ts:e.transferSize,ec:e.encodedBodySize,dc:e.decodedBodySize};g.tempResources&&void 0===g.tempResources[w]&&(g.tempResources[w]=[]);var r=JSON.stringify(n).length;T+r<62e3&&g.tempResources?(T+=r,g.tempResources[w].push(n)):(w++,T=0)}))}return JSON.stringify(g).length>=64e3&&(g.resources=[]),void 0!==u&&(delete g.timings,delete g.memory),g}(r);if(c&&m){var s=c.tempResources;if(delete c.tempResources,L&&s&&0===s.length&&a([],0),!s)return;s.forEach((function(e,t){a(e,t)}))}},R=function(){var t=function(){var t=f.getEntriesByType(\"navigation\")[0],n=\"\";try{n=\"function\"==typeof f.getEntriesByType?new URL(null==t?void 0:t.name).pathname:s?new URL(s).pathname:window.location.pathname}catch(e){}var r={referrer:document.referrer||\"\",eventType:i.EventType.WebVitalsV2,versions:{js:\"2023.10.0\"},pageloadId:v,location:e(),landingPath:n,startTime:x()};return m&&(m.version&&(r.versions.fl=m.version),m.icTag&&(r.icTag=m.icTag),N(r,m.abtestTags),r.siteToken=m.token),b&&[\"lcp\",\"fid\",\"cls\",\"fcp\",\"ttfb\",\"inp\"].forEach((function(e){r[e]={value:-1,path:void 0},b[e]&&void 0!==b[e].value&&(r[e]=b[e])})),k(r),r}();L||(t.resources=[],delete t.tempResources),m&&(0,o.sendObjectBeacon)(\"\",t,(function(){}),!0,C)},B=function(){var t=window.__cfRl&&window.__cfRl.done||window.__cfQR&&window.__cfQR.done;t?t.then(P):P(),S={id:v,url:e(),ts:(new Date).getTime(),triggered:!0}};\"complete\"===window.document.readyState?B():window.addEventListener(\"load\",(function(){window.setTimeout(B)}));var A=function(){return L&&0===p.filter((function(e){return e.id===v})).length},O=function(e){p.push({id:v,url:e,ts:(new Date).getTime()}),p.length>3&&p.shift()};L&&(s=e(),function(t){var n=t.pushState;if(n){var r=function(){v=c(),\"function\"==typeof f.clearResourceTimings&&f.clearResourceTimings()};t.pushState=function(i,o,a){u=e(a);var c=e(),s=!0;return u==c&&(s=!1),s&&(A()&&((null==S?void 0:S.url)==c&&(null==S?void 0:S.triggered)||P(c),O(c)),r()),n.apply(t,[i,o,a])},window.addEventListener(\"popstate\",(function(t){A()&&((null==S?void 0:S.url)==u&&(null==S?void 0:S.triggered)||P(u),O(u)),u=e(),r()}))}}(window.history))}}function _(e){var t,n,r,i,o,a,c,u=window.location.pathname;switch(\"INP\"!==e.name&&(b[e.name.toLowerCase()]={value:e.value,path:u}),e.name){case\"CLS\":(c=e.attribution)&&b.cls&&(b.cls.element=c.largestShiftTarget,b.cls.currentRect=null===(t=c.largestShiftSource)||void 0===t?void 0:t.currentRect,b.cls.previousRect=null===(n=c.largestShiftSource)||void 0===n?void 0:n.previousRect);break;case\"FID\":(c=e.attribution)&&b.fid&&(b.fid.element=c.eventTarget,b.fid.name=c.eventType);break;case\"LCP\":(c=e.attribution)&&b.lcp&&(b.lcp.element=c.element,b.lcp.size=null===(r=c.lcpEntry)||void 0===r?void 0:r.size,b.lcp.url=c.url,b.lcp.rld=c.resourceLoadDelay,b.lcp.rlt=c.resourceLoadTime,b.lcp.erd=c.elementRenderDelay,b.lcp.it=null===(i=c.lcpResourceEntry)||void 0===i?void 0:i.initiatorType,b.lcp.fp=null===(a=null===(o=c.lcpEntry)||void 0===o?void 0:o.element)||void 0===a?void 0:a.getAttribute(\"fetchpriority\"));break;case\"INP\":(null==b.inp||Number(b.inp.value)<Number(e.value))&&(b.inp={value:Number(e.value),path:u},(c=e.attribution)&&b.inp&&(b.inp.element=c.eventTarget,b.inp.name=c.eventType))}}function x(){return f.timeOrigin}function k(e){if(\"function\"==typeof f.getEntriesByType){var t=f.getEntriesByType(\"navigation\"),r={};e.timingsV2={},t&&t[0]&&t[0].nextHopProtocol&&(r.nextHopProtocol=t[0].nextHopProtocol),n(r,e.timingsV2)}}function M(e){var t;if(\"first-contentful-paint\"===e&&b.fcp&&b.fcp.value)return b.fcp.value;if(\"function\"==typeof f.getEntriesByType){var n=null===(t=f.getEntriesByType(\"paint\"))||void 0===t?void 0:t.filter((function(t){return t.name===e}))[0];return n?n.startTime:0}return 0}function N(e,t){t&&(e.abtestTags=t)}}()}()},752:function(e,t){\"use strict\";t.__esModule=!0,t.sendObjectBeacon=void 0,t.sendObjectBeacon=function(e,t,n,r,i){void 0===r&&(r=!1),void 0===i&&(i=null);var o=i||(t.siteToken&&t.versions.fl?\"/cdn-cgi/rum?\".concat(e):\"/cdn-cgi/beacon/performance?\".concat(e)),a=!0;if(navigator&&\"string\"==typeof navigator.userAgent)try{var c=navigator.userAgent.match(/Chrome\\\\/([0-9]+)/);c&&c[0].toLowerCase().indexOf(\"chrome\")>-1&&parseInt(c[1])<81&&(a=!1)}catch(e){}if(navigator&&\"function\"==typeof navigator.sendBeacon&&a&&r){t.st=1;var u=JSON.stringify(t),s=navigator.sendBeacon&&navigator.sendBeacon.bind(navigator);null==s||s(o,new Blob([u],{type:\"application/json\"}))}else{t.st=2,u=JSON.stringify(t);var f=new XMLHttpRequest;n&&(f.onreadystatechange=function(){4==this.readyState&&204==this.status&&n()}),f.open(\"POST\",o,!0),f.setRequestHeader(\"content-type\",\"application/json\"),f.send(u)}}},699:function(e,t){\"use strict\";var n,r;t.__esModule=!0,t.FetchPriority=t.EventType=void 0,(r=t.EventType||(t.EventType={}))[r.Load=1]=\"Load\",r[r.Additional=2]=\"Additional\",r[r.WebVitalsV2=3]=\"WebVitalsV2\",(n=t.FetchPriority||(t.FetchPriority={})).High=\"high\",n.Low=\"low\",n.Auto=\"auto\"},104:function(e,t){!function(e){\"use strict\";var t,n,r,i,o,a=function(){return window.performance&&performance.getEntriesByType&&performance.getEntriesByType(\"navigation\")[0]},c=function(e){if(\"loading\"===document.readyState)return\"loading\";var t=a();if(t){if(e<t.domInteractive)return\"loading\";if(0===t.domContentLoadedEventStart||e<t.domContentLoadedEventStart)return\"dom-interactive\";if(0===t.domComplete||e<t.domComplete)return\"dom-content-loaded\"}return\"complete\"},u=function(e){var t=e.nodeName;return 1===e.nodeType?t.toLowerCase():t.toUpperCase().replace(/^#/,\"\")},s=function(e,t){var n=\"\";try{for(;e&&9!==e.nodeType;){var r=e,i=r.id?\"#\"+r.id:u(r)+(r.className&&r.className.length?\".\"+r.className.replace(/\\\\s+/g,\".\"):\"\");if(n.length+i.length>(t||100)-1)return n||i;if(n=n?i+\">\"+n:i,r.id)break;e=r.parentNode}}catch(e){}return n},f=-1,d=function(){return f},l=function(e){addEventListener(\"pageshow\",(function(t){t.persisted&&(f=t.timeStamp,e(t))}),!0)},v=function(){var e=a();return e&&e.activationStart||0},p=function(e,t){var n=a(),r=\"navigate\";return d()>=0?r=\"back-forward-cache\":n&&(r=document.prerendering||v()>0?\"prerender\":document.wasDiscarded?\"restore\":n.type.replace(/_/g,\"-\")),{name:e,value:void 0===t?-1:t,rating:\"good\",delta:0,entries:[],id:\"v3-\".concat(Date.now(),\"-\").concat(Math.floor(8999999999999*Math.random())+1e12),navigationType:r}},m=function(e,t,n){try{if(PerformanceObserver.supportedEntryTypes.includes(e)){var r=new PerformanceObserver((function(e){Promise.resolve().then((function(){t(e.getEntries())}))}));return r.observe(Object.assign({type:e,buffered:!0},n||{})),r}}catch(e){}},g=function(e,t,n,r){var i,o;return function(a){t.value>=0&&(a||r)&&((o=t.value-(i||0))||void 0===i)&&(i=t.value,t.delta=o,t.rating=function(e,t){return e>t[1]?\"poor\":e>t[0]?\"needs-improvement\":\"good\"}(t.value,n),e(t))}},y=function(e){requestAnimationFrame((function(){return requestAnimationFrame((function(){return e()}))}))},h=function(e){var t=function(t){\"pagehide\"!==t.type&&\"hidden\"!==document.visibilityState||e(t)};addEventListener(\"visibilitychange\",t,!0),addEventListener(\"pagehide\",t,!0)},T=function(e){var t=!1;return function(n){t||(e(n),t=!0)}},w=-1,S=function(){return\"hidden\"!==document.visibilityState||document.prerendering?1/0:0},E=function(e){\"hidden\"===document.visibilityState&&w>-1&&(w=\"visibilitychange\"===e.type?e.timeStamp:0,L())},b=function(){addEventListener(\"visibilitychange\",E,!0),addEventListener(\"prerenderingchange\",E,!0)},L=function(){removeEventListener(\"visibilitychange\",E,!0),removeEventListener(\"prerenderingchange\",E,!0)},C=function(){return w<0&&(w=S(),b(),l((function(){setTimeout((function(){w=S(),b()}),0)}))),{get firstHiddenTime(){return w}}},P=function(e){document.prerendering?addEventListener(\"prerenderingchange\",(function(){return e()}),!0):e()},R=function(e,t){t=t||{},P((function(){var n,r=[1800,3e3],i=C(),o=p(\"FCP\"),a=m(\"paint\",(function(e){e.forEach((function(e){\"first-contentful-paint\"===e.name&&(a.disconnect(),e.startTime<i.firstHiddenTime&&(o.value=Math.max(e.startTime-v(),0),o.entries.push(e),n(!0)))}))}));a&&(n=g(e,o,r,t.reportAllChanges),l((function(i){o=p(\"FCP\"),n=g(e,o,r,t.reportAllChanges),y((function(){o.value=performance.now()-i.timeStamp,n(!0)}))})))}))},B={passive:!0,capture:!0},A=new Date,O=function(e,i){t||(t=i,n=e,r=new Date,k(removeEventListener),_())},_=function(){if(n>=0&&n<r-A){var e={entryType:\"first-input\",name:t.type,target:t.target,cancelable:t.cancelable,startTime:t.timeStamp,processingStart:t.timeStamp+n};i.forEach((function(t){t(e)})),i=[]}},x=function(e){if(e.cancelable){var t=(e.timeStamp>1e12?new Date:performance.now())-e.timeStamp;\"pointerdown\"==e.type?function(e,t){var n=function(){O(e,t),i()},r=function(){i()},i=function(){removeEventListener(\"pointerup\",n,B),removeEventListener(\"pointercancel\",r,B)};addEventListener(\"pointerup\",n,B),addEventListener(\"pointercancel\",r,B)}(t,e):O(t,e)}},k=function(e){[\"mousedown\",\"keydown\",\"touchstart\",\"pointerdown\"].forEach((function(t){return e(t,x,B)}))},M=function(e,r){r=r||{},P((function(){var o,a=[100,300],c=C(),u=p(\"FID\"),s=function(e){e.startTime<c.firstHiddenTime&&(u.value=e.processingStart-e.startTime,u.entries.push(e),o(!0))},f=function(e){e.forEach(s)},d=m(\"first-input\",f);o=g(e,u,a,r.reportAllChanges),d&&h(T((function(){f(d.takeRecords()),d.disconnect()}))),d&&l((function(){var c;u=p(\"FID\"),o=g(e,u,a,r.reportAllChanges),i=[],n=-1,t=null,k(addEventListener),c=s,i.push(c),_()}))}))},N=0,F=1/0,I=0,D=function(e){e.forEach((function(e){e.interactionId&&(F=Math.min(F,e.interactionId),I=Math.max(I,e.interactionId),N=I?(I-F)/7+1:0)}))},V=function(){return o?N:performance.interactionCount||0},j=function(){\"interactionCount\"in performance||o||(o=m(\"event\",D,{type:\"event\",buffered:!0,durationThreshold:0}))},q=0,H=function(){return V()-q},J=[],U={},z=function(e){var t=J[J.length-1],n=U[e.interactionId];if(n||J.length<10||e.duration>t.latency){if(n)n.entries.push(e),n.latency=Math.max(n.latency,e.duration);else{var r={id:e.interactionId,latency:e.duration,entries:[e]};U[r.id]=r,J.push(r)}J.sort((function(e,t){return t.latency-e.latency})),J.splice(10).forEach((function(e){delete U[e.id]}))}},W={},Q=function e(t){document.prerendering?P((function(){return e(t)})):\"complete\"!==document.readyState?addEventListener(\"load\",(function(){return e(t)}),!0):setTimeout(t,0)},X=function(e,t){t=t||{};var n=[800,1800],r=p(\"TTFB\"),i=g(e,r,n,t.reportAllChanges);Q((function(){var o=a();if(o){var c=o.responseStart;if(c<=0||c>performance.now())return;r.value=Math.max(c-v(),0),r.entries=[o],i(!0),l((function(){r=p(\"TTFB\",0),(i=g(e,r,n,t.reportAllChanges))(!0)}))}}))};e.onCLS=function(e,t){!function(e,t){t=t||{},R(T((function(){var n,r=[.1,.25],i=p(\"CLS\",0),o=0,a=[],c=function(e){e.forEach((function(e){if(!e.hadRecentInput){var t=a[0],n=a[a.length-1];o&&e.startTime-n.startTime<1e3&&e.startTime-t.startTime<5e3?(o+=e.value,a.push(e)):(o=e.value,a=[e])}})),o>i.value&&(i.value=o,i.entries=a,n())},u=m(\"layout-shift\",c);u&&(n=g(e,i,r,t.reportAllChanges),h((function(){c(u.takeRecords()),n(!0)})),l((function(){o=0,i=p(\"CLS\",0),n=g(e,i,r,t.reportAllChanges),y((function(){return n()}))})),setTimeout(n,0))})))}((function(t){!function(e){if(e.entries.length){var t=e.entries.reduce((function(e,t){return e&&e.value>t.value?e:t}));if(t&&t.sources&&t.sources.length){var n=(r=t.sources).find((function(e){return e.node&&1===e.node.nodeType}))||r[0];if(n)return void(e.attribution={largestShiftTarget:s(n.node),largestShiftTime:t.startTime,largestShiftValue:t.value,largestShiftSource:n,largestShiftEntry:t,loadState:c(t.startTime)})}}var r;e.attribution={}}(t),e(t)}),t)},e.onFCP=function(e,t){R((function(t){!function(e){if(e.entries.length){var t=a(),n=e.entries[e.entries.length-1];if(t){var r=t.activationStart||0,i=Math.max(0,t.responseStart-r);return void(e.attribution={timeToFirstByte:i,firstByteToFCP:e.value-i,loadState:c(e.entries[0].startTime),navigationEntry:t,fcpEntry:n})}}e.attribution={timeToFirstByte:0,firstByteToFCP:e.value,loadState:c(d())}}(t),e(t)}),t)},e.onFID=function(e,t){M((function(t){!function(e){var t=e.entries[0];e.attribution={eventTarget:s(t.target),eventType:t.name,eventTime:t.startTime,eventEntry:t,loadState:c(t.startTime)}}(t),e(t)}),t)},e.onINP=function(e,t){!function(e,t){t=t||{},P((function(){var n=[200,500];j();var r,i=p(\"INP\"),o=function(e){e.forEach((function(e){e.interactionId&&z(e),\"first-input\"===e.entryType&&!J.some((function(t){return t.entries.some((function(t){return e.duration===t.duration&&e.startTime===t.startTime}))}))&&z(e)}));var t,n=(t=Math.min(J.length-1,Math.floor(H()/50)),J[t]);n&&n.latency!==i.value&&(i.value=n.latency,i.entries=n.entries,r())},a=m(\"event\",o,{durationThreshold:t.durationThreshold||40});r=g(e,i,n,t.reportAllChanges),a&&(a.observe({type:\"first-input\",buffered:!0}),h((function(){o(a.takeRecords()),i.value<0&&H()>0&&(i.value=0,i.entries=[]),r(!0)})),l((function(){J=[],q=V(),i=p(\"INP\"),r=g(e,i,n,t.reportAllChanges)})))}))}((function(t){!function(e){if(e.entries.length){var t=e.entries.sort((function(e,t){return t.duration-e.duration||t.processingEnd-t.processingStart-(e.processingEnd-e.processingStart)}))[0];e.attribution={eventTarget:s(t.target),eventType:t.name,eventTime:t.startTime,eventEntry:t,loadState:c(t.startTime)}}else e.attribution={}}(t),e(t)}),t)},e.onLCP=function(e,t){!function(e,t){t=t||{},P((function(){var n,r=[2500,4e3],i=C(),o=p(\"LCP\"),a=function(e){var t=e[e.length-1];if(t){var r=Math.max(t.startTime-v(),0);r<i.firstHiddenTime&&(o.value=r,o.entries=[t],n())}},c=m(\"largest-contentful-paint\",a);if(c){n=g(e,o,r,t.reportAllChanges);var u=T((function(){W[o.id]||(a(c.takeRecords()),c.disconnect(),W[o.id]=!0,n(!0))}));[\"keydown\",\"click\"].forEach((function(e){addEventListener(e,u,!0)})),h(u),l((function(i){o=p(\"LCP\"),n=g(e,o,r,t.reportAllChanges),y((function(){o.value=performance.now()-i.timeStamp,W[o.id]=!0,n(!0)}))}))}}))}((function(t){!function(e){if(e.entries.length){var t=a();if(t){var n=t.activationStart||0,r=e.entries[e.entries.length-1],i=r.url&&performance.getEntriesByType(\"resource\").filter((function(e){return e.name===r.url}))[0],o=Math.max(0,t.responseStart-n),c=Math.max(o,i?(i.requestStart||i.startTime)-n:0),u=Math.max(c,i?i.responseEnd-n:0),f=Math.max(u,r?r.startTime-n:0),d={element:s(r.element),timeToFirstByte:o,resourceLoadDelay:c-o,resourceLoadTime:u-c,elementRenderDelay:f-u,navigationEntry:t,lcpEntry:r};return r.url&&(d.url=r.url),i&&(d.lcpResourceEntry=i),void(e.attribution=d)}}e.attribution={timeToFirstByte:0,resourceLoadDelay:0,resourceLoadTime:0,elementRenderDelay:e.value}}(t),e(t)}),t)},e.onTTFB=function(e,t){X((function(t){!function(e){if(e.entries.length){var t=e.entries[0],n=t.activationStart||0,r=Math.max(t.domainLookupStart-n,0),i=Math.max(t.connectStart-n,0),o=Math.max(t.requestStart-n,0);e.attribution={waitingTime:r,dnsTime:i-r,connectionTime:o-i,requestTime:e.value-o,navigationEntry:t}}else e.attribution={waitingTime:0,dnsTime:0,connectionTime:0,requestTime:0}}(t),e(t)}),t)},Object.defineProperty(e,\"__esModule\",{value:!0})}(t)}},t={};!function n(r){var i=t[r];if(void 0!==i)return i.exports;var o=t[r]={exports:{}};return e[r].call(o.exports,o,o.exports,n),o.exports}(168)}();</script>\\n<script defer src=\"https://static.cloudflareinsights.com/beacon.min.js/vcd15cbe7772f49c399c6a5babf22c1241717689176015\" integrity=\"sha512-ZpsOmlRQV6y907TI0dKBHq9Md29nnaEIPlkf84rnaERnq6zvWvPUqr2ft8M1aS28oN72PdrCzSjY4U6VaAw1EQ==\" data-cf-beacon=\\'{\"rayId\":\"8dab06265f2a0499\",\"serverTiming\":{\"name\":{\"cfExtPri\":true,\"cfL4\":true,\"cfSpeedBrain\":true,\"cfCacheStatus\":true}},\"version\":\"2024.10.4\",\"token\":\"91efbe05a59742ddadf5d555608bbe98\"}\\' crossorigin=\"anonymous\"></script>\\n</body>\\n</html>\\n'"
      ]
     },
     "execution_count": 3,
     "metadata": {},
     "output_type": "execute_result"
    }
   ],
   "source": [
    "response.text"
   ]
  },
  {
   "cell_type": "code",
   "execution_count": 9,
   "id": "2354bb62-afda-48e0-93c5-dc727f5f6ad0",
   "metadata": {
    "tags": []
   },
   "outputs": [],
   "source": [
    "html = response.text\n",
    "item_id = []\n",
    "base_save_path = r'C:\\Users\\11435\\Desktop\\clutter\\research\\data\\roommate\\game'\n",
    "\n",
    "# 使用BeautifulSoup解析HTML\n",
    "soup = BeautifulSoup(html, 'html.parser')\n",
    "\n",
    "# 提取所有class为\"app\"的tr标签\n",
    "tbody = soup.find('tbody')\n",
    "# 检查是否找到了tbody标签\n",
    "if tbody:\n",
    "    # 在tbody内找到所有class为\"app\"的tr标签\n",
    "    tr_tags = tbody.find_all('tr', class_=\"app\")\n",
    "    \n",
    "    # 循环遍历所有找到的tr标签\n",
    "    for tr_tag in tr_tags:\n",
    "        # 提取每个tr标签的data-appid属性\n",
    "        if 'data-appid' in tr_tag.attrs:\n",
    "            data_appid = tr_tag['data-appid']\n",
    "            item_id.append(data_appid)\n",
    "        else:\n",
    "            print(f\"某个tr标签没有data-appid属性\")\n",
    "            \n",
    "# 将列表存储到pickle文件\n",
    "with open('\\\\'.join([base_save_path, 'item_id.pkl']), 'wb') as f:\n",
    "    pickle.dump(item_id, f)"
   ]
  },
  {
   "cell_type": "markdown",
   "id": "57aab507-27c5-4b30-9a83-6ba61eef7ed8",
   "metadata": {},
   "source": [
    "# 根据基础页面的id，对页面内的数据进行爬取"
   ]
  },
  {
   "cell_type": "code",
   "execution_count": 43,
   "id": "73101e5f-34c7-4b98-a0fa-e40b46d52eac",
   "metadata": {
    "tags": []
   },
   "outputs": [],
   "source": [
    "\n",
    "item_info_dict_list = []\n",
    "for idx,id in enumerate(item_id):\n",
    "    if idx == 3:\n",
    "        break\n",
    "    item_url = f'https://steamdb.info/app/{id}/info/'\n",
    "    item_html = requests.get(item_url, headers=headers, cookies=cookies, params=params).text\n",
    "    item_soup = BeautifulSoup(item_html, 'html.parser')\n",
    "\n",
    "    item_info_dict = {}\n",
    "\n",
    "    # title\n",
    "    item_info_dict['game_name'] = item_soup.find('h1').get_text(strip=True)\n",
    "\n",
    "    # infos\n",
    "    item_info = item_soup.find('tbody')\n",
    "    item_trs = item_info.find_all('tr')\n",
    "    for tr in item_trs:\n",
    "        td = tr.find_all('td')\n",
    "        key = td[0].get_text(strip=True)\n",
    "        value = td[1].get_text(strip=True)\n",
    "        item_info_dict[key] = value\n",
    "\n",
    "    # metadata\n",
    "    meta = item_soup.find('h2', string='Additional Information').find_next('table')\n",
    "    meta_trs = meta.find('tbody').find_all('tr', recursive=False)\n",
    "    for tr in meta_trs:\n",
    "        td = tr.find_all('td')\n",
    "        key = td[0].get_text(strip=True)\n",
    "        value = td[1].get_text(strip=True)\n",
    "        item_info_dict[key] = value\n",
    "        \n",
    "    item_info_dict_list.append(item_info_dict)\n",
    "    \n",
    "file_path = '\\\\'.join([base_save_path, 'game_item_info.json'])\n",
    "with open(file_path, 'w', encoding='utf-8') as f:\n",
    "    json.dump(item_info_dict_list, f, ensure_ascii=False, indent=4)"
   ]
  },
  {
   "cell_type": "code",
   "execution_count": 22,
   "id": "e6704e13-8d3b-4e67-bc38-fbb0668f7e6a",
   "metadata": {
    "tags": []
   },
   "outputs": [],
   "source": [
    "item_url = f'https://steamdb.info/app/70/info/'\n",
    "item_html = requests.get(item_url, headers=headers, cookies=cookies, params=params).text\n",
    "item_soup = BeautifulSoup(item_html, 'html.parser')\n",
    "\n",
    "item_info_dict = {}\n",
    "\n",
    "# title\n",
    "item_info_dict['game_name'] = item_soup.find('h1').get_text(strip=True)\n",
    "\n",
    "# infos\n",
    "item_info = item_soup.find('tbody')\n",
    "item_trs = item_info.find_all('tr')\n",
    "for tr in item_trs:\n",
    "    td = tr.find_all('td')\n",
    "    key = td[0].get_text(strip=True)\n",
    "    value = td[1].get_text(strip=True)\n",
    "    item_info_dict[key] = value\n",
    "    \n",
    "# metadata\n",
    "meta = item_soup.find('h2', string='Additional Information').find_next('table')\n",
    "meta_trs = meta.find('tbody').find_all('tr', recursive=False)\n",
    "for tr in meta_trs:\n",
    "    td = tr.find_all('td')\n",
    "    key = td[0].get_text(strip=True)\n",
    "    value = td[1].get_text(strip=True)\n",
    "    item_info_dict[key] = value"
   ]
  },
  {
   "cell_type": "code",
   "execution_count": 39,
   "id": "5e5e5f55-ad61-4c80-a46f-a8eb38566a08",
   "metadata": {
    "tags": []
   },
   "outputs": [],
   "source": [
    "# metadata\n",
    "meta = item_soup.find('h2', string='Additional Information').find_next('table')\n",
    "meta_trs = meta.find('tbody').find_all('tr', recursive=False)\n",
    "for tr in meta_trs:\n",
    "    td = tr.find_all('td')\n",
    "    key = td[0].get_text(strip=True)\n",
    "    value = td[1].get_text(strip=True)\n",
    "    item_info_dict[key] = value"
   ]
  },
  {
   "cell_type": "code",
   "execution_count": 44,
   "id": "8ecff227-7b17-4e2e-93cb-825d077c0f70",
   "metadata": {
    "tags": []
   },
   "outputs": [
    {
     "data": {
      "text/plain": [
       "[{'game_name': 'Half-Life: Opposing Force',\n",
       "  'App ID': '50',\n",
       "  'App Type': 'Game',\n",
       "  'Developer': 'Gearbox Software',\n",
       "  'Publisher': 'Valve',\n",
       "  'Franchise': 'Half-Life',\n",
       "  'Supported Systems': 'WindowsmacOSLinux',\n",
       "  'Technologies': 'Engine.GoldSource',\n",
       "  'Last Change Number': '25635694',\n",
       "  'Last Record Update': '9 October 2024 – 20:46:47 UTC()',\n",
       "  'Release Date': '1 November 1999 – 08:00:00 UTC()',\n",
       "  'gamedir': 'gearbox',\n",
       "  'metacritic_name': 'Half-Life: Opposing Force',\n",
       "  'icon': 'steam/games/icon_opfor',\n",
       "  'icon2': 'steam/games/icon_opfor_dull',\n",
       "  'primarycache': '51',\n",
       "  'dependantOnApp': 'Half-Life(70)',\n",
       "  'serverbrowsername': 'Opposing Force',\n",
       "  'vacmacmodulecache': 'SteamDB Unknown App 160 [UNPUBLISHED]',\n",
       "  'vacmodulecache': 'SteamDB Unknown App 202 [UNPUBLISHED]',\n",
       "  'vacmodulefilename': 'sourceinit.dat',\n",
       "  'hdaddon': 'SteamDB Unknown App 96 [UNPUBLISHED]',\n",
       "  'developer_url': 'http://www.gearboxsoftware.com',\n",
       "  'Store Release Date': '1 November 1999()',\n",
       "  'community_hub_visible': 'Yes',\n",
       "  'Primary Genre': 'Action(1)',\n",
       "  'Store Genres': 'Action(1)',\n",
       "  'Steam Release Date': '1 November 1999 – 08:00:00 UTC()',\n",
       "  'Store Asset Modification Time': '17 September 2019 – 21:06:01 UTC() (1568754361)',\n",
       "  'review_score': '9',\n",
       "  'review_percentage': '95',\n",
       "  'Detected Technologies(?)': 'Engine.GoldSource,SDK.CEF,SDK.Miles_Sound_System,SDK.SDL',\n",
       "  'Steam Deck Compatibility': \"category:Playabletest_timestamp:13 May 2022 – 00:00:00 UTCtested_build_id:5429885configuration:supported_inputgamepadrequires_manual_keyboard_invoke1requires_non_controller_launcher_nav0primary_player_is_controller_slot_00non_deck_display_glyphs1small_text1requires_internet_for_setup0requires_internet_for_singleplayer0recommended_runtimenativerequires_h2640gamescope_frame_limiter_not_supported0Some functionality is not accessible when using the default controller configuration, requiring use of the touchscreen or virtual keyboard, or a community configurationThis game sometimes shows mouse, keyboard, or non-Steam-Deck controller iconsEntering some text requires manually invoking the on-screen keyboardSome in-game text is small and may be difficult to readThis game doesn't support Steam Deck's native display resolution and may experience degraded performanceThis game's default graphics configuration performs well on Steam Deck\",\n",
       "  'Content Descriptors': 'Frequent Violence or Gore(2), General Mature Content(5)',\n",
       "  'Anti-Cheat Software': 'VAC (Valve Anti-Cheat)'},\n",
       " {'game_name': 'Half-Life',\n",
       "  'App ID': '70',\n",
       "  'App Type': 'Game',\n",
       "  'Developer': 'Valve',\n",
       "  'Publisher': 'Valve',\n",
       "  'Franchise': 'Half-Life',\n",
       "  'Supported Systems': 'WindowsmacOSLinux',\n",
       "  'Technologies': 'Engine.GoldSource',\n",
       "  'Last Change Number': '25886221',\n",
       "  'Last Record Update': '24 October 2024 – 23:10:04 UTC()',\n",
       "  'Release Date': '19 November 1998 – 08:00:00 UTC()',\n",
       "  'metacritic_url': 'pc/halflife',\n",
       "  'gamedir': 'valve',\n",
       "  'metacritic_name': 'Half-Life',\n",
       "  'icon': 'steam/games/icon_hl',\n",
       "  'controller_support': 'full',\n",
       "  'icon2': 'steam/games/icon_hl_dull',\n",
       "  'metacritic_score': '96',\n",
       "  'metacritic_fullurl': 'https://www.metacritic.com/game/pc/half-life?ftag=MCD-06-10aaa1f',\n",
       "  'primarycache': '1',\n",
       "  'serverbrowsername': 'Half-Life',\n",
       "  'vacmacmodulecache': 'SteamDB Unknown App 160 [UNPUBLISHED]',\n",
       "  'vacmodulecache': 'SteamDB Unknown App 202 [UNPUBLISHED]',\n",
       "  'vacmodulefilename': 'sourceinit.dat',\n",
       "  'developer_url': 'http://www.valvesoftware.com',\n",
       "  'MinClientVersion': '12 January 1970 – 13:46:40 UTC() (1000000)',\n",
       "  'Store Release Date': '8 November 1998()',\n",
       "  'community_hub_visible': 'Yes',\n",
       "  'Primary Genre': 'Action(1)',\n",
       "  'Store Genres': 'Action(1)',\n",
       "  'Steam Release Date': '19 November 1998 – 08:00:00 UTC()',\n",
       "  'Store Asset Modification Time': '18 November 2023 – 00:57:47 UTC() (1700269067)',\n",
       "  'Aliases': 'hl1',\n",
       "  'review_score': '9',\n",
       "  'review_percentage': '96',\n",
       "  'Detected Technologies(?)': 'Engine.GoldSource,SDK.CEF,SDK.Miles_Sound_System,SDK.SDL',\n",
       "  'Steam Deck Compatibility': \"category:Verifiedtest_timestamp:18 November 2023 – 00:00:00 UTCtested_build_id:12705647configuration:supported_inputgamepadrequires_manual_keyboard_invoke0requires_non_controller_launcher_nav0primary_player_is_controller_slot_01non_deck_display_glyphs0small_text0requires_internet_for_setup0requires_internet_for_singleplayer0recommended_runtimenativerequires_h2640gamescope_frame_limiter_not_supported0All functionality is accessible when using the default controller configurationThis game shows Steam Deck controller iconsIn-game interface text is legible on Steam DeckThis game's default graphics configuration performs well on Steam DeckNote: This game does not default to external Bluetooth/USB controllers on Deck, and may require manually switching the active controller via the Quick Access Menu\",\n",
       "  'Content Descriptors': 'Frequent Violence or Gore(2), General Mature Content(5)',\n",
       "  'controllertagwizard': 'Yes',\n",
       "  'Anti-Cheat Software': 'VAC (Valve Anti-Cheat)'},\n",
       " {'game_name': 'Counter-Strike: Condition Zero',\n",
       "  'App ID': '80',\n",
       "  'App Type': 'Game',\n",
       "  'Developer': 'Valve',\n",
       "  'Publisher': 'Valve',\n",
       "  'Supported Systems': 'WindowsmacOSLinux',\n",
       "  'Technologies': 'Engine.GoldSource',\n",
       "  'Last Change Number': '25861700',\n",
       "  'Last Record Update': '23 October 2024 – 16:46:45 UTC()',\n",
       "  'Release Date': '1 March 2004 – 08:00:00 UTC()',\n",
       "  'metacritic_url': 'pc/counterstrikeconditionzero',\n",
       "  'gamedir': 'czero',\n",
       "  'metacritic_name': 'Counter-Strike: Condition Zero',\n",
       "  'icon': 'steam/games/icon_cz',\n",
       "  'icon2': 'steam/games/icon_cz_dull',\n",
       "  'metacritic_score': '65',\n",
       "  'metacritic_fullurl': 'https://www.metacritic.com/game/pc/counter-strike-condition-zero?ftag=MCD-06-10aaa1f',\n",
       "  'primarycache': '81',\n",
       "  'dependantOnApp': 'Counter-Strike(10)',\n",
       "  'state': 'eStateAvailable',\n",
       "  'serverbrowsername': 'Condition Zero',\n",
       "  'vacmacmodulecache': 'SteamDB Unknown App 160 [UNPUBLISHED]',\n",
       "  'vacmodulecache': 'SteamDB Unknown App 202 [UNPUBLISHED]',\n",
       "  'vacmodulefilename': 'sourceinit.dat',\n",
       "  'developer_url': 'http://www.valvesoftware.com/',\n",
       "  'initialsellpage': '#SteamUI_CZ_InitialPage',\n",
       "  'preloadsellpage': '#SteamUI_CZ_PreloadPage',\n",
       "  'releasedpage': '#SteamUI_CZ_ReleasedPage',\n",
       "  'sellpage': '#SteamUI_CZ_SellPage',\n",
       "  'no_revenue_accumulation': 'Yes',\n",
       "  'Store Release Date': '1 March 2004()',\n",
       "  'community_hub_visible': 'Yes',\n",
       "  'Primary Genre': 'Action(1)',\n",
       "  'Store Genres': 'Action(1)',\n",
       "  'Steam Release Date': '1 March 2004 – 08:00:00 UTC()',\n",
       "  'Store Asset Modification Time': '4 September 2019 – 08:09:59 UTC() (1567584599)',\n",
       "  'review_score': '8',\n",
       "  'review_percentage': '91',\n",
       "  'Detected Technologies(?)': 'Engine.GoldSource,SDK.CEF,SDK.Miles_Sound_System,SDK.SDL',\n",
       "  'Steam Deck Compatibility': \"category:Playabletest_timestamp:8 October 2022 – 00:00:00 UTCtested_build_id:5424826configuration:supported_inputgamepadrequires_manual_keyboard_invoke1requires_non_controller_launcher_nav0primary_player_is_controller_slot_00non_deck_display_glyphs1small_text0requires_internet_for_setup0requires_internet_for_singleplayer0recommended_runtimenativerequires_h2640gamescope_frame_limiter_not_supported0Some functionality is not accessible when using the default controller configuration, requiring use of the touchscreen or virtual keyboard, or a community configurationThis game sometimes shows mouse, keyboard, or non-Steam-Deck controller iconsEntering some text requires manually invoking the on-screen keyboardThis game doesn't support Steam Deck's native display resolution and may experience degraded performanceIn-game interface text is legible on Steam DeckThis game's default graphics configuration performs well on Steam Deck\",\n",
       "  'Content Descriptors': 'Frequent Violence or Gore(2), General Mature Content(5)',\n",
       "  'Anti-Cheat Software': 'VAC (Valve Anti-Cheat)'}]"
      ]
     },
     "execution_count": 44,
     "metadata": {},
     "output_type": "execute_result"
    }
   ],
   "source": [
    "item_info_dict_list"
   ]
  },
  {
   "cell_type": "code",
   "execution_count": null,
   "id": "8e2a42a5-6db6-4be5-991c-bb1ea138f6f9",
   "metadata": {},
   "outputs": [],
   "source": []
  },
  {
   "cell_type": "code",
   "execution_count": null,
   "id": "82d30cdb-9cda-4798-9105-e6ba0fafa32f",
   "metadata": {},
   "outputs": [],
   "source": []
  }
 ],
 "metadata": {
  "kernelspec": {
   "display_name": "PyCharm (trainingField)",
   "language": "python",
   "name": "pycharm-d26ea172"
  },
  "language_info": {
   "codemirror_mode": {
    "name": "ipython",
    "version": 3
   },
   "file_extension": ".py",
   "mimetype": "text/x-python",
   "name": "python",
   "nbconvert_exporter": "python",
   "pygments_lexer": "ipython3",
   "version": "3.8.17"
  }
 },
 "nbformat": 4,
 "nbformat_minor": 5
}
