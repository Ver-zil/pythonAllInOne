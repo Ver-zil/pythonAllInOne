{
 "cells": [
  {
   "cell_type": "markdown",
   "id": "e481626f-5dcc-442d-a9b1-841724eedec5",
   "metadata": {},
   "source": [
    "# using selenium to get the netease data"
   ]
  },
  {
   "cell_type": "code",
   "execution_count": 1,
   "id": "19a2ef76-4ca2-48c6-a237-e09032c67e0e",
   "metadata": {},
   "outputs": [],
   "source": [
    "import re\n",
    "import parsel\n",
    "import os\n",
    "from selenium import webdriver\n",
    "from selenium.webdriver.chrome.service import Service\n",
    "from selenium.webdriver.common.by import By"
   ]
  },
  {
   "cell_type": "code",
   "execution_count": 2,
   "id": "eb144285-d15c-4b30-bf5a-7ee51ced6c5b",
   "metadata": {},
   "outputs": [],
   "source": [
    "# 指定 ChromeDriver 的路径\n",
    "service = Service(executable_path=r'D:\\tool\\toolkit\\chromedriver.exe')\n",
    "\n",
    "# 使用 Service 创建 WebDriver 实例\n",
    "driver = webdriver.Chrome(service=service)\n",
    "\n",
    "url = 'https://music.163.com/#/song?id=4331344'\n",
    "save_path = r'D:\\cache\\coding\\python\\crawler\\\\'\n",
    "driver.get(url)"
   ]
  },
  {
   "cell_type": "code",
   "execution_count": null,
   "id": "b671e66e-0dca-4d10-9172-8dc3ea0b387e",
   "metadata": {},
   "outputs": [],
   "source": [
    "driver.switch_to.frame(0)\n",
    "comment_list = driver.find_elements(By.CSS_SELECTOR, '.itm')"
   ]
  },
  {
   "cell_type": "code",
   "execution_count": null,
   "id": "7d0b6c0f-5240-4ca1-89be-bb0551b40dcd",
   "metadata": {
    "tags": []
   },
   "outputs": [],
   "source": [
    "for comment in comment_list:\n",
    "    print(comment.find_element(By.CSS_SELECTOR, '.cnt').text)"
   ]
  },
  {
   "cell_type": "code",
   "execution_count": null,
   "id": "61301f58-57f3-431b-a9e9-a7d8fd862b42",
   "metadata": {},
   "outputs": [],
   "source": []
  },
  {
   "cell_type": "code",
   "execution_count": null,
   "id": "5e5a1d6b-3996-4156-92fb-85137de8c4c1",
   "metadata": {
    "tags": []
   },
   "outputs": [],
   "source": [
    "div_list"
   ]
  }
 ],
 "metadata": {
  "kernelspec": {
   "display_name": "PyCharm (trainingField)",
   "language": "python",
   "name": "pycharm-d26ea172"
  },
  "language_info": {
   "codemirror_mode": {
    "name": "ipython",
    "version": 3
   },
   "file_extension": ".py",
   "mimetype": "text/x-python",
   "name": "python",
   "nbconvert_exporter": "python",
   "pygments_lexer": "ipython3",
   "version": "3.8.17"
  }
 },
 "nbformat": 4,
 "nbformat_minor": 5
}
