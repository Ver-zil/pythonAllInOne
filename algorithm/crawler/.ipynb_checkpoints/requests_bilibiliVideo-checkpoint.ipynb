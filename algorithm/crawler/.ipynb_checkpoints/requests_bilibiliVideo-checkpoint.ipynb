{
 "cells": [
  {
   "cell_type": "markdown",
   "id": "d2ae7b7e-f40b-4534-888f-c86d6cbb00d6",
   "metadata": {},
   "source": [
    "# using requests to get mid video\n",
    "## eg. bilibili"
   ]
  },
  {
   "cell_type": "code",
   "execution_count": 1,
   "id": "cd9d4350-f409-4e66-a0e2-b358b6c18182",
   "metadata": {},
   "outputs": [],
   "source": [
    "import requests\n",
    "import re\n",
    "import parsel\n",
    "import httpx\n",
    "import os\n",
    "import pprint\n",
    "import json\n",
    "import subprocess"
   ]
  },
  {
   "cell_type": "code",
   "execution_count": 2,
   "id": "b0c461d2-54e1-4b18-a940-65ab234d445c",
   "metadata": {},
   "outputs": [],
   "source": [
    "os.environ['PATH'] += os.pathsep + 'D:\\tool\\toolkit'\n",
    "\n",
    "url = 'https://www.bilibili.com/video/BV1jT421k7eH/?spm_id_from=333.999.0.0'\n",
    "\n",
    "headers = {'Referer': 'https://space.bilibili.com/111082383/video',\n",
    "    'User-Agent':\n",
    "        'Mozilla/5.0 (Windows NT 10.0; Win64; x64) AppleWebKit/537.36 (KHTML, like Gecko) Chrome/126.0.0.0 Safari/537.36'\n",
    "}\n",
    "\n",
    "save_path = r'D:\\cache\\coding\\python\\crawler\\\\'\n",
    "\n",
    "# client = httpx.Client(http2=True)\n",
    "# response = client.get(url, timeout=30)\n",
    "response = requests.get(url, headers=headers)"
   ]
  },
  {
   "cell_type": "code",
   "execution_count": 3,
   "id": "9f2c5c74-f626-46c8-81ae-d1aee8519e99",
   "metadata": {
    "tags": []
   },
   "outputs": [],
   "source": [
    "video_meta_data = re.findall('window.__playinfo__=(.*?)</script>',response.text)[0]\n",
    "video_json = json.loads(video_meta_data)\n",
    "audio_data = video_json['data']['dash']['audio'][0]['baseUrl']\n",
    "video_data = video_json['data']['dash']['video'][0]['baseUrl']"
   ]
  },
  {
   "cell_type": "code",
   "execution_count": 4,
   "id": "ffe11f76-e83d-466b-bb5d-866ca9faa9cf",
   "metadata": {
    "tags": []
   },
   "outputs": [],
   "source": [
    "vid_path = save_path + 'bilibiliVideo.mp4'\n",
    "aud_path = save_path + 'bilibiliVideo.mp3'\n",
    "\n",
    "with open(vid_path, mode='wb') as f:\n",
    "    video = requests.get(video_data, headers=headers).content\n",
    "    f.write(video)\n",
    "f.close()\n",
    "\n",
    "with open(aud_path, mode='wb') as f:\n",
    "    audio = requests.get(audio_data, headers=headers).content\n",
    "    f.write(audio)\n",
    "f.close()"
   ]
  },
  {
   "cell_type": "code",
   "execution_count": 5,
   "id": "cb4c1b87-0d0e-4d8a-a8f7-03c9fa415021",
   "metadata": {},
   "outputs": [
    {
     "data": {
      "text/plain": [
       "CompletedProcess(args='ffmpeg -i D:\\\\cache\\\\coding\\\\python\\\\crawler\\\\\\\\bilibiliVideo.mp4 -i D:\\\\cache\\\\coding\\\\python\\\\crawler\\\\\\\\bilibiliVideo.mp3 -acodec copy -vcodec copy D:\\\\cache\\\\coding\\\\python\\\\crawler\\\\\\\\biliVid.mp4', returncode=1)"
      ]
     },
     "execution_count": 5,
     "metadata": {},
     "output_type": "execute_result"
    }
   ],
   "source": [
    "ffmpeg = f'ffmpeg -i {vid_path} -i {aud_path} -acodec copy -vcodec copy {save_path + \"biliVid.mp4\"}'\n",
    "subprocess.run(ffmpeg)"
   ]
  },
  {
   "cell_type": "code",
   "execution_count": 6,
   "id": "ce59975c-d15b-4107-b61c-79adbbd85238",
   "metadata": {
    "tags": []
   },
   "outputs": [
    {
     "data": {
      "text/plain": [
       "'https://cn-sccd-fx-01-02.bilivideo.com/upgcxcode/27/69/1603706927/1603706927-1-100110.m4s?e=ig8euxZM2rNcNbdlhoNvNC8BqJIzNbfqXBvEqxTEto8BTrNvN0GvT90W5JZMkX_YN0MvXg8gNEV4NC8xNEV4N03eN0B5tZlqNxTEto8BTrNvNeZVuJ10Kj_g2UB02J0mN0B5tZlqNCNEto8BTrNvNC7MTX502C8f2jmMQJ6mqF2fka1mqx6gqj0eN0B599M=&uipk=5&nbs=1&deadline=1720100816&gen=playurlv2&os=bcache&oi=1899403863&trid=00005322f6f1f0e644b4846c1d313aab04c3u&mid=0&platform=pc&og=cos&upsig=5bab8fc905fbd42b459d274507927f10&uparams=e,uipk,nbs,deadline,gen,os,oi,trid,mid,platform,og&cdnid=3902&bvc=vod&nettype=0&orderid=0,3&buvid=&build=0&f=u_0_0&agrr=0&bw=10864&np=151404637&logo=80000000'"
      ]
     },
     "execution_count": 6,
     "metadata": {},
     "output_type": "execute_result"
    }
   ],
   "source": [
    "video_data"
   ]
  },
  {
   "cell_type": "code",
   "execution_count": 7,
   "id": "d04da4bd-13db-4906-8fab-a9b40531d968",
   "metadata": {
    "tags": []
   },
   "outputs": [
    {
     "data": {
      "text/plain": [
       "<Response [200]>"
      ]
     },
     "execution_count": 7,
     "metadata": {},
     "output_type": "execute_result"
    }
   ],
   "source": [
    "requests.get(video_data, headers=headers)"
   ]
  }
 ],
 "metadata": {
  "kernelspec": {
   "display_name": "PyCharm (trainingField)",
   "language": "python",
   "name": "pycharm-d26ea172"
  },
  "language_info": {
   "codemirror_mode": {
    "name": "ipython",
    "version": 3
   },
   "file_extension": ".py",
   "mimetype": "text/x-python",
   "name": "python",
   "nbconvert_exporter": "python",
   "pygments_lexer": "ipython3",
   "version": "3.8.17"
  }
 },
 "nbformat": 4,
 "nbformat_minor": 5
}
