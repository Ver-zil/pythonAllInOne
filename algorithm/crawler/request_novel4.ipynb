{
 "cells": [
  {
   "cell_type": "markdown",
   "id": "26cbb341-06f7-494d-8314-b14b051678a8",
   "metadata": {},
   "source": [
    "# Download a novel by searching"
   ]
  },
  {
   "cell_type": "code",
   "execution_count": null,
   "id": "fbc0f9d5-c85d-4a3f-869a-dd27bf98d25e",
   "metadata": {},
   "outputs": [],
   "source": []
  }
 ],
 "metadata": {
  "kernelspec": {
   "display_name": "PyCharm (trainingField)",
   "language": "python",
   "name": "pycharm-d26ea172"
  },
  "language_info": {
   "codemirror_mode": {
    "name": "ipython",
    "version": 3
   },
   "file_extension": ".py",
   "mimetype": "text/x-python",
   "name": "python",
   "nbconvert_exporter": "python",
   "pygments_lexer": "ipython3",
   "version": "3.8.17"
  }
 },
 "nbformat": 4,
 "nbformat_minor": 5
}
